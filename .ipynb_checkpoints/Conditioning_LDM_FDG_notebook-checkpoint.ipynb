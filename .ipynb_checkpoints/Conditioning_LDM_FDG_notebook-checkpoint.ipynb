{
 "cells": [
  {
   "cell_type": "markdown",
   "metadata": {
    "id": "S1wc2jB9zktK"
   },
   "source": [
    "# Import Relevant Libaries"
   ]
  },
  {
   "cell_type": "markdown",
   "metadata": {
    "id": "sqzeDU9DyLtN"
   },
   "source": [
    "## Install relevant versions"
   ]
  },
  {
   "cell_type": "code",
   "execution_count": 1,
   "metadata": {
    "colab": {
     "base_uri": "https://localhost:8080/"
    },
    "id": "kUdX6yk2yLGY",
    "outputId": "87901f30-8951-40d2-92be-1fee36c4e0bd",
    "scrolled": true
   },
   "outputs": [
    {
     "name": "stdout",
     "output_type": "stream",
     "text": [
      "Defaulting to user installation because normal site-packages is not writeable\n",
      "Requirement already satisfied: monai==1.4.0 in /home/bryanlopez/.local/lib/python3.10/site-packages (1.4.0)\n",
      "Requirement already satisfied: torch>=1.9 in /home/bryanlopez/.local/lib/python3.10/site-packages (from monai==1.4.0) (2.7.0)\n",
      "Requirement already satisfied: numpy<2.0,>=1.24 in /home/bryanlopez/.local/lib/python3.10/site-packages (from monai==1.4.0) (1.26.4)\n",
      "Requirement already satisfied: nvidia-cuda-cupti-cu12==12.6.80 in /home/bryanlopez/.local/lib/python3.10/site-packages (from torch>=1.9->monai==1.4.0) (12.6.80)\n",
      "Requirement already satisfied: networkx in /home/bryanlopez/.local/lib/python3.10/site-packages (from torch>=1.9->monai==1.4.0) (3.3)\n",
      "Requirement already satisfied: nvidia-curand-cu12==10.3.7.77 in /home/bryanlopez/.local/lib/python3.10/site-packages (from torch>=1.9->monai==1.4.0) (10.3.7.77)\n",
      "Requirement already satisfied: nvidia-cufft-cu12==11.3.0.4 in /home/bryanlopez/.local/lib/python3.10/site-packages (from torch>=1.9->monai==1.4.0) (11.3.0.4)\n",
      "Requirement already satisfied: nvidia-cudnn-cu12==9.5.1.17 in /home/bryanlopez/.local/lib/python3.10/site-packages (from torch>=1.9->monai==1.4.0) (9.5.1.17)\n",
      "Requirement already satisfied: sympy>=1.13.3 in /home/bryanlopez/.local/lib/python3.10/site-packages (from torch>=1.9->monai==1.4.0) (1.14.0)\n",
      "Requirement already satisfied: nvidia-cuda-nvrtc-cu12==12.6.77 in /home/bryanlopez/.local/lib/python3.10/site-packages (from torch>=1.9->monai==1.4.0) (12.6.77)\n",
      "Requirement already satisfied: filelock in /home/bryanlopez/.local/lib/python3.10/site-packages (from torch>=1.9->monai==1.4.0) (3.13.1)\n",
      "Requirement already satisfied: nvidia-nvjitlink-cu12==12.6.85 in /home/bryanlopez/.local/lib/python3.10/site-packages (from torch>=1.9->monai==1.4.0) (12.6.85)\n",
      "Requirement already satisfied: nvidia-cublas-cu12==12.6.4.1 in /home/bryanlopez/.local/lib/python3.10/site-packages (from torch>=1.9->monai==1.4.0) (12.6.4.1)\n",
      "Requirement already satisfied: typing-extensions>=4.10.0 in /home/bryanlopez/.local/lib/python3.10/site-packages (from torch>=1.9->monai==1.4.0) (4.12.2)\n",
      "Requirement already satisfied: nvidia-cufile-cu12==1.11.1.6 in /home/bryanlopez/.local/lib/python3.10/site-packages (from torch>=1.9->monai==1.4.0) (1.11.1.6)\n",
      "Requirement already satisfied: nvidia-nccl-cu12==2.26.2 in /home/bryanlopez/.local/lib/python3.10/site-packages (from torch>=1.9->monai==1.4.0) (2.26.2)\n",
      "Requirement already satisfied: nvidia-nvtx-cu12==12.6.77 in /home/bryanlopez/.local/lib/python3.10/site-packages (from torch>=1.9->monai==1.4.0) (12.6.77)\n",
      "Requirement already satisfied: nvidia-cusolver-cu12==11.7.1.2 in /home/bryanlopez/.local/lib/python3.10/site-packages (from torch>=1.9->monai==1.4.0) (11.7.1.2)\n",
      "Requirement already satisfied: fsspec in /home/bryanlopez/.local/lib/python3.10/site-packages (from torch>=1.9->monai==1.4.0) (2024.6.1)\n",
      "Requirement already satisfied: triton==3.3.0 in /home/bryanlopez/.local/lib/python3.10/site-packages (from torch>=1.9->monai==1.4.0) (3.3.0)\n",
      "Requirement already satisfied: nvidia-cuda-runtime-cu12==12.6.77 in /home/bryanlopez/.local/lib/python3.10/site-packages (from torch>=1.9->monai==1.4.0) (12.6.77)\n",
      "Requirement already satisfied: jinja2 in /home/bryanlopez/.local/lib/python3.10/site-packages (from torch>=1.9->monai==1.4.0) (3.1.5)\n",
      "Requirement already satisfied: nvidia-cusparselt-cu12==0.6.3 in /home/bryanlopez/.local/lib/python3.10/site-packages (from torch>=1.9->monai==1.4.0) (0.6.3)\n",
      "Requirement already satisfied: nvidia-cusparse-cu12==12.5.4.2 in /home/bryanlopez/.local/lib/python3.10/site-packages (from torch>=1.9->monai==1.4.0) (12.5.4.2)\n",
      "Requirement already satisfied: setuptools>=40.8.0 in /usr/lib/python3/dist-packages (from triton==3.3.0->torch>=1.9->monai==1.4.0) (59.6.0)\n",
      "Requirement already satisfied: mpmath<1.4,>=1.1.0 in /home/bryanlopez/.local/lib/python3.10/site-packages (from sympy>=1.13.3->torch>=1.9->monai==1.4.0) (1.3.0)\n",
      "Requirement already satisfied: MarkupSafe>=2.0 in /home/bryanlopez/.local/lib/python3.10/site-packages (from jinja2->torch>=1.9->monai==1.4.0) (3.0.2)\n",
      "Defaulting to user installation because normal site-packages is not writeable\n",
      "Requirement already satisfied: pandas==2.0.3 in /home/bryanlopez/.local/lib/python3.10/site-packages (2.0.3)\n",
      "Requirement already satisfied: pytz>=2020.1 in /usr/lib/python3/dist-packages (from pandas==2.0.3) (2022.1)\n",
      "Requirement already satisfied: tzdata>=2022.1 in /home/bryanlopez/.local/lib/python3.10/site-packages (from pandas==2.0.3) (2025.1)\n",
      "Requirement already satisfied: numpy>=1.21.0 in /home/bryanlopez/.local/lib/python3.10/site-packages (from pandas==2.0.3) (1.26.4)\n",
      "Requirement already satisfied: python-dateutil>=2.8.2 in /home/bryanlopez/.local/lib/python3.10/site-packages (from pandas==2.0.3) (2.9.0.post0)\n",
      "Requirement already satisfied: six>=1.5 in /usr/lib/python3/dist-packages (from python-dateutil>=2.8.2->pandas==2.0.3) (1.16.0)\n",
      "Defaulting to user installation because normal site-packages is not writeable\n",
      "Requirement already satisfied: nibabel in /home/bryanlopez/.local/lib/python3.10/site-packages (5.3.2)\n",
      "Requirement already satisfied: typing-extensions>=4.6 in /home/bryanlopez/.local/lib/python3.10/site-packages (from nibabel) (4.12.2)\n",
      "Requirement already satisfied: packaging>=20 in /home/bryanlopez/.local/lib/python3.10/site-packages (from nibabel) (24.2)\n",
      "Requirement already satisfied: numpy>=1.22 in /home/bryanlopez/.local/lib/python3.10/site-packages (from nibabel) (1.26.4)\n",
      "Requirement already satisfied: importlib-resources>=5.12 in /home/bryanlopez/.local/lib/python3.10/site-packages (from nibabel) (6.5.2)\n"
     ]
    }
   ],
   "source": [
    "!pip install monai==1.4.0\n",
    "!pip install pandas==2.0.3\n",
    "!pip install nibabel"
   ]
  },
  {
   "cell_type": "code",
   "execution_count": 2,
   "metadata": {
    "id": "PEyc_6zgzdti"
   },
   "outputs": [
    {
     "name": "stderr",
     "output_type": "stream",
     "text": [
      "<frozen importlib._bootstrap_external>:1184: FutureWarning: The cuda.cudart module is deprecated and will be removed in a future release, please switch to use the cuda.bindings.runtime module instead.\n"
     ]
    }
   ],
   "source": [
    "import os\n",
    "from torch.utils.data import DataLoader\n",
    "import torch\n",
    "import torch.optim as optim\n",
    "from monai.networks.schedulers import DDPMScheduler\n",
    "from monai.inferers.inferer import DiffusionInferer\n",
    "from torch.optim.lr_scheduler import MultiStepLR\n",
    "import pandas as pd\n",
    "from monai.bundle import ConfigParser\n",
    "import nibabel as nib\n",
    "from torch.utils.data import Dataset\n",
    "\n",
    "#%% Setup device\n",
    "device = torch.device(\"cuda\" if torch.cuda.is_available() else \"cpu\")\n"
   ]
  },
  {
   "cell_type": "markdown",
   "metadata": {
    "id": "zdWgeigBzxQj"
   },
   "source": [
    "# Setup Paths"
   ]
  },
  {
   "cell_type": "code",
   "execution_count": null,
   "metadata": {
    "colab": {
     "base_uri": "https://localhost:8080/"
    },
    "id": "_Rj3bRZJr7Ah",
    "outputId": "9030a13e-5c23-4a23-fc4b-b17d5e15d456"
   },
   "outputs": [
    {
     "name": "stdout",
     "output_type": "stream",
     "text": [
      "Mounted at /content/drive\n"
     ]
    }
   ],
   "source": [
    "from google.colab import drive\n",
    "drive.mount('/content/drive')"
   ]
  },
  {
   "cell_type": "code",
   "execution_count": 17,
   "metadata": {
    "id": "cJMifHVQMRBw"
   },
   "outputs": [],
   "source": [
    "# Setup paths to uploaded training data\n",
    "training_dataset = 'TrainingData_Key/slices_40_anon'"
   ]
  },
  {
   "cell_type": "code",
   "execution_count": 18,
   "metadata": {
    "id": "WaMZXip1z3in"
   },
   "outputs": [],
   "source": [
    "# Setup paths to uploaded config files\n",
    "config_path_ = 'Configs/configs'"
   ]
  },
  {
   "cell_type": "code",
   "execution_count": 19,
   "metadata": {
    "id": "llWPoBwITGKB"
   },
   "outputs": [],
   "source": [
    "pretrained_path = 'trained_vAE_epoch_148.pt'"
   ]
  },
  {
   "cell_type": "markdown",
   "metadata": {
    "id": "xnHJYgzfz-e5"
   },
   "source": [
    "# Dataset Function"
   ]
  },
  {
   "cell_type": "markdown",
   "metadata": {
    "id": "SuHFM-3D0ozk"
   },
   "source": [
    "## Function to create datasets"
   ]
  },
  {
   "cell_type": "code",
   "execution_count": 20,
   "metadata": {
    "id": "RaPzYi1l0oP3"
   },
   "outputs": [],
   "source": [
    "def create_datasets(df, data_dir):\n",
    "\n",
    "    df['Linked_Files_Anon'] = df['Linked_Files_Anon'].apply(lambda x: os.path.join(data_dir, x))\n",
    "\n",
    "    train_data = df[df['Set']=='Train']\n",
    "    valid_data = df[df['Set']=='Validation']\n",
    "    test_data = df[df['Set']=='Test']\n",
    "\n",
    "    train_data = train_data.reset_index()\n",
    "    valid_data = valid_data.reset_index()\n",
    "    test_data = test_data.reset_index()\n",
    "\n",
    "    train_dataset = FDG_Dataset(data=train_data)\n",
    "    valid_dataset = FDG_Dataset(data=valid_data)\n",
    "    test_dataset = FDG_Dataset(data=test_data)\n",
    "\n",
    "    return train_dataset, valid_dataset, test_dataset"
   ]
  },
  {
   "cell_type": "markdown",
   "metadata": {
    "id": "6NlYdO7z0wEJ"
   },
   "source": [
    "## Dataset function"
   ]
  },
  {
   "cell_type": "code",
   "execution_count": 21,
   "metadata": {
    "id": "GjYq0SO90x7r"
   },
   "outputs": [],
   "source": [
    "class FDG_Dataset(Dataset):\n",
    "    \"\"\"\n",
    "    A PyTorch Dataset to load NIfTI files from a provided list of file paths.\n",
    "    \"\"\"\n",
    "    def __init__(self, data):\n",
    "        \"\"\"\n",
    "        Args:\n",
    "            file_paths (list of Path objects): List of paths to the NIfTI files.\n",
    "        \"\"\"\n",
    "\n",
    "        self.csv = data\n",
    "\n",
    "    def __len__(self):\n",
    "        return len(self.csv)\n",
    "\n",
    "    def __getitem__(self, idx):\n",
    "        if torch.is_tensor(idx):\n",
    "            idx = idx.tolist()\n",
    "\n",
    "        diag = self.csv.loc[idx, 'DX_encoded']\n",
    "        diag = torch.tensor(diag)\n",
    "        file_name = self.csv.loc[idx, 'Linked_Files_Anon']\n",
    "\n",
    "        nii_img  = nib.load(file_name)\n",
    "        nii_data = nii_img.get_fdata()\n",
    "\n",
    "        nii_data_scaled = (nii_data - nii_data.min())/(nii_data.max() - nii_data.min())\n",
    "        image_tensor = torch.from_numpy(nii_data_scaled)\n",
    "\n",
    "        return image_tensor, diag\n"
   ]
  },
  {
   "cell_type": "markdown",
   "metadata": {
    "id": "ZwVD1scRz-2W"
   },
   "source": [
    "# Load Pre-trained VAE"
   ]
  },
  {
   "cell_type": "code",
   "execution_count": 22,
   "metadata": {
    "colab": {
     "base_uri": "https://localhost:8080/"
    },
    "id": "SKMhun_Z1rs5",
    "outputId": "2c358534-49df-4c95-dcad-11526ff15c5d",
    "scrolled": true
   },
   "outputs": [
    {
     "data": {
      "text/plain": [
       "AutoencoderKL(\n",
       "  (encoder): Encoder(\n",
       "    (blocks): ModuleList(\n",
       "      (0): Convolution(\n",
       "        (conv): Conv2d(1, 64, kernel_size=(3, 3), stride=(1, 1), padding=(1, 1))\n",
       "      )\n",
       "      (1-2): 2 x AEKLResBlock(\n",
       "        (norm1): GroupNorm(32, 64, eps=1e-06, affine=True)\n",
       "        (conv1): Convolution(\n",
       "          (conv): Conv2d(64, 64, kernel_size=(3, 3), stride=(1, 1), padding=(1, 1))\n",
       "        )\n",
       "        (norm2): GroupNorm(32, 64, eps=1e-06, affine=True)\n",
       "        (conv2): Convolution(\n",
       "          (conv): Conv2d(64, 64, kernel_size=(3, 3), stride=(1, 1), padding=(1, 1))\n",
       "        )\n",
       "        (nin_shortcut): Identity()\n",
       "      )\n",
       "      (3): AEKLDownsample(\n",
       "        (pad): AsymmetricPad()\n",
       "        (conv): Convolution(\n",
       "          (conv): Conv2d(64, 64, kernel_size=(3, 3), stride=(2, 2))\n",
       "        )\n",
       "      )\n",
       "      (4): AEKLResBlock(\n",
       "        (norm1): GroupNorm(32, 64, eps=1e-06, affine=True)\n",
       "        (conv1): Convolution(\n",
       "          (conv): Conv2d(64, 128, kernel_size=(3, 3), stride=(1, 1), padding=(1, 1))\n",
       "        )\n",
       "        (norm2): GroupNorm(32, 128, eps=1e-06, affine=True)\n",
       "        (conv2): Convolution(\n",
       "          (conv): Conv2d(128, 128, kernel_size=(3, 3), stride=(1, 1), padding=(1, 1))\n",
       "        )\n",
       "        (nin_shortcut): Convolution(\n",
       "          (conv): Conv2d(64, 128, kernel_size=(1, 1), stride=(1, 1))\n",
       "        )\n",
       "      )\n",
       "      (5): AEKLResBlock(\n",
       "        (norm1): GroupNorm(32, 128, eps=1e-06, affine=True)\n",
       "        (conv1): Convolution(\n",
       "          (conv): Conv2d(128, 128, kernel_size=(3, 3), stride=(1, 1), padding=(1, 1))\n",
       "        )\n",
       "        (norm2): GroupNorm(32, 128, eps=1e-06, affine=True)\n",
       "        (conv2): Convolution(\n",
       "          (conv): Conv2d(128, 128, kernel_size=(3, 3), stride=(1, 1), padding=(1, 1))\n",
       "        )\n",
       "        (nin_shortcut): Identity()\n",
       "      )\n",
       "      (6): AEKLDownsample(\n",
       "        (pad): AsymmetricPad()\n",
       "        (conv): Convolution(\n",
       "          (conv): Conv2d(128, 128, kernel_size=(3, 3), stride=(2, 2))\n",
       "        )\n",
       "      )\n",
       "      (7): AEKLResBlock(\n",
       "        (norm1): GroupNorm(32, 128, eps=1e-06, affine=True)\n",
       "        (conv1): Convolution(\n",
       "          (conv): Conv2d(128, 256, kernel_size=(3, 3), stride=(1, 1), padding=(1, 1))\n",
       "        )\n",
       "        (norm2): GroupNorm(32, 256, eps=1e-06, affine=True)\n",
       "        (conv2): Convolution(\n",
       "          (conv): Conv2d(256, 256, kernel_size=(3, 3), stride=(1, 1), padding=(1, 1))\n",
       "        )\n",
       "        (nin_shortcut): Convolution(\n",
       "          (conv): Conv2d(128, 256, kernel_size=(1, 1), stride=(1, 1))\n",
       "        )\n",
       "      )\n",
       "      (8-9): 2 x AEKLResBlock(\n",
       "        (norm1): GroupNorm(32, 256, eps=1e-06, affine=True)\n",
       "        (conv1): Convolution(\n",
       "          (conv): Conv2d(256, 256, kernel_size=(3, 3), stride=(1, 1), padding=(1, 1))\n",
       "        )\n",
       "        (norm2): GroupNorm(32, 256, eps=1e-06, affine=True)\n",
       "        (conv2): Convolution(\n",
       "          (conv): Conv2d(256, 256, kernel_size=(3, 3), stride=(1, 1), padding=(1, 1))\n",
       "        )\n",
       "        (nin_shortcut): Identity()\n",
       "      )\n",
       "      (10): SpatialAttentionBlock(\n",
       "        (norm): GroupNorm(32, 256, eps=1e-06, affine=True)\n",
       "        (attn): SABlock(\n",
       "          (out_proj): Linear(in_features=256, out_features=256, bias=True)\n",
       "          (to_q): Linear(in_features=256, out_features=256, bias=True)\n",
       "          (to_k): Linear(in_features=256, out_features=256, bias=True)\n",
       "          (to_v): Linear(in_features=256, out_features=256, bias=True)\n",
       "          (qkv): Identity()\n",
       "          (input_rearrange): Rearrange('b h (l d) -> b l h d', l=1)\n",
       "          (out_rearrange): Rearrange('b l h d -> b h (l d)')\n",
       "          (drop_output): Dropout(p=0.0, inplace=False)\n",
       "          (drop_weights): Dropout(p=0.0, inplace=False)\n",
       "        )\n",
       "      )\n",
       "      (11): AEKLResBlock(\n",
       "        (norm1): GroupNorm(32, 256, eps=1e-06, affine=True)\n",
       "        (conv1): Convolution(\n",
       "          (conv): Conv2d(256, 256, kernel_size=(3, 3), stride=(1, 1), padding=(1, 1))\n",
       "        )\n",
       "        (norm2): GroupNorm(32, 256, eps=1e-06, affine=True)\n",
       "        (conv2): Convolution(\n",
       "          (conv): Conv2d(256, 256, kernel_size=(3, 3), stride=(1, 1), padding=(1, 1))\n",
       "        )\n",
       "        (nin_shortcut): Identity()\n",
       "      )\n",
       "      (12): GroupNorm(32, 256, eps=1e-06, affine=True)\n",
       "      (13): Convolution(\n",
       "        (conv): Conv2d(256, 1, kernel_size=(3, 3), stride=(1, 1), padding=(1, 1))\n",
       "      )\n",
       "    )\n",
       "  )\n",
       "  (decoder): Decoder(\n",
       "    (blocks): ModuleList(\n",
       "      (0): Convolution(\n",
       "        (conv): Conv2d(1, 256, kernel_size=(3, 3), stride=(1, 1), padding=(1, 1))\n",
       "      )\n",
       "      (1): AEKLResBlock(\n",
       "        (norm1): GroupNorm(32, 256, eps=1e-06, affine=True)\n",
       "        (conv1): Convolution(\n",
       "          (conv): Conv2d(256, 256, kernel_size=(3, 3), stride=(1, 1), padding=(1, 1))\n",
       "        )\n",
       "        (norm2): GroupNorm(32, 256, eps=1e-06, affine=True)\n",
       "        (conv2): Convolution(\n",
       "          (conv): Conv2d(256, 256, kernel_size=(3, 3), stride=(1, 1), padding=(1, 1))\n",
       "        )\n",
       "        (nin_shortcut): Identity()\n",
       "      )\n",
       "      (2): SpatialAttentionBlock(\n",
       "        (norm): GroupNorm(32, 256, eps=1e-06, affine=True)\n",
       "        (attn): SABlock(\n",
       "          (out_proj): Linear(in_features=256, out_features=256, bias=True)\n",
       "          (to_q): Linear(in_features=256, out_features=256, bias=True)\n",
       "          (to_k): Linear(in_features=256, out_features=256, bias=True)\n",
       "          (to_v): Linear(in_features=256, out_features=256, bias=True)\n",
       "          (qkv): Identity()\n",
       "          (input_rearrange): Rearrange('b h (l d) -> b l h d', l=1)\n",
       "          (out_rearrange): Rearrange('b l h d -> b h (l d)')\n",
       "          (drop_output): Dropout(p=0.0, inplace=False)\n",
       "          (drop_weights): Dropout(p=0.0, inplace=False)\n",
       "        )\n",
       "      )\n",
       "      (3-5): 3 x AEKLResBlock(\n",
       "        (norm1): GroupNorm(32, 256, eps=1e-06, affine=True)\n",
       "        (conv1): Convolution(\n",
       "          (conv): Conv2d(256, 256, kernel_size=(3, 3), stride=(1, 1), padding=(1, 1))\n",
       "        )\n",
       "        (norm2): GroupNorm(32, 256, eps=1e-06, affine=True)\n",
       "        (conv2): Convolution(\n",
       "          (conv): Conv2d(256, 256, kernel_size=(3, 3), stride=(1, 1), padding=(1, 1))\n",
       "        )\n",
       "        (nin_shortcut): Identity()\n",
       "      )\n",
       "      (6): UpSample(\n",
       "        (upsample_non_trainable): Upsample(scale_factor=(2.0, 2.0), mode='nearest')\n",
       "        (postconv): Convolution(\n",
       "          (conv): Conv2d(256, 256, kernel_size=(3, 3), stride=(1, 1), padding=(1, 1))\n",
       "        )\n",
       "      )\n",
       "      (7): AEKLResBlock(\n",
       "        (norm1): GroupNorm(32, 256, eps=1e-06, affine=True)\n",
       "        (conv1): Convolution(\n",
       "          (conv): Conv2d(256, 128, kernel_size=(3, 3), stride=(1, 1), padding=(1, 1))\n",
       "        )\n",
       "        (norm2): GroupNorm(32, 128, eps=1e-06, affine=True)\n",
       "        (conv2): Convolution(\n",
       "          (conv): Conv2d(128, 128, kernel_size=(3, 3), stride=(1, 1), padding=(1, 1))\n",
       "        )\n",
       "        (nin_shortcut): Convolution(\n",
       "          (conv): Conv2d(256, 128, kernel_size=(1, 1), stride=(1, 1))\n",
       "        )\n",
       "      )\n",
       "      (8): AEKLResBlock(\n",
       "        (norm1): GroupNorm(32, 128, eps=1e-06, affine=True)\n",
       "        (conv1): Convolution(\n",
       "          (conv): Conv2d(128, 128, kernel_size=(3, 3), stride=(1, 1), padding=(1, 1))\n",
       "        )\n",
       "        (norm2): GroupNorm(32, 128, eps=1e-06, affine=True)\n",
       "        (conv2): Convolution(\n",
       "          (conv): Conv2d(128, 128, kernel_size=(3, 3), stride=(1, 1), padding=(1, 1))\n",
       "        )\n",
       "        (nin_shortcut): Identity()\n",
       "      )\n",
       "      (9): UpSample(\n",
       "        (upsample_non_trainable): Upsample(scale_factor=(2.0, 2.0), mode='nearest')\n",
       "        (postconv): Convolution(\n",
       "          (conv): Conv2d(128, 128, kernel_size=(3, 3), stride=(1, 1), padding=(1, 1))\n",
       "        )\n",
       "      )\n",
       "      (10): AEKLResBlock(\n",
       "        (norm1): GroupNorm(32, 128, eps=1e-06, affine=True)\n",
       "        (conv1): Convolution(\n",
       "          (conv): Conv2d(128, 64, kernel_size=(3, 3), stride=(1, 1), padding=(1, 1))\n",
       "        )\n",
       "        (norm2): GroupNorm(32, 64, eps=1e-06, affine=True)\n",
       "        (conv2): Convolution(\n",
       "          (conv): Conv2d(64, 64, kernel_size=(3, 3), stride=(1, 1), padding=(1, 1))\n",
       "        )\n",
       "        (nin_shortcut): Convolution(\n",
       "          (conv): Conv2d(128, 64, kernel_size=(1, 1), stride=(1, 1))\n",
       "        )\n",
       "      )\n",
       "      (11): AEKLResBlock(\n",
       "        (norm1): GroupNorm(32, 64, eps=1e-06, affine=True)\n",
       "        (conv1): Convolution(\n",
       "          (conv): Conv2d(64, 64, kernel_size=(3, 3), stride=(1, 1), padding=(1, 1))\n",
       "        )\n",
       "        (norm2): GroupNorm(32, 64, eps=1e-06, affine=True)\n",
       "        (conv2): Convolution(\n",
       "          (conv): Conv2d(64, 64, kernel_size=(3, 3), stride=(1, 1), padding=(1, 1))\n",
       "        )\n",
       "        (nin_shortcut): Identity()\n",
       "      )\n",
       "      (12): GroupNorm(32, 64, eps=1e-06, affine=True)\n",
       "      (13): Convolution(\n",
       "        (conv): Conv2d(64, 1, kernel_size=(3, 3), stride=(1, 1), padding=(1, 1))\n",
       "      )\n",
       "    )\n",
       "  )\n",
       "  (quant_conv_mu): Convolution(\n",
       "    (conv): Conv2d(1, 1, kernel_size=(1, 1), stride=(1, 1))\n",
       "  )\n",
       "  (quant_conv_log_sigma): Convolution(\n",
       "    (conv): Conv2d(1, 1, kernel_size=(1, 1), stride=(1, 1))\n",
       "  )\n",
       "  (post_quant_conv): Convolution(\n",
       "    (conv): Conv2d(1, 1, kernel_size=(1, 1), stride=(1, 1))\n",
       "  )\n",
       ")"
      ]
     },
     "execution_count": 22,
     "metadata": {},
     "output_type": "execute_result"
    }
   ],
   "source": [
    "# Config filename\n",
    "config_file=\"train_autoencoder.json\"\n",
    "\n",
    "# Weights Filename\n",
    "weights_file=\"trained_vAE_epoch_148.pt\"\n",
    "\n",
    "# Setup config filepath\n",
    "config_path = os.path.join(config_path_, config_file)\n",
    "\n",
    "# Setup weights filepath\n",
    "weights_path = os.path.join(pretrained_path, weights_file)\n",
    "\n",
    "# Read config\n",
    "config = ConfigParser()\n",
    "config.read_config(config_path)\n",
    "\n",
    "# Parse model\n",
    "vAE_model = config.get_parsed_content(\"gnetwork\")\n",
    "\n",
    "# Load checkpoint\n",
    "checkpoint = torch.load(weights_path, map_location=device)\n",
    "\n",
    "# Key remapping\n",
    "key_mapping = {\n",
    "    \"encoder.blocks.10.to_q.weight\": \"encoder.blocks.10.attn.to_q.weight\",\n",
    "    \"encoder.blocks.10.to_q.bias\": \"encoder.blocks.10.attn.to_q.bias\",\n",
    "    \"encoder.blocks.10.to_k.weight\": \"encoder.blocks.10.attn.to_k.weight\",\n",
    "    \"encoder.blocks.10.to_k.bias\": \"encoder.blocks.10.attn.to_k.bias\",\n",
    "    \"encoder.blocks.10.to_v.weight\": \"encoder.blocks.10.attn.to_v.weight\",\n",
    "    \"encoder.blocks.10.to_v.bias\": \"encoder.blocks.10.attn.to_v.bias\",\n",
    "    \"encoder.blocks.10.proj_attn.weight\": \"encoder.blocks.10.attn.out_proj.weight\",\n",
    "    \"encoder.blocks.10.proj_attn.bias\": \"encoder.blocks.10.attn.out_proj.bias\",\n",
    "    \"decoder.blocks.2.to_q.weight\": \"decoder.blocks.2.attn.to_q.weight\",\n",
    "    \"decoder.blocks.2.to_q.bias\": \"decoder.blocks.2.attn.to_q.bias\",\n",
    "    \"decoder.blocks.2.to_k.weight\": \"decoder.blocks.2.attn.to_k.weight\",\n",
    "    \"decoder.blocks.2.to_k.bias\": \"decoder.blocks.2.attn.to_k.bias\",\n",
    "    \"decoder.blocks.2.to_v.weight\": \"decoder.blocks.2.attn.to_v.weight\",\n",
    "    \"decoder.blocks.2.to_v.bias\": \"decoder.blocks.2.attn.to_v.bias\",\n",
    "    \"decoder.blocks.2.proj_attn.weight\": \"decoder.blocks.2.attn.out_proj.weight\",\n",
    "    \"decoder.blocks.2.proj_attn.bias\": \"decoder.blocks.2.attn.out_proj.bias\",\n",
    "    \"decoder.blocks.6.conv.conv.weight\": \"decoder.blocks.6.postconv.conv.weight\",\n",
    "    \"decoder.blocks.6.conv.conv.bias\": \"decoder.blocks.6.postconv.conv.bias\",\n",
    "    \"decoder.blocks.9.conv.conv.weight\": \"decoder.blocks.9.postconv.conv.weight\",\n",
    "    \"decoder.blocks.9.conv.conv.bias\": \"decoder.blocks.9.postconv.conv.bias\",\n",
    "}\n",
    "\n",
    "# Remap keys\n",
    "new_state_dict = {key_mapping.get(k, k): v for k, v in checkpoint.items()}\n",
    "\n",
    "# Load state\n",
    "vAE_model.load_state_dict(new_state_dict, strict=False)\n",
    "vAE_model.to(device)\n"
   ]
  },
  {
   "cell_type": "markdown",
   "metadata": {
    "id": "oW1aCgAaz_X6"
   },
   "source": [
    "#Create LDM"
   ]
  },
  {
   "cell_type": "code",
   "execution_count": 23,
   "metadata": {
    "id": "jkc4UJ3j1r_a"
   },
   "outputs": [],
   "source": [
    "# Load config file\n",
    "config_file=\"train_cond_diffusion.json\"\n",
    "\n",
    "# Setup config filepath\n",
    "config_path = os.path.join(config_path_, config_file)\n",
    "\n",
    "# Read config\n",
    "config = ConfigParser()\n",
    "config.read_config(config_path)\n",
    "\n",
    "# Parse model\n",
    "LDM_model = config.get_parsed_content(\"diffusion\")"
   ]
  },
  {
   "cell_type": "markdown",
   "metadata": {
    "id": "Fv1ynkCaz_q8"
   },
   "source": [
    "#Setup parameters of LDM"
   ]
  },
  {
   "cell_type": "code",
   "execution_count": 24,
   "metadata": {
    "id": "wmpkX1meddb_"
   },
   "outputs": [],
   "source": [
    "import math\n",
    "\n",
    "class CombinedScheduler(torch.optim.lr_scheduler._LRScheduler):\n",
    "\n",
    "    def __init__(self, optimizer, warmup_epochs, training_epochs, cooldown_epochs, init_lr, fin_lr, last_epoch=-1):\n",
    "\n",
    "        self.warmup_epochs = warmup_epochs\n",
    "\n",
    "        self.training_epochs = training_epochs\n",
    "\n",
    "        self.cooldown_epochs = cooldown_epochs\n",
    "\n",
    "        self.init_lr = init_lr\n",
    "\n",
    "        self.fin_lr = fin_lr\n",
    "\n",
    "        super().__init__(optimizer, last_epoch=last_epoch)\n",
    "\n",
    "    def get_lr(self):\n",
    "\n",
    "        epoch = self.last_epoch\n",
    "\n",
    "        # Warmup phase: linearly increase from 1e-8 to init_lr\n",
    "\n",
    "        if epoch < self.warmup_epochs:\n",
    "\n",
    "            progress = epoch / self.warmup_epochs\n",
    "\n",
    "            return [1e-8 + (self.init_lr - 1e-8) * progress for _ in self.base_lrs]\n",
    "\n",
    "        # Training phase: cosine decay from init_lr to fin_lr\n",
    "\n",
    "        elif epoch < self.warmup_epochs + self.training_epochs:\n",
    "\n",
    "            progress = (epoch - self.warmup_epochs) / self.training_epochs\n",
    "\n",
    "            cosine_decay = 0.5 * (1 + math.cos(progress * math.pi))\n",
    "\n",
    "            return [self.fin_lr + (self.init_lr - self.fin_lr) * cosine_decay for _ in self.base_lrs]\n",
    "\n",
    "        # Cooldown phase: linearly decrease from fin_lr to 1e-8\n",
    "\n",
    "        elif epoch < self.warmup_epochs + self.training_epochs + self.cooldown_epochs:\n",
    "\n",
    "            progress = (epoch - self.warmup_epochs - self.training_epochs) / self.cooldown_epochs\n",
    "\n",
    "            return [self.fin_lr + (1e-8 - self.fin_lr) * progress for _ in self.base_lrs]\n",
    "\n",
    "        # Beyond all phases: hold at the minimum lr (1e-8)\n",
    "\n",
    "        else:\n",
    "\n",
    "            return [1e-8 for _ in self.base_lrs]\n"
   ]
  },
  {
   "cell_type": "code",
   "execution_count": 25,
   "metadata": {
    "colab": {
     "base_uri": "https://localhost:8080/"
    },
    "id": "kP_b01jt1Hnv",
    "outputId": "1708c9ec-2057-45c9-a7bd-6d81555a4721"
   },
   "outputs": [],
   "source": [
    "# Datasets / Dataloader\n",
    "data = os.path.join('TrainingData_Key/data_key_anon.csv')\n",
    "data = pd.read_csv(data)\n",
    "train_dataset, valid_dataset, test_dataset = create_datasets(data, training_dataset)\n",
    "\n",
    "batch_size = 64\n",
    "\n",
    "train_loader = DataLoader(train_dataset, batch_size=batch_size, shuffle=True, num_workers=4, persistent_workers=True)\n",
    "valid_loader = DataLoader(valid_dataset, batch_size=batch_size, shuffle=False, num_workers=4, persistent_workers=True)\n",
    "\n",
    "# Epochs\n",
    "training_epochs = 500\n",
    "\n",
    "# Learning rate\n",
    "init_lr = 5e-05\n",
    "fin_lr = 1e-08\n",
    "# Optimizer\n",
    "optimiser = optim.Adam(LDM_model.parameters(), lr=init_lr)\n",
    "# Learning rate scheduler\n",
    "#lr_scheduler = CombinedScheduler(optimiser, 1, training_epochs, 20, init_lr, fin_lr)\n",
    "\n",
    "# LDM Scheduler\n",
    "ldm_scheduler = DDPMScheduler(schedule=\"scaled_linear_beta\", num_train_timesteps=1000, beta_start=0.0015, beta_end= 0.0195)\n",
    "\n",
    "# Inferer\n",
    "inferer = DiffusionInferer(ldm_scheduler)\n",
    "\n",
    "# Output folder\n",
    "output_folder = '/content/output'"
   ]
  },
  {
   "cell_type": "markdown",
   "metadata": {
    "id": "-AWQRL1g1km-"
   },
   "source": [
    "# Code to train conditional LDM"
   ]
  },
  {
   "cell_type": "code",
   "execution_count": 26,
   "metadata": {
    "colab": {
     "base_uri": "https://localhost:8080/",
     "height": 1000
    },
    "id": "nHiQzLZV1mWL",
    "outputId": "87760388-8856-477e-b296-8c23519958c6",
    "scrolled": true
   },
   "outputs": [
    {
     "name": "stderr",
     "output_type": "stream",
     "text": [
      "/tmp/ipykernel_1497842/3192518168.py:12: FutureWarning: `torch.cuda.amp.GradScaler(args...)` is deprecated. Please use `torch.amp.GradScaler('cuda', args...)` instead.\n",
      "  scaler = GradScaler()\n",
      "/tmp/ipykernel_1497842/3192518168.py:42: FutureWarning: `torch.cuda.amp.autocast(args...)` is deprecated. Please use `torch.amp.autocast('cuda', args...)` instead.\n",
      "  with autocast(enabled=True):\n",
      "Epoch 0: 100%|█| 16/16 [00:11<00:00,  1.45it/s, loss=tensor(0.9516, de\n",
      "/tmp/ipykernel_1497842/3192518168.py:80: FutureWarning: `torch.cuda.amp.autocast(args...)` is deprecated. Please use `torch.amp.autocast('cuda', args...)` instead.\n",
      "  with autocast(enabled=True):\n",
      "/tmp/ipykernel_1497842/3192518168.py:108: FutureWarning: `torch.cuda.amp.autocast(args...)` is deprecated. Please use `torch.amp.autocast('cuda', args...)` instead.\n",
      "  with autocast(enabled=True):\n"
     ]
    },
    {
     "name": "stdout",
     "output_type": "stream",
     "text": [
      "Epoch 0, Training Loss: 7.79178911447525, Validation Loss: 0.9435189664363861\n"
     ]
    },
    {
     "name": "stderr",
     "output_type": "stream",
     "text": [
      "100%|███████████████████████████████████████████████████████████████████████████████| 1000/1000 [00:29<00:00, 34.37it/s]\n"
     ]
    },
    {
     "data": {
      "image/png": "[encoded data removed]",
      "text/plain": [
       "<Figure size 200x200 with 1 Axes>"
      ]
     },
     "metadata": {},
     "output_type": "display_data"
    },
    {
     "name": "stderr",
     "output_type": "stream",
     "text": [
      "Epoch 1: 100%|█| 16/16 [00:09<00:00,  1.62it/s, loss=tensor(0.8740, de\n"
     ]
    },
    {
     "name": "stdout",
     "output_type": "stream",
     "text": [
      "Epoch 1, Training Loss: 7.31707176566124, Validation Loss: 0.8775885999202728\n"
     ]
    },
    {
     "name": "stderr",
     "output_type": "stream",
     "text": [
      "100%|███████████████████████████████████████████████████████████████████████████████| 1000/1000 [00:29<00:00, 34.36it/s]\n"
     ]
    },
    {
     "data": {
      "image/png": "[encoded data removed]",
      "text/plain": [
       "<Figure size 200x200 with 1 Axes>"
      ]
     },
     "metadata": {},
     "output_type": "display_data"
    },
    {
     "name": "stderr",
     "output_type": "stream",
     "text": [
      "Epoch 2: 100%|█| 16/16 [00:10<00:00,  1.47it/s, loss=tensor(0.8024, de\n"
     ]
    },
    {
     "name": "stdout",
     "output_type": "stream",
     "text": [
      "Epoch 2, Training Loss: 6.773859649896622, Validation Loss: 0.8162178993225098\n"
     ]
    },
    {
     "name": "stderr",
     "output_type": "stream",
     "text": [
      "100%|███████████████████████████████████████████████████████████████████████████████| 1000/1000 [00:29<00:00, 34.44it/s]\n"
     ]
    },
    {
     "data": {
      "image/png": "[encoded data removed]",
      "text/plain": [
       "<Figure size 200x200 with 1 Axes>"
      ]
     },
     "metadata": {},
     "output_type": "display_data"
    },
    {
     "name": "stderr",
     "output_type": "stream",
     "text": [
      "Epoch 3: 100%|█| 16/16 [00:10<00:00,  1.48it/s, loss=tensor(0.7452, de\n"
     ]
    },
    {
     "name": "stdout",
     "output_type": "stream",
     "text": [
      "Epoch 3, Training Loss: 6.189709931612015, Validation Loss: 0.7359184324741364\n"
     ]
    },
    {
     "name": "stderr",
     "output_type": "stream",
     "text": [
      "100%|███████████████████████████████████████████████████████████████████████████████| 1000/1000 [00:27<00:00, 35.77it/s]\n"
     ]
    },
    {
     "data": {
      "image/png": "[encoded data removed]",
      "text/plain": [
       "<Figure size 200x200 with 1 Axes>"
      ]
     },
     "metadata": {},
     "output_type": "display_data"
    },
    {
     "name": "stderr",
     "output_type": "stream",
     "text": [
      "Epoch 4: 100%|█| 16/16 [00:10<00:00,  1.47it/s, loss=tensor(0.6630, de\n"
     ]
    },
    {
     "name": "stdout",
     "output_type": "stream",
     "text": [
      "Epoch 4, Training Loss: 5.622833460569382, Validation Loss: 0.6544782221317291\n"
     ]
    },
    {
     "name": "stderr",
     "output_type": "stream",
     "text": [
      "100%|███████████████████████████████████████████████████████████████████████████████| 1000/1000 [00:28<00:00, 34.83it/s]\n"
     ]
    },
    {
     "data": {
      "image/png": "[encoded data removed]",
      "text/plain": [
       "<Figure size 200x200 with 1 Axes>"
      ]
     },
     "metadata": {},
     "output_type": "display_data"
    },
    {
     "name": "stderr",
     "output_type": "stream",
     "text": [
      "Epoch 5: 100%|█| 16/16 [00:10<00:00,  1.48it/s, loss=tensor(0.5812, de\n"
     ]
    },
    {
     "name": "stdout",
     "output_type": "stream",
     "text": [
      "Epoch 5, Training Loss: 5.047958314418793, Validation Loss: 0.5862341821193695\n"
     ]
    },
    {
     "name": "stderr",
     "output_type": "stream",
     "text": [
      "100%|███████████████████████████████████████████████████████████████████████████████| 1000/1000 [00:28<00:00, 34.96it/s]\n"
     ]
    },
    {
     "data": {
      "image/png": "[encoded data removed]",
      "text/plain": [
       "<Figure size 200x200 with 1 Axes>"
      ]
     },
     "metadata": {},
     "output_type": "display_data"
    },
    {
     "name": "stderr",
     "output_type": "stream",
     "text": [
      "Epoch 6: 100%|█| 16/16 [00:10<00:00,  1.48it/s, loss=tensor(0.5372, de\n"
     ]
    },
    {
     "name": "stdout",
     "output_type": "stream",
     "text": [
      "Epoch 6, Training Loss: 4.4975385665893555, Validation Loss: 0.5281317234039307\n"
     ]
    },
    {
     "name": "stderr",
     "output_type": "stream",
     "text": [
      "100%|███████████████████████████████████████████████████████████████████████████████| 1000/1000 [00:28<00:00, 34.83it/s]\n"
     ]
    },
    {
     "data": {
      "image/png": "[encoded data removed]",
      "text/plain": [
       "<Figure size 200x200 with 1 Axes>"
      ]
     },
     "metadata": {},
     "output_type": "display_data"
    },
    {
     "name": "stderr",
     "output_type": "stream",
     "text": [
      "Epoch 7: 100%|█| 16/16 [00:10<00:00,  1.48it/s, loss=tensor(0.4602, de\n"
     ]
    },
    {
     "name": "stdout",
     "output_type": "stream",
     "text": [
      "Epoch 7, Training Loss: 3.9163393676280975, Validation Loss: 0.4555194079875946\n"
     ]
    },
    {
     "name": "stderr",
     "output_type": "stream",
     "text": [
      "100%|███████████████████████████████████████████████████████████████████████████████| 1000/1000 [00:28<00:00, 34.90it/s]\n"
     ]
    },
    {
     "data": {
      "image/png": "[encoded data removed]",
      "text/plain": [
       "<Figure size 200x200 with 1 Axes>"
      ]
     },
     "metadata": {},
     "output_type": "display_data"
    },
    {
     "name": "stderr",
     "output_type": "stream",
     "text": [
      "Epoch 8: 100%|█| 16/16 [00:10<00:00,  1.48it/s, loss=tensor(0.3965, de\n"
     ]
    },
    {
     "name": "stdout",
     "output_type": "stream",
     "text": [
      "Epoch 8, Training Loss: 3.4925383180379868, Validation Loss: 0.4191891700029373\n"
     ]
    },
    {
     "name": "stderr",
     "output_type": "stream",
     "text": [
      "100%|███████████████████████████████████████████████████████████████████████████████| 1000/1000 [00:28<00:00, 34.67it/s]\n"
     ]
    },
    {
     "data": {
      "image/png": "[encoded data removed]",
      "text/plain": [
       "<Figure size 200x200 with 1 Axes>"
      ]
     },
     "metadata": {},
     "output_type": "display_data"
    },
    {
     "name": "stderr",
     "output_type": "stream",
     "text": [
      "Epoch 9: 100%|█| 16/16 [00:10<00:00,  1.58it/s, loss=tensor(0.3607, de\n"
     ]
    },
    {
     "name": "stdout",
     "output_type": "stream",
     "text": [
      "Epoch 9, Training Loss: 3.0737691670656204, Validation Loss: 0.37428922951221466\n"
     ]
    },
    {
     "name": "stderr",
     "output_type": "stream",
     "text": [
      "100%|███████████████████████████████████████████████████████████████████████████████| 1000/1000 [00:28<00:00, 34.58it/s]\n"
     ]
    },
    {
     "data": {
      "image/png": "[encoded data removed]",
      "text/plain": [
       "<Figure size 200x200 with 1 Axes>"
      ]
     },
     "metadata": {},
     "output_type": "display_data"
    },
    {
     "name": "stderr",
     "output_type": "stream",
     "text": [
      "Epoch 10: 100%|█| 16/16 [00:10<00:00,  1.48it/s, loss=tensor(0.2989, d\n"
     ]
    },
    {
     "name": "stdout",
     "output_type": "stream",
     "text": [
      "Epoch 10, Training Loss: 2.6775870323181152, Validation Loss: 0.30589669942855835\n"
     ]
    },
    {
     "name": "stderr",
     "output_type": "stream",
     "text": [
      "100%|███████████████████████████████████████████████████████████████████████████████| 1000/1000 [00:28<00:00, 34.89it/s]\n"
     ]
    },
    {
     "data": {
      "image/png": "[encoded data removed]",
      "text/plain": [
       "<Figure size 200x200 with 1 Axes>"
      ]
     },
     "metadata": {},
     "output_type": "display_data"
    },
    {
     "name": "stderr",
     "output_type": "stream",
     "text": [
      "Epoch 11: 100%|█| 16/16 [00:10<00:00,  1.48it/s, loss=tensor(0.2862, d\n"
     ]
    },
    {
     "name": "stdout",
     "output_type": "stream",
     "text": [
      "Epoch 11, Training Loss: 2.423922508955002, Validation Loss: 0.2691267430782318\n"
     ]
    },
    {
     "name": "stderr",
     "output_type": "stream",
     "text": [
      "IOPub message rate exceeded.█████▏                                                   | 352/1000 [00:09<00:17, 37.17it/s]\n",
      "The Jupyter server will temporarily stop sending output\n",
      "to the client in order to avoid crashing it.\n",
      "To change this limit, set the config variable\n",
      "`--ServerApp.iopub_msg_rate_limit`.\n",
      "\n",
      "Current values:\n",
      "ServerApp.iopub_msg_rate_limit=1000.0 (msgs/sec)\n",
      "ServerApp.rate_limit_window=3.0 (secs)\n",
      "\n",
      "Epoch 163: 100%|█| 16/16 [00:10<00:00,  1.48it/s, loss=tensor(0.0021, \n"
     ]
    },
    {
     "name": "stdout",
     "output_type": "stream",
     "text": [
      "Epoch 163, Training Loss: 0.020276478782761842, Validation Loss: 0.0022469551768153906\n"
     ]
    },
    {
     "name": "stderr",
     "output_type": "stream",
     "text": [
      "Epoch 164: 100%|█| 16/16 [00:10<00:00,  1.47it/s, loss=tensor(0.0018, \n"
     ]
    },
    {
     "name": "stdout",
     "output_type": "stream",
     "text": [
      "Epoch 164, Training Loss: 0.016951475176028907, Validation Loss: 0.002693910850211978\n"
     ]
    },
    {
     "name": "stderr",
     "output_type": "stream",
     "text": [
      "Epoch 165: 100%|█| 16/16 [00:10<00:00,  1.48it/s, loss=tensor(0.0018, \n"
     ]
    },
    {
     "name": "stdout",
     "output_type": "stream",
     "text": [
      "Epoch 165, Training Loss: 0.017645336862187833, Validation Loss: 0.002078189398162067\n"
     ]
    },
    {
     "name": "stderr",
     "output_type": "stream",
     "text": [
      "Epoch 166: 100%|█| 16/16 [00:10<00:00,  1.47it/s, loss=tensor(0.0021, \n"
     ]
    },
    {
     "name": "stdout",
     "output_type": "stream",
     "text": [
      "Epoch 166, Training Loss: 0.01829971600091085, Validation Loss: 0.0019577297498472035\n"
     ]
    },
    {
     "name": "stderr",
     "output_type": "stream",
     "text": [
      "Epoch 167: 100%|█| 16/16 [00:10<00:00,  1.48it/s, loss=tensor(0.0024, \n"
     ]
    },
    {
     "name": "stdout",
     "output_type": "stream",
     "text": [
      "Epoch 167, Training Loss: 0.0207128293113783, Validation Loss: 0.002146272687241435\n"
     ]
    },
    {
     "name": "stderr",
     "output_type": "stream",
     "text": [
      "Epoch 168: 100%|█| 16/16 [00:09<00:00,  1.63it/s, loss=tensor(0.0027, \n"
     ]
    },
    {
     "name": "stdout",
     "output_type": "stream",
     "text": [
      "Epoch 168, Training Loss: 0.019376223674044013, Validation Loss: 0.0019864211790263653\n"
     ]
    },
    {
     "name": "stderr",
     "output_type": "stream",
     "text": [
      "Epoch 169: 100%|█| 16/16 [00:10<00:00,  1.48it/s, loss=tensor(0.0034, \n"
     ]
    },
    {
     "name": "stdout",
     "output_type": "stream",
     "text": [
      "Epoch 169, Training Loss: 0.02697579556843266, Validation Loss: 0.00238569313660264\n"
     ]
    },
    {
     "name": "stderr",
     "output_type": "stream",
     "text": [
      "Epoch 170: 100%|█| 16/16 [00:10<00:00,  1.47it/s, loss=tensor(0.0017, \n"
     ]
    },
    {
     "name": "stdout",
     "output_type": "stream",
     "text": [
      "Epoch 170, Training Loss: 0.02535157452803105, Validation Loss: 0.002587866154499352\n"
     ]
    },
    {
     "name": "stderr",
     "output_type": "stream",
     "text": [
      "Epoch 171: 100%|█| 16/16 [00:10<00:00,  1.48it/s, loss=tensor(0.0151, \n"
     ]
    },
    {
     "name": "stdout",
     "output_type": "stream",
     "text": [
      "Epoch 171, Training Loss: 0.035222752252593637, Validation Loss: 0.006565207149833441\n"
     ]
    },
    {
     "name": "stderr",
     "output_type": "stream",
     "text": [
      "Epoch 172: 100%|█| 16/16 [00:10<00:00,  1.47it/s, loss=tensor(0.0054, \n"
     ]
    },
    {
     "name": "stdout",
     "output_type": "stream",
     "text": [
      "Epoch 172, Training Loss: 0.03664576087612659, Validation Loss: 0.004119811928831041\n"
     ]
    },
    {
     "name": "stderr",
     "output_type": "stream",
     "text": [
      "Epoch 173: 100%|█| 16/16 [00:10<00:00,  1.48it/s, loss=tensor(0.0029, \n"
     ]
    },
    {
     "name": "stdout",
     "output_type": "stream",
     "text": [
      "Epoch 173, Training Loss: 0.02803769230376929, Validation Loss: 0.002947887987829745\n"
     ]
    },
    {
     "name": "stderr",
     "output_type": "stream",
     "text": [
      "Epoch 174: 100%|█| 16/16 [00:10<00:00,  1.47it/s, loss=tensor(0.0024, \n"
     ]
    },
    {
     "name": "stdout",
     "output_type": "stream",
     "text": [
      "Epoch 174, Training Loss: 0.03018050134414807, Validation Loss: 0.004470358602702618\n"
     ]
    },
    {
     "name": "stderr",
     "output_type": "stream",
     "text": [
      "Epoch 175: 100%|█| 16/16 [00:10<00:00,  1.49it/s, loss=tensor(0.0022, \n"
     ]
    },
    {
     "name": "stdout",
     "output_type": "stream",
     "text": [
      "Epoch 175, Training Loss: 0.02082203875761479, Validation Loss: 0.0024406769080087543\n"
     ]
    },
    {
     "name": "stderr",
     "output_type": "stream",
     "text": [
      "Epoch 176: 100%|█| 16/16 [00:09<00:00,  1.63it/s, loss=tensor(0.0023, \n"
     ]
    },
    {
     "name": "stdout",
     "output_type": "stream",
     "text": [
      "Epoch 176, Training Loss: 0.01884152280399576, Validation Loss: 0.0019992091110907495\n"
     ]
    },
    {
     "name": "stderr",
     "output_type": "stream",
     "text": [
      "Epoch 177: 100%|█| 16/16 [00:10<00:00,  1.48it/s, loss=tensor(0.0023, \n"
     ]
    },
    {
     "name": "stdout",
     "output_type": "stream",
     "text": [
      "Epoch 177, Training Loss: 0.01819391269236803, Validation Loss: 0.0020903029944747686\n"
     ]
    },
    {
     "name": "stderr",
     "output_type": "stream",
     "text": [
      "Epoch 178: 100%|█| 16/16 [00:10<00:00,  1.47it/s, loss=tensor(0.0017, \n"
     ]
    },
    {
     "name": "stdout",
     "output_type": "stream",
     "text": [
      "Epoch 178, Training Loss: 0.015254275349434465, Validation Loss: 0.0020834754686802626\n"
     ]
    },
    {
     "name": "stderr",
     "output_type": "stream",
     "text": [
      "Epoch 179: 100%|█| 16/16 [00:10<00:00,  1.48it/s, loss=tensor(0.0020, \n"
     ]
    },
    {
     "name": "stdout",
     "output_type": "stream",
     "text": [
      "Epoch 179, Training Loss: 0.015827306953724474, Validation Loss: 0.002565769711509347\n"
     ]
    },
    {
     "name": "stderr",
     "output_type": "stream",
     "text": [
      "Epoch 180: 100%|█| 16/16 [00:10<00:00,  1.48it/s, loss=tensor(0.0030, \n"
     ]
    },
    {
     "name": "stdout",
     "output_type": "stream",
     "text": [
      "Epoch 180, Training Loss: 0.021348306443542242, Validation Loss: 0.002176078734919429\n"
     ]
    },
    {
     "name": "stderr",
     "output_type": "stream",
     "text": [
      "Epoch 181: 100%|█| 16/16 [00:10<00:00,  1.48it/s, loss=tensor(0.0025, \n"
     ]
    },
    {
     "name": "stdout",
     "output_type": "stream",
     "text": [
      "Epoch 181, Training Loss: 0.022174621815793216, Validation Loss: 0.0038852671859785914\n"
     ]
    },
    {
     "name": "stderr",
     "output_type": "stream",
     "text": [
      "Epoch 182: 100%|█| 16/16 [00:10<00:00,  1.47it/s, loss=tensor(0.0059, \n"
     ]
    },
    {
     "name": "stdout",
     "output_type": "stream",
     "text": [
      "Epoch 182, Training Loss: 0.0236818726407364, Validation Loss: 0.00288983469363302\n"
     ]
    },
    {
     "name": "stderr",
     "output_type": "stream",
     "text": [
      "Epoch 183: 100%|█| 16/16 [00:10<00:00,  1.49it/s, loss=tensor(0.0024, \n"
     ]
    },
    {
     "name": "stdout",
     "output_type": "stream",
     "text": [
      "Epoch 183, Training Loss: 0.021339362836442888, Validation Loss: 0.00196628225967288\n"
     ]
    },
    {
     "name": "stderr",
     "output_type": "stream",
     "text": [
      "Epoch 184: 100%|█| 16/16 [00:09<00:00,  1.62it/s, loss=tensor(0.0048, \n"
     ]
    },
    {
     "name": "stdout",
     "output_type": "stream",
     "text": [
      "Epoch 184, Training Loss: 0.0210321550257504, Validation Loss: 0.0021047379123046994\n"
     ]
    },
    {
     "name": "stderr",
     "output_type": "stream",
     "text": [
      "Epoch 185: 100%|█| 16/16 [00:10<00:00,  1.52it/s, loss=tensor(0.0026, \n"
     ]
    },
    {
     "name": "stdout",
     "output_type": "stream",
     "text": [
      "Epoch 185, Training Loss: 0.023532478720881045, Validation Loss: 0.0038230076897889376\n"
     ]
    },
    {
     "name": "stderr",
     "output_type": "stream",
     "text": [
      "Epoch 186: 100%|█| 16/16 [00:10<00:00,  1.47it/s, loss=tensor(0.0030, \n"
     ]
    },
    {
     "name": "stdout",
     "output_type": "stream",
     "text": [
      "Epoch 186, Training Loss: 0.03512655955273658, Validation Loss: 0.003707906580530107\n"
     ]
    },
    {
     "name": "stderr",
     "output_type": "stream",
     "text": [
      "Epoch 187: 100%|█| 16/16 [00:10<00:00,  1.48it/s, loss=tensor(0.0025, \n"
     ]
    },
    {
     "name": "stdout",
     "output_type": "stream",
     "text": [
      "Epoch 187, Training Loss: 0.022919065319001675, Validation Loss: 0.002180845011025667\n"
     ]
    },
    {
     "name": "stderr",
     "output_type": "stream",
     "text": [
      "Epoch 188: 100%|█| 16/16 [00:10<00:00,  1.48it/s, loss=tensor(0.0081, \n"
     ]
    },
    {
     "name": "stdout",
     "output_type": "stream",
     "text": [
      "Epoch 188, Training Loss: 0.031780472258105874, Validation Loss: 0.0028600041987374425\n"
     ]
    },
    {
     "name": "stderr",
     "output_type": "stream",
     "text": [
      "Epoch 189: 100%|█| 16/16 [00:10<00:00,  1.47it/s, loss=tensor(0.0030, \n"
     ]
    },
    {
     "name": "stdout",
     "output_type": "stream",
     "text": [
      "Epoch 189, Training Loss: 0.03728305408731103, Validation Loss: 0.003507551969960332\n"
     ]
    },
    {
     "name": "stderr",
     "output_type": "stream",
     "text": [
      "Epoch 190: 100%|█| 16/16 [00:10<00:00,  1.48it/s, loss=tensor(0.0054, \n"
     ]
    },
    {
     "name": "stdout",
     "output_type": "stream",
     "text": [
      "Epoch 190, Training Loss: 0.028260311693884432, Validation Loss: 0.0022314087254926562\n"
     ]
    },
    {
     "name": "stderr",
     "output_type": "stream",
     "text": [
      "Epoch 191: 100%|█| 16/16 [00:10<00:00,  1.50it/s, loss=tensor(0.0022, \n"
     ]
    },
    {
     "name": "stdout",
     "output_type": "stream",
     "text": [
      "Epoch 191, Training Loss: 0.025205350248143077, Validation Loss: 0.0024160122266039252\n"
     ]
    },
    {
     "name": "stderr",
     "output_type": "stream",
     "text": [
      "Epoch 192: 100%|█| 16/16 [00:10<00:00,  1.56it/s, loss=tensor(0.0022, \n"
     ]
    },
    {
     "name": "stdout",
     "output_type": "stream",
     "text": [
      "Epoch 192, Training Loss: 0.018592183536384255, Validation Loss: 0.001664469309616834\n"
     ]
    },
    {
     "name": "stderr",
     "output_type": "stream",
     "text": [
      "100%|███████████████████████████████████████████████████████████████████████████████| 1000/1000 [00:28<00:00, 34.94it/s]\n"
     ]
    },
    {
     "data": {
      "image/png": "[encoded data removed]",
      "text/plain": [
       "<Figure size 200x200 with 1 Axes>"
      ]
     },
     "metadata": {},
     "output_type": "display_data"
    },
    {
     "name": "stderr",
     "output_type": "stream",
     "text": [
      "Epoch 193: 100%|█| 16/16 [00:10<00:00,  1.48it/s, loss=tensor(0.0017, \n"
     ]
    },
    {
     "name": "stdout",
     "output_type": "stream",
     "text": [
      "Epoch 193, Training Loss: 0.016155892692040652, Validation Loss: 0.0018014339148066938\n"
     ]
    },
    {
     "name": "stderr",
     "output_type": "stream",
     "text": [
      "Epoch 194: 100%|█| 16/16 [00:10<00:00,  1.48it/s, loss=tensor(0.0018, \n"
     ]
    },
    {
     "name": "stdout",
     "output_type": "stream",
     "text": [
      "Epoch 194, Training Loss: 0.014557229180354625, Validation Loss: 0.0017502474365755916\n"
     ]
    },
    {
     "name": "stderr",
     "output_type": "stream",
     "text": [
      "Epoch 195: 100%|█| 16/16 [00:10<00:00,  1.50it/s, loss=tensor(0.0025, \n"
     ]
    },
    {
     "name": "stdout",
     "output_type": "stream",
     "text": [
      "Epoch 195, Training Loss: 0.016241099394392222, Validation Loss: 0.002145371283404529\n"
     ]
    },
    {
     "name": "stderr",
     "output_type": "stream",
     "text": [
      "Epoch 196: 100%|█| 16/16 [00:09<00:00,  1.62it/s, loss=tensor(0.0057, \n"
     ]
    },
    {
     "name": "stdout",
     "output_type": "stream",
     "text": [
      "Epoch 196, Training Loss: 0.020216963021084666, Validation Loss: 0.0027408062014728785\n"
     ]
    },
    {
     "name": "stderr",
     "output_type": "stream",
     "text": [
      "Epoch 197: 100%|█| 16/16 [00:10<00:00,  1.47it/s, loss=tensor(0.0020, \n"
     ]
    },
    {
     "name": "stdout",
     "output_type": "stream",
     "text": [
      "Epoch 197, Training Loss: 0.023980745463632047, Validation Loss: 0.00199648184934631\n"
     ]
    },
    {
     "name": "stderr",
     "output_type": "stream",
     "text": [
      "Epoch 198: 100%|█| 16/16 [00:10<00:00,  1.48it/s, loss=tensor(0.0026, \n"
     ]
    },
    {
     "name": "stdout",
     "output_type": "stream",
     "text": [
      "Epoch 198, Training Loss: 0.020183231798000634, Validation Loss: 0.0027443761937320232\n"
     ]
    },
    {
     "name": "stderr",
     "output_type": "stream",
     "text": [
      "Epoch 199: 100%|█| 16/16 [00:10<00:00,  1.48it/s, loss=tensor(0.0019, \n"
     ]
    },
    {
     "name": "stdout",
     "output_type": "stream",
     "text": [
      "Epoch 199, Training Loss: 0.018888281716499478, Validation Loss: 0.0020794382435269654\n"
     ]
    },
    {
     "name": "stderr",
     "output_type": "stream",
     "text": [
      "Epoch 200: 100%|█| 16/16 [00:10<00:00,  1.47it/s, loss=tensor(0.0015, \n"
     ]
    },
    {
     "name": "stdout",
     "output_type": "stream",
     "text": [
      "Epoch 200, Training Loss: 0.016970225609838963, Validation Loss: 0.001578663068357855\n"
     ]
    },
    {
     "name": "stderr",
     "output_type": "stream",
     "text": [
      "100%|███████████████████████████████████████████████████████████████████████████████| 1000/1000 [00:28<00:00, 34.96it/s]\n"
     ]
    },
    {
     "data": {
      "image/png": "[encoded data removed]",
      "text/plain": [
       "<Figure size 200x200 with 1 Axes>"
      ]
     },
     "metadata": {},
     "output_type": "display_data"
    },
    {
     "name": "stderr",
     "output_type": "stream",
     "text": [
      "Epoch 201: 100%|█| 16/16 [00:10<00:00,  1.48it/s, loss=tensor(0.0040, \n"
     ]
    },
    {
     "name": "stdout",
     "output_type": "stream",
     "text": [
      "Epoch 201, Training Loss: 0.022376184759195894, Validation Loss: 0.003555994830094278\n"
     ]
    },
    {
     "name": "stderr",
     "output_type": "stream",
     "text": [
      "Epoch 202: 100%|█| 16/16 [00:10<00:00,  1.47it/s, loss=tensor(0.0022, \n"
     ]
    },
    {
     "name": "stdout",
     "output_type": "stream",
     "text": [
      "Epoch 202, Training Loss: 0.024361001269426197, Validation Loss: 0.004555023624561727\n"
     ]
    },
    {
     "name": "stderr",
     "output_type": "stream",
     "text": [
      "Epoch 203: 100%|█| 16/16 [00:10<00:00,  1.48it/s, loss=tensor(0.0023, \n"
     ]
    },
    {
     "name": "stdout",
     "output_type": "stream",
     "text": [
      "Epoch 203, Training Loss: 0.02234224881976843, Validation Loss: 0.0031055795261636376\n"
     ]
    },
    {
     "name": "stderr",
     "output_type": "stream",
     "text": [
      "Epoch 204: 100%|█| 16/16 [00:10<00:00,  1.48it/s, loss=tensor(0.0019, \n"
     ]
    },
    {
     "name": "stdout",
     "output_type": "stream",
     "text": [
      "Epoch 204, Training Loss: 0.019391239096876234, Validation Loss: 0.0026184446178376675\n"
     ]
    },
    {
     "name": "stderr",
     "output_type": "stream",
     "text": [
      "Epoch 205: 100%|█| 16/16 [00:10<00:00,  1.47it/s, loss=tensor(0.0016, \n"
     ]
    },
    {
     "name": "stdout",
     "output_type": "stream",
     "text": [
      "Epoch 205, Training Loss: 0.017864535795524716, Validation Loss: 0.0032069914741441607\n"
     ]
    },
    {
     "name": "stderr",
     "output_type": "stream",
     "text": [
      "Epoch 206: 100%|█| 16/16 [00:10<00:00,  1.48it/s, loss=tensor(0.0035, \n"
     ]
    },
    {
     "name": "stdout",
     "output_type": "stream",
     "text": [
      "Epoch 206, Training Loss: 0.03377593320328742, Validation Loss: 0.0047819181345403194\n"
     ]
    },
    {
     "name": "stderr",
     "output_type": "stream",
     "text": [
      "Epoch 207: 100%|█| 16/16 [00:10<00:00,  1.50it/s, loss=tensor(0.0051, \n"
     ]
    },
    {
     "name": "stdout",
     "output_type": "stream",
     "text": [
      "Epoch 207, Training Loss: 0.048029288300313056, Validation Loss: 0.009576755343005061\n"
     ]
    },
    {
     "name": "stderr",
     "output_type": "stream",
     "text": [
      "Epoch 208: 100%|█| 16/16 [00:10<00:00,  1.58it/s, loss=tensor(0.0027, \n"
     ]
    },
    {
     "name": "stdout",
     "output_type": "stream",
     "text": [
      "Epoch 208, Training Loss: 0.05405293800868094, Validation Loss: 0.004763054428622127\n"
     ]
    },
    {
     "name": "stderr",
     "output_type": "stream",
     "text": [
      "Epoch 209: 100%|█| 16/16 [00:10<00:00,  1.47it/s, loss=tensor(0.0044, \n"
     ]
    },
    {
     "name": "stdout",
     "output_type": "stream",
     "text": [
      "Epoch 209, Training Loss: 0.04563169367611408, Validation Loss: 0.002935430151410401\n"
     ]
    },
    {
     "name": "stderr",
     "output_type": "stream",
     "text": [
      "Epoch 210: 100%|█| 16/16 [00:10<00:00,  1.48it/s, loss=tensor(0.0031, \n"
     ]
    },
    {
     "name": "stdout",
     "output_type": "stream",
     "text": [
      "Epoch 210, Training Loss: 0.032465530443005264, Validation Loss: 0.003934346139431\n"
     ]
    },
    {
     "name": "stderr",
     "output_type": "stream",
     "text": [
      "Epoch 211: 100%|█| 16/16 [00:10<00:00,  1.48it/s, loss=tensor(0.0027, \n"
     ]
    },
    {
     "name": "stdout",
     "output_type": "stream",
     "text": [
      "Epoch 211, Training Loss: 0.03127198712900281, Validation Loss: 0.002680017496459186\n"
     ]
    },
    {
     "name": "stderr",
     "output_type": "stream",
     "text": [
      "Epoch 212: 100%|█| 16/16 [00:10<00:00,  1.47it/s, loss=tensor(0.0019, \n"
     ]
    },
    {
     "name": "stdout",
     "output_type": "stream",
     "text": [
      "Epoch 212, Training Loss: 0.01835606386885047, Validation Loss: 0.0016866385703906417\n"
     ]
    },
    {
     "name": "stderr",
     "output_type": "stream",
     "text": [
      "Epoch 213: 100%|█| 16/16 [00:10<00:00,  1.47it/s, loss=tensor(0.0018, \n"
     ]
    },
    {
     "name": "stdout",
     "output_type": "stream",
     "text": [
      "Epoch 213, Training Loss: 0.01564799342304468, Validation Loss: 0.0018155318684875965\n"
     ]
    },
    {
     "name": "stderr",
     "output_type": "stream",
     "text": [
      "Epoch 214: 100%|█| 16/16 [00:10<00:00,  1.47it/s, loss=tensor(0.0026, \n"
     ]
    },
    {
     "name": "stdout",
     "output_type": "stream",
     "text": [
      "Epoch 214, Training Loss: 0.015574443328659981, Validation Loss: 0.002122752368450165\n"
     ]
    },
    {
     "name": "stderr",
     "output_type": "stream",
     "text": [
      "Epoch 215: 100%|█| 16/16 [00:10<00:00,  1.55it/s, loss=tensor(0.0015, \n"
     ]
    },
    {
     "name": "stdout",
     "output_type": "stream",
     "text": [
      "Epoch 215, Training Loss: 0.015043571242131293, Validation Loss: 0.0019506756216287613\n"
     ]
    },
    {
     "name": "stderr",
     "output_type": "stream",
     "text": [
      "Epoch 216: 100%|█| 16/16 [00:10<00:00,  1.48it/s, loss=tensor(0.0015, \n"
     ]
    },
    {
     "name": "stdout",
     "output_type": "stream",
     "text": [
      "Epoch 216, Training Loss: 0.013535756443161517, Validation Loss: 0.0014079570537433028\n"
     ]
    },
    {
     "name": "stderr",
     "output_type": "stream",
     "text": [
      "100%|███████████████████████████████████████████████████████████████████████████████| 1000/1000 [00:28<00:00, 34.75it/s]\n"
     ]
    },
    {
     "data": {
      "image/png": "[encoded data removed]",
      "text/plain": [
       "<Figure size 200x200 with 1 Axes>"
      ]
     },
     "metadata": {},
     "output_type": "display_data"
    },
    {
     "name": "stderr",
     "output_type": "stream",
     "text": [
      "Epoch 217: 100%|█| 16/16 [00:10<00:00,  1.48it/s, loss=tensor(0.0021, \n"
     ]
    },
    {
     "name": "stdout",
     "output_type": "stream",
     "text": [
      "Epoch 217, Training Loss: 0.015164264477789402, Validation Loss: 0.0022888322127982974\n"
     ]
    },
    {
     "name": "stderr",
     "output_type": "stream",
     "text": [
      "Epoch 218: 100%|█| 16/16 [00:10<00:00,  1.48it/s, loss=tensor(0.0018, \n"
     ]
    },
    {
     "name": "stdout",
     "output_type": "stream",
     "text": [
      "Epoch 218, Training Loss: 0.014942991081625223, Validation Loss: 0.0023139837430790067\n"
     ]
    },
    {
     "name": "stderr",
     "output_type": "stream",
     "text": [
      "Epoch 219: 100%|█| 16/16 [00:10<00:00,  1.51it/s, loss=tensor(0.0017, \n"
     ]
    },
    {
     "name": "stdout",
     "output_type": "stream",
     "text": [
      "Epoch 219, Training Loss: 0.016846349753905088, Validation Loss: 0.002043035114184022\n"
     ]
    },
    {
     "name": "stderr",
     "output_type": "stream",
     "text": [
      "Epoch 220: 100%|█| 16/16 [00:10<00:00,  1.56it/s, loss=tensor(0.0016, \n"
     ]
    },
    {
     "name": "stdout",
     "output_type": "stream",
     "text": [
      "Epoch 220, Training Loss: 0.014591217623092234, Validation Loss: 0.0017722270567901433\n"
     ]
    },
    {
     "name": "stderr",
     "output_type": "stream",
     "text": [
      "Epoch 221: 100%|█| 16/16 [00:10<00:00,  1.48it/s, loss=tensor(0.0018, \n"
     ]
    },
    {
     "name": "stdout",
     "output_type": "stream",
     "text": [
      "Epoch 221, Training Loss: 0.02035135414917022, Validation Loss: 0.0022767832269892097\n"
     ]
    },
    {
     "name": "stderr",
     "output_type": "stream",
     "text": [
      "Epoch 222: 100%|█| 16/16 [00:10<00:00,  1.47it/s, loss=tensor(0.0022, \n"
     ]
    },
    {
     "name": "stdout",
     "output_type": "stream",
     "text": [
      "Epoch 222, Training Loss: 0.02227736689383164, Validation Loss: 0.002168228034861386\n"
     ]
    },
    {
     "name": "stderr",
     "output_type": "stream",
     "text": [
      "Epoch 223: 100%|█| 16/16 [00:10<00:00,  1.47it/s, loss=tensor(0.0017, \n"
     ]
    },
    {
     "name": "stdout",
     "output_type": "stream",
     "text": [
      "Epoch 223, Training Loss: 0.019225806987378746, Validation Loss: 0.0019848322845064104\n"
     ]
    },
    {
     "name": "stderr",
     "output_type": "stream",
     "text": [
      "Epoch 224: 100%|█| 16/16 [00:10<00:00,  1.48it/s, loss=tensor(0.0040, \n"
     ]
    },
    {
     "name": "stdout",
     "output_type": "stream",
     "text": [
      "Epoch 224, Training Loss: 0.04038301797118038, Validation Loss: 0.005420160014182329\n"
     ]
    },
    {
     "name": "stderr",
     "output_type": "stream",
     "text": [
      "Epoch 225: 100%|█| 16/16 [00:10<00:00,  1.48it/s, loss=tensor(0.0063, \n"
     ]
    },
    {
     "name": "stdout",
     "output_type": "stream",
     "text": [
      "Epoch 225, Training Loss: 0.035035820794291794, Validation Loss: 0.0019995729671791196\n"
     ]
    },
    {
     "name": "stderr",
     "output_type": "stream",
     "text": [
      "Epoch 226: 100%|█| 16/16 [00:10<00:00,  1.48it/s, loss=tensor(0.0028, \n"
     ]
    },
    {
     "name": "stdout",
     "output_type": "stream",
     "text": [
      "Epoch 226, Training Loss: 0.02370513044297695, Validation Loss: 0.0031069107353687286\n"
     ]
    },
    {
     "name": "stderr",
     "output_type": "stream",
     "text": [
      "Epoch 227: 100%|█| 16/16 [00:10<00:00,  1.56it/s, loss=tensor(0.0024, \n"
     ]
    },
    {
     "name": "stdout",
     "output_type": "stream",
     "text": [
      "Epoch 227, Training Loss: 0.019856938160955906, Validation Loss: 0.0019258149550296366\n"
     ]
    },
    {
     "name": "stderr",
     "output_type": "stream",
     "text": [
      "Epoch 228: 100%|█| 16/16 [00:10<00:00,  1.48it/s, loss=tensor(0.0017, \n"
     ]
    },
    {
     "name": "stdout",
     "output_type": "stream",
     "text": [
      "Epoch 228, Training Loss: 0.017540302826091647, Validation Loss: 0.0017585408641025424\n"
     ]
    },
    {
     "name": "stderr",
     "output_type": "stream",
     "text": [
      "Epoch 229: 100%|█| 16/16 [00:10<00:00,  1.48it/s, loss=tensor(0.0018, \n"
     ]
    },
    {
     "name": "stdout",
     "output_type": "stream",
     "text": [
      "Epoch 229, Training Loss: 0.014559978269971907, Validation Loss: 0.002363320381846279\n"
     ]
    },
    {
     "name": "stderr",
     "output_type": "stream",
     "text": [
      "Epoch 230: 100%|█| 16/16 [00:10<00:00,  1.48it/s, loss=tensor(0.0020, \n"
     ]
    },
    {
     "name": "stdout",
     "output_type": "stream",
     "text": [
      "Epoch 230, Training Loss: 0.017487989680375904, Validation Loss: 0.004306394141167402\n"
     ]
    },
    {
     "name": "stderr",
     "output_type": "stream",
     "text": [
      "Epoch 231: 100%|█| 16/16 [00:10<00:00,  1.48it/s, loss=tensor(0.0013, \n"
     ]
    },
    {
     "name": "stdout",
     "output_type": "stream",
     "text": [
      "Epoch 231, Training Loss: 0.024414709478151053, Validation Loss: 0.0018531399546191096\n"
     ]
    },
    {
     "name": "stderr",
     "output_type": "stream",
     "text": [
      "Epoch 232: 100%|█| 16/16 [00:10<00:00,  1.48it/s, loss=tensor(0.0019, \n"
     ]
    },
    {
     "name": "stdout",
     "output_type": "stream",
     "text": [
      "Epoch 232, Training Loss: 0.01852756890002638, Validation Loss: 0.0019676831434480846\n"
     ]
    },
    {
     "name": "stderr",
     "output_type": "stream",
     "text": [
      "Epoch 233: 100%|█| 16/16 [00:10<00:00,  1.48it/s, loss=tensor(0.0016, \n"
     ]
    },
    {
     "name": "stdout",
     "output_type": "stream",
     "text": [
      "Epoch 233, Training Loss: 0.014755345066078007, Validation Loss: 0.0021656081080436707\n"
     ]
    },
    {
     "name": "stderr",
     "output_type": "stream",
     "text": [
      "Epoch 234: 100%|█| 16/16 [00:10<00:00,  1.48it/s, loss=tensor(0.0016, \n"
     ]
    },
    {
     "name": "stdout",
     "output_type": "stream",
     "text": [
      "Epoch 234, Training Loss: 0.01354728190926835, Validation Loss: 0.0015850367490202188\n"
     ]
    },
    {
     "name": "stderr",
     "output_type": "stream",
     "text": [
      "Epoch 235: 100%|█| 16/16 [00:09<00:00,  1.65it/s, loss=tensor(0.0018, \n"
     ]
    },
    {
     "name": "stdout",
     "output_type": "stream",
     "text": [
      "Epoch 235, Training Loss: 0.012267235841136426, Validation Loss: 0.0019072865834459662\n"
     ]
    },
    {
     "name": "stderr",
     "output_type": "stream",
     "text": [
      "Epoch 236: 100%|█| 16/16 [00:10<00:00,  1.48it/s, loss=tensor(0.0019, \n"
     ]
    },
    {
     "name": "stdout",
     "output_type": "stream",
     "text": [
      "Epoch 236, Training Loss: 0.012986597954295576, Validation Loss: 0.0016697283717803657\n"
     ]
    },
    {
     "name": "stderr",
     "output_type": "stream",
     "text": [
      "Epoch 237: 100%|█| 16/16 [00:10<00:00,  1.48it/s, loss=tensor(0.0030, \n"
     ]
    },
    {
     "name": "stdout",
     "output_type": "stream",
     "text": [
      "Epoch 237, Training Loss: 0.013214058824814856, Validation Loss: 0.0014251232496462762\n"
     ]
    },
    {
     "name": "stderr",
     "output_type": "stream",
     "text": [
      "Epoch 238: 100%|█| 16/16 [00:10<00:00,  1.48it/s, loss=tensor(0.0017, \n"
     ]
    },
    {
     "name": "stdout",
     "output_type": "stream",
     "text": [
      "Epoch 238, Training Loss: 0.013998827838804573, Validation Loss: 0.0015206231037154794\n"
     ]
    },
    {
     "name": "stderr",
     "output_type": "stream",
     "text": [
      "Epoch 239: 100%|█| 16/16 [00:10<00:00,  1.48it/s, loss=tensor(0.0030, \n"
     ]
    },
    {
     "name": "stdout",
     "output_type": "stream",
     "text": [
      "Epoch 239, Training Loss: 0.014868723112158477, Validation Loss: 0.0028775976388715208\n"
     ]
    },
    {
     "name": "stderr",
     "output_type": "stream",
     "text": [
      "Epoch 240: 100%|█| 16/16 [00:10<00:00,  1.47it/s, loss=tensor(0.0015, \n"
     ]
    },
    {
     "name": "stdout",
     "output_type": "stream",
     "text": [
      "Epoch 240, Training Loss: 0.015270783915184438, Validation Loss: 0.0022729120100848377\n"
     ]
    },
    {
     "name": "stderr",
     "output_type": "stream",
     "text": [
      "Epoch 241: 100%|█| 16/16 [00:10<00:00,  1.48it/s, loss=tensor(0.0017, \n"
     ]
    },
    {
     "name": "stdout",
     "output_type": "stream",
     "text": [
      "Epoch 241, Training Loss: 0.016060505295172334, Validation Loss: 0.004021336906589568\n"
     ]
    },
    {
     "name": "stderr",
     "output_type": "stream",
     "text": [
      "Epoch 242: 100%|█| 16/16 [00:10<00:00,  1.47it/s, loss=tensor(0.0012, \n"
     ]
    },
    {
     "name": "stdout",
     "output_type": "stream",
     "text": [
      "Epoch 242, Training Loss: 0.01543349213898182, Validation Loss: 0.002179178991355002\n"
     ]
    },
    {
     "name": "stderr",
     "output_type": "stream",
     "text": [
      "Epoch 243: 100%|█| 16/16 [00:09<00:00,  1.65it/s, loss=tensor(0.0016, \n"
     ]
    },
    {
     "name": "stdout",
     "output_type": "stream",
     "text": [
      "Epoch 243, Training Loss: 0.01585165219148621, Validation Loss: 0.0027500580763444304\n"
     ]
    },
    {
     "name": "stderr",
     "output_type": "stream",
     "text": [
      "Epoch 244: 100%|█| 16/16 [00:10<00:00,  1.47it/s, loss=tensor(0.0024, \n"
     ]
    },
    {
     "name": "stdout",
     "output_type": "stream",
     "text": [
      "Epoch 244, Training Loss: 0.017500580055639148, Validation Loss: 0.0020282031618990004\n"
     ]
    },
    {
     "name": "stderr",
     "output_type": "stream",
     "text": [
      "Epoch 245: 100%|█| 16/16 [00:10<00:00,  1.47it/s, loss=tensor(0.0045, \n"
     ]
    },
    {
     "name": "stdout",
     "output_type": "stream",
     "text": [
      "Epoch 245, Training Loss: 0.03934471413958818, Validation Loss: 0.005413660313934088\n"
     ]
    },
    {
     "name": "stderr",
     "output_type": "stream",
     "text": [
      "Epoch 246: 100%|█| 16/16 [00:10<00:00,  1.48it/s, loss=tensor(0.0035, \n"
     ]
    },
    {
     "name": "stdout",
     "output_type": "stream",
     "text": [
      "Epoch 246, Training Loss: 0.03415800235234201, Validation Loss: 0.003482016851194203\n"
     ]
    },
    {
     "name": "stderr",
     "output_type": "stream",
     "text": [
      "Epoch 247: 100%|█| 16/16 [00:10<00:00,  1.48it/s, loss=tensor(0.0028, \n"
     ]
    },
    {
     "name": "stdout",
     "output_type": "stream",
     "text": [
      "Epoch 247, Training Loss: 0.024605382815934718, Validation Loss: 0.002384236198849976\n"
     ]
    },
    {
     "name": "stderr",
     "output_type": "stream",
     "text": [
      "Epoch 248: 100%|█| 16/16 [00:10<00:00,  1.47it/s, loss=tensor(0.0022, \n"
     ]
    },
    {
     "name": "stdout",
     "output_type": "stream",
     "text": [
      "Epoch 248, Training Loss: 0.020783948013558984, Validation Loss: 0.003026051796041429\n"
     ]
    },
    {
     "name": "stderr",
     "output_type": "stream",
     "text": [
      "Epoch 249: 100%|█| 16/16 [00:10<00:00,  1.48it/s, loss=tensor(0.0021, \n"
     ]
    },
    {
     "name": "stdout",
     "output_type": "stream",
     "text": [
      "Epoch 249, Training Loss: 0.022105084790382534, Validation Loss: 0.0024462469154968858\n"
     ]
    },
    {
     "name": "stderr",
     "output_type": "stream",
     "text": [
      "Epoch 250: 100%|█| 16/16 [00:10<00:00,  1.48it/s, loss=tensor(0.0019, \n"
     ]
    },
    {
     "name": "stdout",
     "output_type": "stream",
     "text": [
      "Epoch 250, Training Loss: 0.021641072118654847, Validation Loss: 0.0027742814272642136\n"
     ]
    },
    {
     "name": "stderr",
     "output_type": "stream",
     "text": [
      "Epoch 251: 100%|█| 16/16 [00:09<00:00,  1.65it/s, loss=tensor(0.0024, \n"
     ]
    },
    {
     "name": "stdout",
     "output_type": "stream",
     "text": [
      "Epoch 251, Training Loss: 0.02119930402841419, Validation Loss: 0.0041158965323120356\n"
     ]
    },
    {
     "name": "stderr",
     "output_type": "stream",
     "text": [
      "Epoch 252: 100%|█| 16/16 [00:10<00:00,  1.47it/s, loss=tensor(0.0026, \n"
     ]
    },
    {
     "name": "stdout",
     "output_type": "stream",
     "text": [
      "Epoch 252, Training Loss: 0.02653329132590443, Validation Loss: 0.0024869421031326056\n"
     ]
    },
    {
     "name": "stderr",
     "output_type": "stream",
     "text": [
      "Epoch 253: 100%|█| 16/16 [00:11<00:00,  1.45it/s, loss=tensor(0.0019, \n"
     ]
    },
    {
     "name": "stdout",
     "output_type": "stream",
     "text": [
      "Epoch 253, Training Loss: 0.020695924176834524, Validation Loss: 0.0028352385852485895\n"
     ]
    },
    {
     "name": "stderr",
     "output_type": "stream",
     "text": [
      "Epoch 254: 100%|█| 16/16 [00:10<00:00,  1.48it/s, loss=tensor(0.0032, \n"
     ]
    },
    {
     "name": "stdout",
     "output_type": "stream",
     "text": [
      "Epoch 254, Training Loss: 0.02513600594829768, Validation Loss: 0.004526573931798339\n"
     ]
    },
    {
     "name": "stderr",
     "output_type": "stream",
     "text": [
      "Epoch 255: 100%|█| 16/16 [00:10<00:00,  1.48it/s, loss=tensor(0.0046, \n"
     ]
    },
    {
     "name": "stdout",
     "output_type": "stream",
     "text": [
      "Epoch 255, Training Loss: 0.03773341083433479, Validation Loss: 0.0032036518678069115\n"
     ]
    },
    {
     "name": "stderr",
     "output_type": "stream",
     "text": [
      "Epoch 256: 100%|█| 16/16 [00:10<00:00,  1.48it/s, loss=tensor(0.0037, \n"
     ]
    },
    {
     "name": "stdout",
     "output_type": "stream",
     "text": [
      "Epoch 256, Training Loss: 0.03496840503066778, Validation Loss: 0.0022737993858754635\n"
     ]
    },
    {
     "name": "stderr",
     "output_type": "stream",
     "text": [
      "Epoch 257: 100%|█| 16/16 [00:10<00:00,  1.48it/s, loss=tensor(0.0015, \n"
     ]
    },
    {
     "name": "stdout",
     "output_type": "stream",
     "text": [
      "Epoch 257, Training Loss: 0.025037401646841317, Validation Loss: 0.0018320640083402395\n"
     ]
    },
    {
     "name": "stderr",
     "output_type": "stream",
     "text": [
      "Epoch 258: 100%|█| 16/16 [00:10<00:00,  1.47it/s, loss=tensor(0.0030, \n"
     ]
    },
    {
     "name": "stdout",
     "output_type": "stream",
     "text": [
      "Epoch 258, Training Loss: 0.01796154532348737, Validation Loss: 0.0014383457018993795\n"
     ]
    },
    {
     "name": "stderr",
     "output_type": "stream",
     "text": [
      "Epoch 259: 100%|█| 16/16 [00:09<00:00,  1.64it/s, loss=tensor(0.0022, \n"
     ]
    },
    {
     "name": "stdout",
     "output_type": "stream",
     "text": [
      "Epoch 259, Training Loss: 0.015432232001330703, Validation Loss: 0.0020079162786714733\n"
     ]
    },
    {
     "name": "stderr",
     "output_type": "stream",
     "text": [
      "Epoch 260: 100%|█| 16/16 [00:10<00:00,  1.48it/s, loss=tensor(0.0014, \n"
     ]
    },
    {
     "name": "stdout",
     "output_type": "stream",
     "text": [
      "Epoch 260, Training Loss: 0.013548463000915945, Validation Loss: 0.002228192868642509\n"
     ]
    },
    {
     "name": "stderr",
     "output_type": "stream",
     "text": [
      "Epoch 261: 100%|█| 16/16 [00:10<00:00,  1.47it/s, loss=tensor(0.0014, \n"
     ]
    },
    {
     "name": "stdout",
     "output_type": "stream",
     "text": [
      "Epoch 261, Training Loss: 0.014553969958797097, Validation Loss: 0.0022460840409621596\n"
     ]
    },
    {
     "name": "stderr",
     "output_type": "stream",
     "text": [
      "Epoch 262: 100%|█| 16/16 [00:10<00:00,  1.47it/s, loss=tensor(0.0016, \n"
     ]
    },
    {
     "name": "stdout",
     "output_type": "stream",
     "text": [
      "Epoch 262, Training Loss: 0.014401336840819567, Validation Loss: 0.0017991104978136718\n"
     ]
    },
    {
     "name": "stderr",
     "output_type": "stream",
     "text": [
      "Epoch 263: 100%|█| 16/16 [00:10<00:00,  1.48it/s, loss=tensor(0.0014, \n"
     ]
    },
    {
     "name": "stdout",
     "output_type": "stream",
     "text": [
      "Epoch 263, Training Loss: 0.01232759322738275, Validation Loss: 0.0017868455033749342\n"
     ]
    },
    {
     "name": "stderr",
     "output_type": "stream",
     "text": [
      "Epoch 264: 100%|█| 16/16 [00:10<00:00,  1.47it/s, loss=tensor(0.0015, \n"
     ]
    },
    {
     "name": "stdout",
     "output_type": "stream",
     "text": [
      "Epoch 264, Training Loss: 0.012735735159367323, Validation Loss: 0.0015421350835822523\n"
     ]
    },
    {
     "name": "stderr",
     "output_type": "stream",
     "text": [
      "Epoch 265: 100%|█| 16/16 [00:10<00:00,  1.51it/s, loss=tensor(0.0014, \n"
     ]
    },
    {
     "name": "stdout",
     "output_type": "stream",
     "text": [
      "Epoch 265, Training Loss: 0.013436175242532045, Validation Loss: 0.0027373400516808033\n"
     ]
    },
    {
     "name": "stderr",
     "output_type": "stream",
     "text": [
      "Epoch 266: 100%|█| 16/16 [00:10<00:00,  1.48it/s, loss=tensor(0.0024, \n"
     ]
    },
    {
     "name": "stdout",
     "output_type": "stream",
     "text": [
      "Epoch 266, Training Loss: 0.03292245912598446, Validation Loss: 0.0032973799388855696\n"
     ]
    },
    {
     "name": "stderr",
     "output_type": "stream",
     "text": [
      "Epoch 267: 100%|█| 16/16 [00:08<00:00,  1.87it/s, loss=tensor(0.0028, \n"
     ]
    },
    {
     "name": "stdout",
     "output_type": "stream",
     "text": [
      "Epoch 267, Training Loss: 0.029786162660457194, Validation Loss: 0.0034965495578944683\n"
     ]
    },
    {
     "name": "stderr",
     "output_type": "stream",
     "text": [
      "Epoch 268: 100%|█| 16/16 [00:10<00:00,  1.47it/s, loss=tensor(0.0021, \n"
     ]
    },
    {
     "name": "stdout",
     "output_type": "stream",
     "text": [
      "Epoch 268, Training Loss: 0.025835087231826037, Validation Loss: 0.005268601700663567\n"
     ]
    },
    {
     "name": "stderr",
     "output_type": "stream",
     "text": [
      "Epoch 269: 100%|█| 16/16 [00:10<00:00,  1.47it/s, loss=tensor(0.0013, \n"
     ]
    },
    {
     "name": "stdout",
     "output_type": "stream",
     "text": [
      "Epoch 269, Training Loss: 0.019181179639417678, Validation Loss: 0.001657032873481512\n"
     ]
    },
    {
     "name": "stderr",
     "output_type": "stream",
     "text": [
      "Epoch 270: 100%|█| 16/16 [00:10<00:00,  1.48it/s, loss=tensor(0.0018, \n"
     ]
    },
    {
     "name": "stdout",
     "output_type": "stream",
     "text": [
      "Epoch 270, Training Loss: 0.01702333043795079, Validation Loss: 0.0019250425975769758\n"
     ]
    },
    {
     "name": "stderr",
     "output_type": "stream",
     "text": [
      "Epoch 271: 100%|█| 16/16 [00:10<00:00,  1.47it/s, loss=tensor(0.0014, \n"
     ]
    },
    {
     "name": "stdout",
     "output_type": "stream",
     "text": [
      "Epoch 271, Training Loss: 0.015405509562697262, Validation Loss: 0.0016474807634949684\n"
     ]
    },
    {
     "name": "stderr",
     "output_type": "stream",
     "text": [
      "Epoch 272: 100%|█| 16/16 [00:10<00:00,  1.48it/s, loss=tensor(0.0015, \n"
     ]
    },
    {
     "name": "stdout",
     "output_type": "stream",
     "text": [
      "Epoch 272, Training Loss: 0.013109290273860097, Validation Loss: 0.0018579707248136401\n"
     ]
    },
    {
     "name": "stderr",
     "output_type": "stream",
     "text": [
      "Epoch 273: 100%|█| 16/16 [00:10<00:00,  1.48it/s, loss=tensor(0.0013, \n"
     ]
    },
    {
     "name": "stdout",
     "output_type": "stream",
     "text": [
      "Epoch 273, Training Loss: 0.013938624586444348, Validation Loss: 0.00202361581614241\n"
     ]
    },
    {
     "name": "stderr",
     "output_type": "stream",
     "text": [
      "Epoch 274: 100%|█| 16/16 [00:10<00:00,  1.48it/s, loss=tensor(0.0013, \n"
     ]
    },
    {
     "name": "stdout",
     "output_type": "stream",
     "text": [
      "Epoch 274, Training Loss: 0.012524888676125556, Validation Loss: 0.0020023671095259488\n"
     ]
    },
    {
     "name": "stderr",
     "output_type": "stream",
     "text": [
      "Epoch 275: 100%|█| 16/16 [00:09<00:00,  1.64it/s, loss=tensor(0.0019, \n"
     ]
    },
    {
     "name": "stdout",
     "output_type": "stream",
     "text": [
      "Epoch 275, Training Loss: 0.012364884954877198, Validation Loss: 0.001556490024086088\n"
     ]
    },
    {
     "name": "stderr",
     "output_type": "stream",
     "text": [
      "Epoch 276: 100%|█| 16/16 [00:10<00:00,  1.48it/s, loss=tensor(0.0013, \n"
     ]
    },
    {
     "name": "stdout",
     "output_type": "stream",
     "text": [
      "Epoch 276, Training Loss: 0.0106875347555615, Validation Loss: 0.001345024909824133\n"
     ]
    },
    {
     "name": "stderr",
     "output_type": "stream",
     "text": [
      "100%|███████████████████████████████████████████████████████████████████████████████| 1000/1000 [00:28<00:00, 34.87it/s]\n"
     ]
    },
    {
     "data": {
      "image/png": "[encoded data removed]",
      "text/plain": [
       "<Figure size 200x200 with 1 Axes>"
      ]
     },
     "metadata": {},
     "output_type": "display_data"
    },
    {
     "name": "stderr",
     "output_type": "stream",
     "text": [
      "Epoch 277: 100%|█| 16/16 [00:10<00:00,  1.48it/s, loss=tensor(0.0019, \n"
     ]
    },
    {
     "name": "stdout",
     "output_type": "stream",
     "text": [
      "Epoch 277, Training Loss: 0.012986283167265356, Validation Loss: 0.0013108037528581917\n"
     ]
    },
    {
     "name": "stderr",
     "output_type": "stream",
     "text": [
      "100%|███████████████████████████████████████████████████████████████████████████████| 1000/1000 [00:28<00:00, 35.48it/s]\n"
     ]
    },
    {
     "data": {
      "image/png": "[encoded data removed]",
      "text/plain": [
       "<Figure size 200x200 with 1 Axes>"
      ]
     },
     "metadata": {},
     "output_type": "display_data"
    },
    {
     "name": "stderr",
     "output_type": "stream",
     "text": [
      "Epoch 278: 100%|█| 16/16 [00:10<00:00,  1.46it/s, loss=tensor(0.0048, \n"
     ]
    },
    {
     "name": "stdout",
     "output_type": "stream",
     "text": [
      "Epoch 278, Training Loss: 0.015321690414566547, Validation Loss: 0.0016804374754428864\n"
     ]
    },
    {
     "name": "stderr",
     "output_type": "stream",
     "text": [
      "Epoch 279: 100%|█| 16/16 [00:10<00:00,  1.47it/s, loss=tensor(0.0018, \n"
     ]
    },
    {
     "name": "stdout",
     "output_type": "stream",
     "text": [
      "Epoch 279, Training Loss: 0.016585030709393322, Validation Loss: 0.001939491310622543\n"
     ]
    },
    {
     "name": "stderr",
     "output_type": "stream",
     "text": [
      "Epoch 280: 100%|█| 16/16 [00:10<00:00,  1.48it/s, loss=tensor(0.0016, \n"
     ]
    },
    {
     "name": "stdout",
     "output_type": "stream",
     "text": [
      "Epoch 280, Training Loss: 0.013668687082827091, Validation Loss: 0.0015748338773846626\n"
     ]
    },
    {
     "name": "stderr",
     "output_type": "stream",
     "text": [
      "Epoch 281: 100%|█| 16/16 [00:10<00:00,  1.48it/s, loss=tensor(0.0012, \n"
     ]
    },
    {
     "name": "stdout",
     "output_type": "stream",
     "text": [
      "Epoch 281, Training Loss: 0.012861946655903012, Validation Loss: 0.0013713484513573349\n"
     ]
    },
    {
     "name": "stderr",
     "output_type": "stream",
     "text": [
      "Epoch 282: 100%|█| 16/16 [00:10<00:00,  1.48it/s, loss=tensor(0.0020, \n"
     ]
    },
    {
     "name": "stdout",
     "output_type": "stream",
     "text": [
      "Epoch 282, Training Loss: 0.013319919933564961, Validation Loss: 0.0012249895953573287\n"
     ]
    },
    {
     "name": "stderr",
     "output_type": "stream",
     "text": [
      "100%|███████████████████████████████████████████████████████████████████████████████| 1000/1000 [00:28<00:00, 34.92it/s]\n"
     ]
    },
    {
     "data": {
      "image/png": "[encoded data removed]",
      "text/plain": [
       "<Figure size 200x200 with 1 Axes>"
      ]
     },
     "metadata": {},
     "output_type": "display_data"
    },
    {
     "name": "stderr",
     "output_type": "stream",
     "text": [
      "Epoch 283: 100%|█| 16/16 [00:10<00:00,  1.48it/s, loss=tensor(0.0018, \n"
     ]
    },
    {
     "name": "stdout",
     "output_type": "stream",
     "text": [
      "Epoch 283, Training Loss: 0.01259401609422639, Validation Loss: 0.0017139093251898885\n"
     ]
    },
    {
     "name": "stderr",
     "output_type": "stream",
     "text": [
      "Epoch 284: 100%|█| 16/16 [00:10<00:00,  1.47it/s, loss=tensor(0.0012, \n"
     ]
    },
    {
     "name": "stdout",
     "output_type": "stream",
     "text": [
      "Epoch 284, Training Loss: 0.011347516730893403, Validation Loss: 0.0014450224698521197\n"
     ]
    },
    {
     "name": "stderr",
     "output_type": "stream",
     "text": [
      "Epoch 285: 100%|█| 16/16 [00:10<00:00,  1.47it/s, loss=tensor(0.0027, \n"
     ]
    },
    {
     "name": "stdout",
     "output_type": "stream",
     "text": [
      "Epoch 285, Training Loss: 0.01499488711124286, Validation Loss: 0.0014089473406784236\n"
     ]
    },
    {
     "name": "stderr",
     "output_type": "stream",
     "text": [
      "Epoch 286: 100%|█| 16/16 [00:10<00:00,  1.47it/s, loss=tensor(0.0013, \n"
     ]
    },
    {
     "name": "stdout",
     "output_type": "stream",
     "text": [
      "Epoch 286, Training Loss: 0.012108453374821693, Validation Loss: 0.001842897618189454\n"
     ]
    },
    {
     "name": "stderr",
     "output_type": "stream",
     "text": [
      "Epoch 287: 100%|█| 16/16 [00:09<00:00,  1.65it/s, loss=tensor(0.0016, \n"
     ]
    },
    {
     "name": "stdout",
     "output_type": "stream",
     "text": [
      "Epoch 287, Training Loss: 0.018429554882459342, Validation Loss: 0.003705536015331745\n"
     ]
    },
    {
     "name": "stderr",
     "output_type": "stream",
     "text": [
      "Epoch 288: 100%|█| 16/16 [00:10<00:00,  1.47it/s, loss=tensor(0.0028, \n"
     ]
    },
    {
     "name": "stdout",
     "output_type": "stream",
     "text": [
      "Epoch 288, Training Loss: 0.016725574911106378, Validation Loss: 0.001549577049445361\n"
     ]
    },
    {
     "name": "stderr",
     "output_type": "stream",
     "text": [
      "Epoch 289: 100%|█| 16/16 [00:10<00:00,  1.48it/s, loss=tensor(0.0012, \n"
     ]
    },
    {
     "name": "stdout",
     "output_type": "stream",
     "text": [
      "Epoch 289, Training Loss: 0.012581108487211168, Validation Loss: 0.0016579347429797053\n"
     ]
    },
    {
     "name": "stderr",
     "output_type": "stream",
     "text": [
      "Epoch 290: 100%|█| 16/16 [00:10<00:00,  1.47it/s, loss=tensor(0.0016, \n"
     ]
    },
    {
     "name": "stdout",
     "output_type": "stream",
     "text": [
      "Epoch 290, Training Loss: 0.01777533016866073, Validation Loss: 0.0016725542373023927\n"
     ]
    },
    {
     "name": "stderr",
     "output_type": "stream",
     "text": [
      "Epoch 291: 100%|█| 16/16 [00:10<00:00,  1.48it/s, loss=tensor(0.0018, \n"
     ]
    },
    {
     "name": "stdout",
     "output_type": "stream",
     "text": [
      "Epoch 291, Training Loss: 0.013846179761458188, Validation Loss: 0.001370436220895499\n"
     ]
    },
    {
     "name": "stderr",
     "output_type": "stream",
     "text": [
      "Epoch 292: 100%|█| 16/16 [00:10<00:00,  1.47it/s, loss=tensor(0.0013, \n"
     ]
    },
    {
     "name": "stdout",
     "output_type": "stream",
     "text": [
      "Epoch 292, Training Loss: 0.011395631823688745, Validation Loss: 0.0016398443258367479\n"
     ]
    },
    {
     "name": "stderr",
     "output_type": "stream",
     "text": [
      "Epoch 293: 100%|█| 16/16 [00:10<00:00,  1.47it/s, loss=tensor(0.0047, \n"
     ]
    },
    {
     "name": "stdout",
     "output_type": "stream",
     "text": [
      "Epoch 293, Training Loss: 0.015691024775151163, Validation Loss: 0.002990444074384868\n"
     ]
    },
    {
     "name": "stderr",
     "output_type": "stream",
     "text": [
      "Epoch 294: 100%|█| 16/16 [00:10<00:00,  1.47it/s, loss=tensor(0.0019, \n"
     ]
    },
    {
     "name": "stdout",
     "output_type": "stream",
     "text": [
      "Epoch 294, Training Loss: 0.017694128211587667, Validation Loss: 0.0028776523540727794\n"
     ]
    },
    {
     "name": "stderr",
     "output_type": "stream",
     "text": [
      "Epoch 295: 100%|█| 16/16 [00:09<00:00,  1.70it/s, loss=tensor(0.0026, \n"
     ]
    },
    {
     "name": "stdout",
     "output_type": "stream",
     "text": [
      "Epoch 295, Training Loss: 0.01814600359648466, Validation Loss: 0.001517670345492661\n"
     ]
    },
    {
     "name": "stderr",
     "output_type": "stream",
     "text": [
      "Epoch 296: 100%|█| 16/16 [00:10<00:00,  1.48it/s, loss=tensor(0.0021, \n"
     ]
    },
    {
     "name": "stdout",
     "output_type": "stream",
     "text": [
      "Epoch 296, Training Loss: 0.012887675839010626, Validation Loss: 0.0014019939117133617\n"
     ]
    },
    {
     "name": "stderr",
     "output_type": "stream",
     "text": [
      "Epoch 297: 100%|█| 16/16 [00:10<00:00,  1.48it/s, loss=tensor(0.0027, \n"
     ]
    },
    {
     "name": "stdout",
     "output_type": "stream",
     "text": [
      "Epoch 297, Training Loss: 0.015598892408888787, Validation Loss: 0.002349121612496674\n"
     ]
    },
    {
     "name": "stderr",
     "output_type": "stream",
     "text": [
      "Epoch 298: 100%|█| 16/16 [00:10<00:00,  1.47it/s, loss=tensor(0.0030, \n"
     ]
    },
    {
     "name": "stdout",
     "output_type": "stream",
     "text": [
      "Epoch 298, Training Loss: 0.02068171405699104, Validation Loss: 0.0014851930900476873\n"
     ]
    },
    {
     "name": "stderr",
     "output_type": "stream",
     "text": [
      "Epoch 299: 100%|█| 16/16 [00:10<00:00,  1.48it/s, loss=tensor(0.0014, \n"
     ]
    },
    {
     "name": "stdout",
     "output_type": "stream",
     "text": [
      "Epoch 299, Training Loss: 0.016383180336561054, Validation Loss: 0.003410111297853291\n"
     ]
    },
    {
     "name": "stderr",
     "output_type": "stream",
     "text": [
      "Epoch 300: 100%|█| 16/16 [00:10<00:00,  1.47it/s, loss=tensor(0.0052, \n"
     ]
    },
    {
     "name": "stdout",
     "output_type": "stream",
     "text": [
      "Epoch 300, Training Loss: 0.04794417112134397, Validation Loss: 0.004184788907878101\n"
     ]
    },
    {
     "name": "stderr",
     "output_type": "stream",
     "text": [
      "Epoch 301: 100%|█| 16/16 [00:10<00:00,  1.47it/s, loss=tensor(0.0039, \n"
     ]
    },
    {
     "name": "stdout",
     "output_type": "stream",
     "text": [
      "Epoch 301, Training Loss: 0.027281038695946336, Validation Loss: 0.0022203410044312477\n"
     ]
    },
    {
     "name": "stderr",
     "output_type": "stream",
     "text": [
      "Epoch 302: 100%|█| 16/16 [00:10<00:00,  1.48it/s, loss=tensor(0.0012, \n"
     ]
    },
    {
     "name": "stdout",
     "output_type": "stream",
     "text": [
      "Epoch 302, Training Loss: 0.015207969234324992, Validation Loss: 0.0016369051882065833\n"
     ]
    },
    {
     "name": "stderr",
     "output_type": "stream",
     "text": [
      "Epoch 303: 100%|█| 16/16 [00:09<00:00,  1.63it/s, loss=tensor(0.0019, \n"
     ]
    },
    {
     "name": "stdout",
     "output_type": "stream",
     "text": [
      "Epoch 303, Training Loss: 0.023834702209569514, Validation Loss: 0.002231937600299716\n"
     ]
    },
    {
     "name": "stderr",
     "output_type": "stream",
     "text": [
      "Epoch 304: 100%|█| 16/16 [00:10<00:00,  1.47it/s, loss=tensor(0.0019, \n"
     ]
    },
    {
     "name": "stdout",
     "output_type": "stream",
     "text": [
      "Epoch 304, Training Loss: 0.02409430150873959, Validation Loss: 0.0029878801433369517\n"
     ]
    },
    {
     "name": "stderr",
     "output_type": "stream",
     "text": [
      "Epoch 305: 100%|█| 16/16 [00:10<00:00,  1.47it/s, loss=tensor(0.0018, \n"
     ]
    },
    {
     "name": "stdout",
     "output_type": "stream",
     "text": [
      "Epoch 305, Training Loss: 0.01727753662271425, Validation Loss: 0.0032692315289750695\n"
     ]
    },
    {
     "name": "stderr",
     "output_type": "stream",
     "text": [
      "Epoch 306: 100%|█| 16/16 [00:10<00:00,  1.47it/s, loss=tensor(0.0012, \n"
     ]
    },
    {
     "name": "stdout",
     "output_type": "stream",
     "text": [
      "Epoch 306, Training Loss: 0.011829867435153574, Validation Loss: 0.001388334494549781\n"
     ]
    },
    {
     "name": "stderr",
     "output_type": "stream",
     "text": [
      "Epoch 307: 100%|█| 16/16 [00:10<00:00,  1.48it/s, loss=tensor(0.0013, \n"
     ]
    },
    {
     "name": "stdout",
     "output_type": "stream",
     "text": [
      "Epoch 307, Training Loss: 0.010904193622991443, Validation Loss: 0.001312517502810806\n"
     ]
    },
    {
     "name": "stderr",
     "output_type": "stream",
     "text": [
      "Epoch 308: 100%|█| 16/16 [00:10<00:00,  1.47it/s, loss=tensor(0.0016, \n"
     ]
    },
    {
     "name": "stdout",
     "output_type": "stream",
     "text": [
      "Epoch 308, Training Loss: 0.011976630077697337, Validation Loss: 0.0017875367775559425\n"
     ]
    },
    {
     "name": "stderr",
     "output_type": "stream",
     "text": [
      "Epoch 309: 100%|█| 16/16 [00:10<00:00,  1.48it/s, loss=tensor(0.0014, \n"
     ]
    },
    {
     "name": "stdout",
     "output_type": "stream",
     "text": [
      "Epoch 309, Training Loss: 0.01278740749694407, Validation Loss: 0.0014589963247999549\n"
     ]
    },
    {
     "name": "stderr",
     "output_type": "stream",
     "text": [
      "Epoch 310: 100%|█| 16/16 [00:10<00:00,  1.49it/s, loss=tensor(0.0024, \n"
     ]
    },
    {
     "name": "stdout",
     "output_type": "stream",
     "text": [
      "Epoch 310, Training Loss: 0.016717721184249967, Validation Loss: 0.0023877525236457586\n"
     ]
    },
    {
     "name": "stderr",
     "output_type": "stream",
     "text": [
      "Epoch 311: 100%|█| 16/16 [00:09<00:00,  1.62it/s, loss=tensor(0.0015, \n"
     ]
    },
    {
     "name": "stdout",
     "output_type": "stream",
     "text": [
      "Epoch 311, Training Loss: 0.018759825557935983, Validation Loss: 0.0019020508043467999\n"
     ]
    },
    {
     "name": "stderr",
     "output_type": "stream",
     "text": [
      "Epoch 312: 100%|█| 16/16 [00:10<00:00,  1.47it/s, loss=tensor(0.0015, \n"
     ]
    },
    {
     "name": "stdout",
     "output_type": "stream",
     "text": [
      "Epoch 312, Training Loss: 0.013641214929521084, Validation Loss: 0.0018424061709083617\n"
     ]
    },
    {
     "name": "stderr",
     "output_type": "stream",
     "text": [
      "Epoch 313: 100%|█| 16/16 [00:10<00:00,  1.48it/s, loss=tensor(0.0014, \n"
     ]
    },
    {
     "name": "stdout",
     "output_type": "stream",
     "text": [
      "Epoch 313, Training Loss: 0.011033930466510355, Validation Loss: 0.0013790674856863916\n"
     ]
    },
    {
     "name": "stderr",
     "output_type": "stream",
     "text": [
      "Epoch 314: 100%|█| 16/16 [00:10<00:00,  1.47it/s, loss=tensor(0.0017, \n"
     ]
    },
    {
     "name": "stdout",
     "output_type": "stream",
     "text": [
      "Epoch 314, Training Loss: 0.010859776462893933, Validation Loss: 0.001641296490561217\n"
     ]
    },
    {
     "name": "stderr",
     "output_type": "stream",
     "text": [
      "Epoch 315: 100%|█| 16/16 [00:10<00:00,  1.47it/s, loss=tensor(0.0012, \n"
     ]
    },
    {
     "name": "stdout",
     "output_type": "stream",
     "text": [
      "Epoch 315, Training Loss: 0.017676012590527534, Validation Loss: 0.0051617169519886374\n"
     ]
    },
    {
     "name": "stderr",
     "output_type": "stream",
     "text": [
      "Epoch 316: 100%|█| 16/16 [00:10<00:00,  1.48it/s, loss=tensor(0.0013, \n"
     ]
    },
    {
     "name": "stdout",
     "output_type": "stream",
     "text": [
      "Epoch 316, Training Loss: 0.021894827077630907, Validation Loss: 0.002464074525050819\n"
     ]
    },
    {
     "name": "stderr",
     "output_type": "stream",
     "text": [
      "Epoch 317: 100%|█| 16/16 [00:10<00:00,  1.47it/s, loss=tensor(0.0021, \n"
     ]
    },
    {
     "name": "stdout",
     "output_type": "stream",
     "text": [
      "Epoch 317, Training Loss: 0.020674553757999092, Validation Loss: 0.0018778963712975383\n"
     ]
    },
    {
     "name": "stderr",
     "output_type": "stream",
     "text": [
      "Epoch 318: 100%|█| 16/16 [00:10<00:00,  1.51it/s, loss=tensor(0.0020, \n"
     ]
    },
    {
     "name": "stdout",
     "output_type": "stream",
     "text": [
      "Epoch 318, Training Loss: 0.015213914215564728, Validation Loss: 0.0013702240539714694\n"
     ]
    },
    {
     "name": "stderr",
     "output_type": "stream",
     "text": [
      "Epoch 319: 100%|█| 16/16 [00:10<00:00,  1.59it/s, loss=tensor(0.0010, \n"
     ]
    },
    {
     "name": "stdout",
     "output_type": "stream",
     "text": [
      "Epoch 319, Training Loss: 0.011318815464619547, Validation Loss: 0.0013252751086838543\n"
     ]
    },
    {
     "name": "stderr",
     "output_type": "stream",
     "text": [
      "Epoch 320: 100%|█| 16/16 [00:10<00:00,  1.47it/s, loss=tensor(0.0009, \n"
     ]
    },
    {
     "name": "stdout",
     "output_type": "stream",
     "text": [
      "Epoch 320, Training Loss: 0.009956274589058012, Validation Loss: 0.0010893018916249275\n"
     ]
    },
    {
     "name": "stderr",
     "output_type": "stream",
     "text": [
      "100%|███████████████████████████████████████████████████████████████████████████████| 1000/1000 [00:29<00:00, 34.15it/s]\n"
     ]
    },
    {
     "data": {
      "image/png": "[encoded data removed]",
      "text/plain": [
       "<Figure size 200x200 with 1 Axes>"
      ]
     },
     "metadata": {},
     "output_type": "display_data"
    },
    {
     "name": "stderr",
     "output_type": "stream",
     "text": [
      "Epoch 321: 100%|█| 16/16 [00:10<00:00,  1.48it/s, loss=tensor(0.0012, \n"
     ]
    },
    {
     "name": "stdout",
     "output_type": "stream",
     "text": [
      "Epoch 321, Training Loss: 0.010501813958398998, Validation Loss: 0.0015816548839211464\n"
     ]
    },
    {
     "name": "stderr",
     "output_type": "stream",
     "text": [
      "Epoch 322: 100%|█| 16/16 [00:10<00:00,  1.51it/s, loss=tensor(0.0011, \n"
     ]
    },
    {
     "name": "stdout",
     "output_type": "stream",
     "text": [
      "Epoch 322, Training Loss: 0.01010300702182576, Validation Loss: 0.001041549170622602\n"
     ]
    },
    {
     "name": "stderr",
     "output_type": "stream",
     "text": [
      "100%|███████████████████████████████████████████████████████████████████████████████| 1000/1000 [00:28<00:00, 35.06it/s]\n"
     ]
    },
    {
     "data": {
      "image/png": "[encoded data removed]",
      "text/plain": [
       "<Figure size 200x200 with 1 Axes>"
      ]
     },
     "metadata": {},
     "output_type": "display_data"
    },
    {
     "name": "stderr",
     "output_type": "stream",
     "text": [
      "Epoch 323: 100%|█| 16/16 [00:10<00:00,  1.48it/s, loss=tensor(0.0016, \n"
     ]
    },
    {
     "name": "stdout",
     "output_type": "stream",
     "text": [
      "Epoch 323, Training Loss: 0.014341903326567262, Validation Loss: 0.0013275353121571243\n"
     ]
    },
    {
     "name": "stderr",
     "output_type": "stream",
     "text": [
      "Epoch 324: 100%|█| 16/16 [00:10<00:00,  1.48it/s, loss=tensor(0.0012, \n"
     ]
    },
    {
     "name": "stdout",
     "output_type": "stream",
     "text": [
      "Epoch 324, Training Loss: 0.011559115431737155, Validation Loss: 0.001962551788892597\n"
     ]
    },
    {
     "name": "stderr",
     "output_type": "stream",
     "text": [
      "Epoch 325: 100%|█| 16/16 [00:10<00:00,  1.47it/s, loss=tensor(0.0027, \n"
     ]
    },
    {
     "name": "stdout",
     "output_type": "stream",
     "text": [
      "Epoch 325, Training Loss: 0.014205244311597198, Validation Loss: 0.003072223160415888\n"
     ]
    },
    {
     "name": "stderr",
     "output_type": "stream",
     "text": [
      "Epoch 326: 100%|█| 16/16 [00:10<00:00,  1.49it/s, loss=tensor(0.0017, \n"
     ]
    },
    {
     "name": "stdout",
     "output_type": "stream",
     "text": [
      "Epoch 326, Training Loss: 0.03198783681727946, Validation Loss: 0.003358774818480015\n"
     ]
    },
    {
     "name": "stderr",
     "output_type": "stream",
     "text": [
      "Epoch 327: 100%|█| 16/16 [00:09<00:00,  1.62it/s, loss=tensor(0.0012, \n"
     ]
    },
    {
     "name": "stdout",
     "output_type": "stream",
     "text": [
      "Epoch 327, Training Loss: 0.02058404980925843, Validation Loss: 0.0029893971513956785\n"
     ]
    },
    {
     "name": "stderr",
     "output_type": "stream",
     "text": [
      "Epoch 328: 100%|█| 16/16 [00:10<00:00,  1.48it/s, loss=tensor(0.0030, \n"
     ]
    },
    {
     "name": "stdout",
     "output_type": "stream",
     "text": [
      "Epoch 328, Training Loss: 0.017262315552216023, Validation Loss: 0.0017045631539076567\n"
     ]
    },
    {
     "name": "stderr",
     "output_type": "stream",
     "text": [
      "Epoch 329: 100%|█| 16/16 [00:10<00:00,  1.47it/s, loss=tensor(0.0028, \n"
     ]
    },
    {
     "name": "stdout",
     "output_type": "stream",
     "text": [
      "Epoch 329, Training Loss: 0.018016983987763524, Validation Loss: 0.003606950049288571\n"
     ]
    },
    {
     "name": "stderr",
     "output_type": "stream",
     "text": [
      "Epoch 330: 100%|█| 16/16 [00:10<00:00,  1.48it/s, loss=tensor(0.0018, \n"
     ]
    },
    {
     "name": "stdout",
     "output_type": "stream",
     "text": [
      "Epoch 330, Training Loss: 0.027113243588246405, Validation Loss: 0.0025091986171901226\n"
     ]
    },
    {
     "name": "stderr",
     "output_type": "stream",
     "text": [
      "Epoch 331: 100%|█| 16/16 [00:10<00:00,  1.48it/s, loss=tensor(0.0040, \n"
     ]
    },
    {
     "name": "stdout",
     "output_type": "stream",
     "text": [
      "Epoch 331, Training Loss: 0.02119219012092799, Validation Loss: 0.0013176460633985698\n"
     ]
    },
    {
     "name": "stderr",
     "output_type": "stream",
     "text": [
      "Epoch 332: 100%|█| 16/16 [00:10<00:00,  1.47it/s, loss=tensor(0.0013, \n"
     ]
    },
    {
     "name": "stdout",
     "output_type": "stream",
     "text": [
      "Epoch 332, Training Loss: 0.016897081397473812, Validation Loss: 0.0015159169561229646\n"
     ]
    },
    {
     "name": "stderr",
     "output_type": "stream",
     "text": [
      "Epoch 333: 100%|█| 16/16 [00:10<00:00,  1.47it/s, loss=tensor(0.0027, \n"
     ]
    },
    {
     "name": "stdout",
     "output_type": "stream",
     "text": [
      "Epoch 333, Training Loss: 0.011148821678943932, Validation Loss: 0.0018101985333487391\n"
     ]
    },
    {
     "name": "stderr",
     "output_type": "stream",
     "text": [
      "Epoch 334: 100%|█| 16/16 [00:10<00:00,  1.52it/s, loss=tensor(0.0015, \n"
     ]
    },
    {
     "name": "stdout",
     "output_type": "stream",
     "text": [
      "Epoch 334, Training Loss: 0.016432768577942625, Validation Loss: 0.0016730965580791235\n"
     ]
    },
    {
     "name": "stderr",
     "output_type": "stream",
     "text": [
      "Epoch 335: 100%|█| 16/16 [00:10<00:00,  1.55it/s, loss=tensor(0.0012, \n"
     ]
    },
    {
     "name": "stdout",
     "output_type": "stream",
     "text": [
      "Epoch 335, Training Loss: 0.011220302432775497, Validation Loss: 0.001213921350426972\n"
     ]
    },
    {
     "name": "stderr",
     "output_type": "stream",
     "text": [
      "Epoch 336: 100%|█| 16/16 [00:10<00:00,  1.48it/s, loss=tensor(0.0018, \n"
     ]
    },
    {
     "name": "stdout",
     "output_type": "stream",
     "text": [
      "Epoch 336, Training Loss: 0.01888036838499829, Validation Loss: 0.0035756893921643496\n"
     ]
    },
    {
     "name": "stderr",
     "output_type": "stream",
     "text": [
      "Epoch 337: 100%|█| 16/16 [00:10<00:00,  1.48it/s, loss=tensor(0.0014, \n"
     ]
    },
    {
     "name": "stdout",
     "output_type": "stream",
     "text": [
      "Epoch 337, Training Loss: 0.01554661663249135, Validation Loss: 0.001525091181974858\n"
     ]
    },
    {
     "name": "stderr",
     "output_type": "stream",
     "text": [
      "Epoch 338: 100%|█| 16/16 [00:10<00:00,  1.48it/s, loss=tensor(0.0017, \n"
     ]
    },
    {
     "name": "stdout",
     "output_type": "stream",
     "text": [
      "Epoch 338, Training Loss: 0.0184604826499708, Validation Loss: 0.0013622206752188504\n"
     ]
    },
    {
     "name": "stderr",
     "output_type": "stream",
     "text": [
      "Epoch 339: 100%|█| 16/16 [00:10<00:00,  1.48it/s, loss=tensor(0.0025, \n"
     ]
    },
    {
     "name": "stdout",
     "output_type": "stream",
     "text": [
      "Epoch 339, Training Loss: 0.021317418257240206, Validation Loss: 0.0018973087426275015\n"
     ]
    },
    {
     "name": "stderr",
     "output_type": "stream",
     "text": [
      "Epoch 340: 100%|█| 16/16 [00:10<00:00,  1.48it/s, loss=tensor(0.0027, \n"
     ]
    },
    {
     "name": "stdout",
     "output_type": "stream",
     "text": [
      "Epoch 340, Training Loss: 0.016002629534341395, Validation Loss: 0.0035443385131657124\n"
     ]
    },
    {
     "name": "stderr",
     "output_type": "stream",
     "text": [
      "Epoch 341: 100%|█| 16/16 [00:10<00:00,  1.48it/s, loss=tensor(0.0015, \n"
     ]
    },
    {
     "name": "stdout",
     "output_type": "stream",
     "text": [
      "Epoch 341, Training Loss: 0.0154069890268147, Validation Loss: 0.0025368976639583707\n"
     ]
    },
    {
     "name": "stderr",
     "output_type": "stream",
     "text": [
      "Epoch 342: 100%|█| 16/16 [00:10<00:00,  1.55it/s, loss=tensor(0.0013, \n"
     ]
    },
    {
     "name": "stdout",
     "output_type": "stream",
     "text": [
      "Epoch 342, Training Loss: 0.013918641314376146, Validation Loss: 0.0012901097070425749\n"
     ]
    },
    {
     "name": "stderr",
     "output_type": "stream",
     "text": [
      "Epoch 343: 100%|█| 16/16 [00:10<00:00,  1.48it/s, loss=tensor(0.0015, \n"
     ]
    },
    {
     "name": "stdout",
     "output_type": "stream",
     "text": [
      "Epoch 343, Training Loss: 0.01626133534591645, Validation Loss: 0.003035175148397684\n"
     ]
    },
    {
     "name": "stderr",
     "output_type": "stream",
     "text": [
      "Epoch 344: 100%|█| 16/16 [00:10<00:00,  1.48it/s, loss=tensor(0.0014, \n"
     ]
    },
    {
     "name": "stdout",
     "output_type": "stream",
     "text": [
      "Epoch 344, Training Loss: 0.014564457582309842, Validation Loss: 0.001563813362736255\n"
     ]
    },
    {
     "name": "stderr",
     "output_type": "stream",
     "text": [
      "Epoch 345: 100%|█| 16/16 [00:10<00:00,  1.48it/s, loss=tensor(0.0011, \n"
     ]
    },
    {
     "name": "stdout",
     "output_type": "stream",
     "text": [
      "Epoch 345, Training Loss: 0.009970880288165063, Validation Loss: 0.0022759472485631704\n"
     ]
    },
    {
     "name": "stderr",
     "output_type": "stream",
     "text": [
      "Epoch 346: 100%|█| 16/16 [00:10<00:00,  1.48it/s, loss=tensor(0.0014, \n"
     ]
    },
    {
     "name": "stdout",
     "output_type": "stream",
     "text": [
      "Epoch 346, Training Loss: 0.009896573785226792, Validation Loss: 0.001286584185436368\n"
     ]
    },
    {
     "name": "stderr",
     "output_type": "stream",
     "text": [
      "Epoch 347: 100%|█| 16/16 [00:10<00:00,  1.48it/s, loss=tensor(0.0020, \n"
     ]
    },
    {
     "name": "stdout",
     "output_type": "stream",
     "text": [
      "Epoch 347, Training Loss: 0.011253289820160717, Validation Loss: 0.0012483503087423742\n"
     ]
    },
    {
     "name": "stderr",
     "output_type": "stream",
     "text": [
      "Epoch 348: 100%|█| 16/16 [00:10<00:00,  1.48it/s, loss=tensor(0.0012, \n"
     ]
    },
    {
     "name": "stdout",
     "output_type": "stream",
     "text": [
      "Epoch 348, Training Loss: 0.013141563162207603, Validation Loss: 0.0018293014145456254\n"
     ]
    },
    {
     "name": "stderr",
     "output_type": "stream",
     "text": [
      "Epoch 349: 100%|█| 16/16 [00:10<00:00,  1.48it/s, loss=tensor(0.0014, \n"
     ]
    },
    {
     "name": "stdout",
     "output_type": "stream",
     "text": [
      "Epoch 349, Training Loss: 0.0132913967827335, Validation Loss: 0.0017000826192088425\n"
     ]
    },
    {
     "name": "stderr",
     "output_type": "stream",
     "text": [
      "Epoch 350: 100%|█| 16/16 [00:09<00:00,  1.66it/s, loss=tensor(0.0041, \n"
     ]
    },
    {
     "name": "stdout",
     "output_type": "stream",
     "text": [
      "Epoch 350, Training Loss: 0.014410210540518165, Validation Loss: 0.0015621960046701133\n"
     ]
    },
    {
     "name": "stderr",
     "output_type": "stream",
     "text": [
      "Epoch 351: 100%|█| 16/16 [00:10<00:00,  1.48it/s, loss=tensor(0.0019, \n"
     ]
    },
    {
     "name": "stdout",
     "output_type": "stream",
     "text": [
      "Epoch 351, Training Loss: 0.026228017813991755, Validation Loss: 0.0015302383108064532\n"
     ]
    },
    {
     "name": "stderr",
     "output_type": "stream",
     "text": [
      "Epoch 352: 100%|█| 16/16 [00:10<00:00,  1.48it/s, loss=tensor(0.0024, \n"
     ]
    },
    {
     "name": "stdout",
     "output_type": "stream",
     "text": [
      "Epoch 352, Training Loss: 0.021355292876251042, Validation Loss: 0.0015714672626927495\n"
     ]
    },
    {
     "name": "stderr",
     "output_type": "stream",
     "text": [
      "Epoch 353: 100%|█| 16/16 [00:10<00:00,  1.48it/s, loss=tensor(0.0013, \n"
     ]
    },
    {
     "name": "stdout",
     "output_type": "stream",
     "text": [
      "Epoch 353, Training Loss: 0.015540378692094237, Validation Loss: 0.0014803546364419162\n"
     ]
    },
    {
     "name": "stderr",
     "output_type": "stream",
     "text": [
      "Epoch 354: 100%|█| 16/16 [00:10<00:00,  1.47it/s, loss=tensor(0.0012, \n"
     ]
    },
    {
     "name": "stdout",
     "output_type": "stream",
     "text": [
      "Epoch 354, Training Loss: 0.01341611286625266, Validation Loss: 0.0021860491251572967\n"
     ]
    },
    {
     "name": "stderr",
     "output_type": "stream",
     "text": [
      "Epoch 355: 100%|█| 16/16 [00:10<00:00,  1.47it/s, loss=tensor(0.0010, \n"
     ]
    },
    {
     "name": "stdout",
     "output_type": "stream",
     "text": [
      "Epoch 355, Training Loss: 0.011355035123415291, Validation Loss: 0.0013936619507148862\n"
     ]
    },
    {
     "name": "stderr",
     "output_type": "stream",
     "text": [
      "Epoch 356: 100%|█| 16/16 [00:10<00:00,  1.48it/s, loss=tensor(0.0033, \n"
     ]
    },
    {
     "name": "stdout",
     "output_type": "stream",
     "text": [
      "Epoch 356, Training Loss: 0.019466805271804333, Validation Loss: 0.0012095565325580537\n"
     ]
    },
    {
     "name": "stderr",
     "output_type": "stream",
     "text": [
      "Epoch 357: 100%|█| 16/16 [00:10<00:00,  1.48it/s, loss=tensor(0.0049, \n"
     ]
    },
    {
     "name": "stdout",
     "output_type": "stream",
     "text": [
      "Epoch 357, Training Loss: 0.02046245220117271, Validation Loss: 0.0011649272637441754\n"
     ]
    },
    {
     "name": "stderr",
     "output_type": "stream",
     "text": [
      "Epoch 358: 100%|█| 16/16 [00:09<00:00,  1.66it/s, loss=tensor(0.0016, \n"
     ]
    },
    {
     "name": "stdout",
     "output_type": "stream",
     "text": [
      "Epoch 358, Training Loss: 0.015337831748183817, Validation Loss: 0.0014506932348012924\n"
     ]
    },
    {
     "name": "stderr",
     "output_type": "stream",
     "text": [
      "Epoch 359: 100%|█| 16/16 [00:10<00:00,  1.47it/s, loss=tensor(0.0014, \n"
     ]
    },
    {
     "name": "stdout",
     "output_type": "stream",
     "text": [
      "Epoch 359, Training Loss: 0.012292419211007655, Validation Loss: 0.0014056150102987885\n"
     ]
    },
    {
     "name": "stderr",
     "output_type": "stream",
     "text": [
      "Epoch 360: 100%|█| 16/16 [00:10<00:00,  1.47it/s, loss=tensor(0.0010, \n"
     ]
    },
    {
     "name": "stdout",
     "output_type": "stream",
     "text": [
      "Epoch 360, Training Loss: 0.011374802037607878, Validation Loss: 0.0011769402772188187\n"
     ]
    },
    {
     "name": "stderr",
     "output_type": "stream",
     "text": [
      "Epoch 361: 100%|█| 16/16 [00:10<00:00,  1.48it/s, loss=tensor(0.0011, \n"
     ]
    },
    {
     "name": "stdout",
     "output_type": "stream",
     "text": [
      "Epoch 361, Training Loss: 0.01233474415494129, Validation Loss: 0.0016348875360563397\n"
     ]
    },
    {
     "name": "stderr",
     "output_type": "stream",
     "text": [
      "Epoch 362: 100%|█| 16/16 [00:10<00:00,  1.47it/s, loss=tensor(0.0011, \n"
     ]
    },
    {
     "name": "stdout",
     "output_type": "stream",
     "text": [
      "Epoch 362, Training Loss: 0.011934061592910439, Validation Loss: 0.0016360158333554864\n"
     ]
    },
    {
     "name": "stderr",
     "output_type": "stream",
     "text": [
      "Epoch 363: 100%|█| 16/16 [00:10<00:00,  1.48it/s, loss=tensor(0.0018, \n"
     ]
    },
    {
     "name": "stdout",
     "output_type": "stream",
     "text": [
      "Epoch 363, Training Loss: 0.013653331669047475, Validation Loss: 0.0011759281624108553\n"
     ]
    },
    {
     "name": "stderr",
     "output_type": "stream",
     "text": [
      "Epoch 364: 100%|█| 16/16 [00:10<00:00,  1.47it/s, loss=tensor(0.0060, \n"
     ]
    },
    {
     "name": "stdout",
     "output_type": "stream",
     "text": [
      "Epoch 364, Training Loss: 0.014076304854825139, Validation Loss: 0.002387601067312062\n"
     ]
    },
    {
     "name": "stderr",
     "output_type": "stream",
     "text": [
      "Epoch 365: 100%|█| 16/16 [00:10<00:00,  1.48it/s, loss=tensor(0.0040, \n"
     ]
    },
    {
     "name": "stdout",
     "output_type": "stream",
     "text": [
      "Epoch 365, Training Loss: 0.025529982580337673, Validation Loss: 0.0029923401307314634\n"
     ]
    },
    {
     "name": "stderr",
     "output_type": "stream",
     "text": [
      "Epoch 366: 100%|█| 16/16 [00:09<00:00,  1.66it/s, loss=tensor(0.0029, \n"
     ]
    },
    {
     "name": "stdout",
     "output_type": "stream",
     "text": [
      "Epoch 366, Training Loss: 0.03053093299968168, Validation Loss: 0.0027308851713314652\n"
     ]
    },
    {
     "name": "stderr",
     "output_type": "stream",
     "text": [
      "Epoch 367: 100%|█| 16/16 [00:10<00:00,  1.47it/s, loss=tensor(0.0016, \n"
     ]
    },
    {
     "name": "stdout",
     "output_type": "stream",
     "text": [
      "Epoch 367, Training Loss: 0.022247379180043936, Validation Loss: 0.0026926285354420543\n"
     ]
    },
    {
     "name": "stderr",
     "output_type": "stream",
     "text": [
      "Epoch 368: 100%|█| 16/16 [00:10<00:00,  1.48it/s, loss=tensor(0.0021, \n"
     ]
    },
    {
     "name": "stdout",
     "output_type": "stream",
     "text": [
      "Epoch 368, Training Loss: 0.018175280187278986, Validation Loss: 0.002125071478076279\n"
     ]
    },
    {
     "name": "stderr",
     "output_type": "stream",
     "text": [
      "Epoch 369: 100%|█| 16/16 [00:10<00:00,  1.48it/s, loss=tensor(0.0039, \n"
     ]
    },
    {
     "name": "stdout",
     "output_type": "stream",
     "text": [
      "Epoch 369, Training Loss: 0.025501825322862715, Validation Loss: 0.0013429540558718145\n"
     ]
    },
    {
     "name": "stderr",
     "output_type": "stream",
     "text": [
      "Epoch 370: 100%|█| 16/16 [00:10<00:00,  1.48it/s, loss=tensor(0.0014, \n"
     ]
    },
    {
     "name": "stdout",
     "output_type": "stream",
     "text": [
      "Epoch 370, Training Loss: 0.01797745074145496, Validation Loss: 0.003627472324296832\n"
     ]
    },
    {
     "name": "stderr",
     "output_type": "stream",
     "text": [
      "Epoch 371: 100%|█| 16/16 [00:10<00:00,  1.47it/s, loss=tensor(0.0009, \n"
     ]
    },
    {
     "name": "stdout",
     "output_type": "stream",
     "text": [
      "Epoch 371, Training Loss: 0.01250249837175943, Validation Loss: 0.0014901840477250516\n"
     ]
    },
    {
     "name": "stderr",
     "output_type": "stream",
     "text": [
      "Epoch 372: 100%|█| 16/16 [00:10<00:00,  1.48it/s, loss=tensor(0.0009, \n"
     ]
    },
    {
     "name": "stdout",
     "output_type": "stream",
     "text": [
      "Epoch 372, Training Loss: 0.012043002061545849, Validation Loss: 0.0013975538313388824\n"
     ]
    },
    {
     "name": "stderr",
     "output_type": "stream",
     "text": [
      "Epoch 373: 100%|█| 16/16 [00:10<00:00,  1.48it/s, loss=tensor(0.0019, \n"
     ]
    },
    {
     "name": "stdout",
     "output_type": "stream",
     "text": [
      "Epoch 373, Training Loss: 0.010599624132737517, Validation Loss: 0.0012765871360898018\n"
     ]
    },
    {
     "name": "stderr",
     "output_type": "stream",
     "text": [
      "Epoch 374: 100%|█| 16/16 [00:09<00:00,  1.65it/s, loss=tensor(0.0013, \n"
     ]
    },
    {
     "name": "stdout",
     "output_type": "stream",
     "text": [
      "Epoch 374, Training Loss: 0.0113088617217727, Validation Loss: 0.0011584303574636579\n"
     ]
    },
    {
     "name": "stderr",
     "output_type": "stream",
     "text": [
      "Epoch 375: 100%|█| 16/16 [00:10<00:00,  1.47it/s, loss=tensor(0.0022, \n"
     ]
    },
    {
     "name": "stdout",
     "output_type": "stream",
     "text": [
      "Epoch 375, Training Loss: 0.015523247013334185, Validation Loss: 0.0020202146843075752\n"
     ]
    },
    {
     "name": "stderr",
     "output_type": "stream",
     "text": [
      "Epoch 376: 100%|█| 16/16 [00:10<00:00,  1.47it/s, loss=tensor(0.0012, \n"
     ]
    },
    {
     "name": "stdout",
     "output_type": "stream",
     "text": [
      "Epoch 376, Training Loss: 0.01699115859810263, Validation Loss: 0.002533384133130312\n"
     ]
    },
    {
     "name": "stderr",
     "output_type": "stream",
     "text": [
      "Epoch 377: 100%|█| 16/16 [00:10<00:00,  1.48it/s, loss=tensor(0.0012, \n"
     ]
    },
    {
     "name": "stdout",
     "output_type": "stream",
     "text": [
      "Epoch 377, Training Loss: 0.013160807255189866, Validation Loss: 0.001585477846674621\n"
     ]
    },
    {
     "name": "stderr",
     "output_type": "stream",
     "text": [
      "Epoch 378: 100%|█| 16/16 [00:10<00:00,  1.47it/s, loss=tensor(0.0016, \n"
     ]
    },
    {
     "name": "stdout",
     "output_type": "stream",
     "text": [
      "Epoch 378, Training Loss: 0.010680505482014269, Validation Loss: 0.0010625445283949375\n"
     ]
    },
    {
     "name": "stderr",
     "output_type": "stream",
     "text": [
      "Epoch 379: 100%|█| 16/16 [00:10<00:00,  1.47it/s, loss=tensor(0.0012, \n"
     ]
    },
    {
     "name": "stdout",
     "output_type": "stream",
     "text": [
      "Epoch 379, Training Loss: 0.011599688441492617, Validation Loss: 0.001775394193828106\n"
     ]
    },
    {
     "name": "stderr",
     "output_type": "stream",
     "text": [
      "Epoch 380: 100%|█| 16/16 [00:10<00:00,  1.47it/s, loss=tensor(0.0009, \n"
     ]
    },
    {
     "name": "stdout",
     "output_type": "stream",
     "text": [
      "Epoch 380, Training Loss: 0.009624630416510627, Validation Loss: 0.0014353871229104698\n"
     ]
    },
    {
     "name": "stderr",
     "output_type": "stream",
     "text": [
      "Epoch 381: 100%|█| 16/16 [00:10<00:00,  1.48it/s, loss=tensor(0.0013, \n"
     ]
    },
    {
     "name": "stdout",
     "output_type": "stream",
     "text": [
      "Epoch 381, Training Loss: 0.009716667758766562, Validation Loss: 0.0011997674009762704\n"
     ]
    },
    {
     "name": "stderr",
     "output_type": "stream",
     "text": [
      "Epoch 382: 100%|█| 16/16 [00:09<00:00,  1.64it/s, loss=tensor(0.0008, \n"
     ]
    },
    {
     "name": "stdout",
     "output_type": "stream",
     "text": [
      "Epoch 382, Training Loss: 0.009119181981077418, Validation Loss: 0.0011552153155207634\n"
     ]
    },
    {
     "name": "stderr",
     "output_type": "stream",
     "text": [
      "Epoch 383: 100%|█| 16/16 [00:11<00:00,  1.45it/s, loss=tensor(0.0010, \n"
     ]
    },
    {
     "name": "stdout",
     "output_type": "stream",
     "text": [
      "Epoch 383, Training Loss: 0.00892135631875135, Validation Loss: 0.0011987523175776005\n"
     ]
    },
    {
     "name": "stderr",
     "output_type": "stream",
     "text": [
      "Epoch 384: 100%|█| 16/16 [00:10<00:00,  1.47it/s, loss=tensor(0.0009, \n"
     ]
    },
    {
     "name": "stdout",
     "output_type": "stream",
     "text": [
      "Epoch 384, Training Loss: 0.008717406279174611, Validation Loss: 0.0009797288221307099\n"
     ]
    },
    {
     "name": "stderr",
     "output_type": "stream",
     "text": [
      "100%|███████████████████████████████████████████████████████████████████████████████| 1000/1000 [00:29<00:00, 34.39it/s]\n"
     ]
    },
    {
     "data": {
      "image/png": "[encoded data removed]",
      "text/plain": [
       "<Figure size 200x200 with 1 Axes>"
      ]
     },
     "metadata": {},
     "output_type": "display_data"
    },
    {
     "name": "stderr",
     "output_type": "stream",
     "text": [
      "Epoch 385: 100%|█| 16/16 [00:10<00:00,  1.47it/s, loss=tensor(0.0026, \n"
     ]
    },
    {
     "name": "stdout",
     "output_type": "stream",
     "text": [
      "Epoch 385, Training Loss: 0.010415697674034163, Validation Loss: 0.0017297902959398925\n"
     ]
    },
    {
     "name": "stderr",
     "output_type": "stream",
     "text": [
      "Epoch 386: 100%|█| 16/16 [00:09<00:00,  1.64it/s, loss=tensor(0.0023, \n"
     ]
    },
    {
     "name": "stdout",
     "output_type": "stream",
     "text": [
      "Epoch 386, Training Loss: 0.025703618419356644, Validation Loss: 0.005870111985132098\n"
     ]
    },
    {
     "name": "stderr",
     "output_type": "stream",
     "text": [
      "Epoch 387: 100%|█| 16/16 [00:10<00:00,  1.47it/s, loss=tensor(0.0070, \n"
     ]
    },
    {
     "name": "stdout",
     "output_type": "stream",
     "text": [
      "Epoch 387, Training Loss: 0.05863067286554724, Validation Loss: 0.007827532244846225\n"
     ]
    },
    {
     "name": "stderr",
     "output_type": "stream",
     "text": [
      "Epoch 388: 100%|█| 16/16 [00:10<00:00,  1.48it/s, loss=tensor(0.0034, \n"
     ]
    },
    {
     "name": "stdout",
     "output_type": "stream",
     "text": [
      "Epoch 388, Training Loss: 0.04164554877206683, Validation Loss: 0.0030880022095516324\n"
     ]
    },
    {
     "name": "stderr",
     "output_type": "stream",
     "text": [
      "Epoch 389: 100%|█| 16/16 [00:10<00:00,  1.48it/s, loss=tensor(0.0013, \n"
     ]
    },
    {
     "name": "stdout",
     "output_type": "stream",
     "text": [
      "Epoch 389, Training Loss: 0.021365003776736557, Validation Loss: 0.0015555854188278317\n"
     ]
    },
    {
     "name": "stderr",
     "output_type": "stream",
     "text": [
      "Epoch 390: 100%|█| 16/16 [00:10<00:00,  1.48it/s, loss=tensor(0.0016, \n"
     ]
    },
    {
     "name": "stdout",
     "output_type": "stream",
     "text": [
      "Epoch 390, Training Loss: 0.013999140355736017, Validation Loss: 0.001847644743975252\n"
     ]
    },
    {
     "name": "stderr",
     "output_type": "stream",
     "text": [
      "Epoch 391: 100%|█| 16/16 [00:10<00:00,  1.48it/s, loss=tensor(0.0012, \n"
     ]
    },
    {
     "name": "stdout",
     "output_type": "stream",
     "text": [
      "Epoch 391, Training Loss: 0.012336554616922513, Validation Loss: 0.001207697088830173\n"
     ]
    },
    {
     "name": "stderr",
     "output_type": "stream",
     "text": [
      "Epoch 392: 100%|█| 16/16 [00:10<00:00,  1.47it/s, loss=tensor(0.0012, \n"
     ]
    },
    {
     "name": "stdout",
     "output_type": "stream",
     "text": [
      "Epoch 392, Training Loss: 0.010466836101841182, Validation Loss: 0.0016611384926363826\n"
     ]
    },
    {
     "name": "stderr",
     "output_type": "stream",
     "text": [
      "Epoch 393: 100%|█| 16/16 [00:10<00:00,  1.49it/s, loss=tensor(0.0010, \n"
     ]
    },
    {
     "name": "stdout",
     "output_type": "stream",
     "text": [
      "Epoch 393, Training Loss: 0.009182025940390304, Validation Loss: 0.0011054903152398765\n"
     ]
    },
    {
     "name": "stderr",
     "output_type": "stream",
     "text": [
      "Epoch 394: 100%|█| 16/16 [00:09<00:00,  1.62it/s, loss=tensor(0.0012, \n"
     ]
    },
    {
     "name": "stdout",
     "output_type": "stream",
     "text": [
      "Epoch 394, Training Loss: 0.011224243207834661, Validation Loss: 0.0010518427297938615\n"
     ]
    },
    {
     "name": "stderr",
     "output_type": "stream",
     "text": [
      "Epoch 395: 100%|█| 16/16 [00:10<00:00,  1.48it/s, loss=tensor(0.0014, \n"
     ]
    },
    {
     "name": "stdout",
     "output_type": "stream",
     "text": [
      "Epoch 395, Training Loss: 0.010312257683835924, Validation Loss: 0.0010377212893217802\n"
     ]
    },
    {
     "name": "stderr",
     "output_type": "stream",
     "text": [
      "Epoch 396: 100%|█| 16/16 [00:10<00:00,  1.47it/s, loss=tensor(0.0017, \n"
     ]
    },
    {
     "name": "stdout",
     "output_type": "stream",
     "text": [
      "Epoch 396, Training Loss: 0.013711492589209229, Validation Loss: 0.002201800001785159\n"
     ]
    },
    {
     "name": "stderr",
     "output_type": "stream",
     "text": [
      "Epoch 397: 100%|█| 16/16 [00:10<00:00,  1.48it/s, loss=tensor(0.0022, \n"
     ]
    },
    {
     "name": "stdout",
     "output_type": "stream",
     "text": [
      "Epoch 397, Training Loss: 0.025802002113778144, Validation Loss: 0.0036596058635041118\n"
     ]
    },
    {
     "name": "stderr",
     "output_type": "stream",
     "text": [
      "Epoch 398: 100%|█| 16/16 [00:10<00:00,  1.48it/s, loss=tensor(0.0026, \n"
     ]
    },
    {
     "name": "stdout",
     "output_type": "stream",
     "text": [
      "Epoch 398, Training Loss: 0.023290726414415985, Validation Loss: 0.0021791363833472133\n"
     ]
    },
    {
     "name": "stderr",
     "output_type": "stream",
     "text": [
      "Epoch 399: 100%|█| 16/16 [00:10<00:00,  1.48it/s, loss=tensor(0.0012, \n"
     ]
    },
    {
     "name": "stdout",
     "output_type": "stream",
     "text": [
      "Epoch 399, Training Loss: 0.017232836922630668, Validation Loss: 0.0012568997335620224\n"
     ]
    },
    {
     "name": "stderr",
     "output_type": "stream",
     "text": [
      "Epoch 400: 100%|█| 16/16 [00:10<00:00,  1.48it/s, loss=tensor(0.0017, \n"
     ]
    },
    {
     "name": "stdout",
     "output_type": "stream",
     "text": [
      "Epoch 400, Training Loss: 0.019390221685171127, Validation Loss: 0.0013017667224630713\n"
     ]
    },
    {
     "name": "stderr",
     "output_type": "stream",
     "text": [
      "Epoch 401: 100%|█| 16/16 [00:10<00:00,  1.49it/s, loss=tensor(0.0019, \n"
     ]
    },
    {
     "name": "stdout",
     "output_type": "stream",
     "text": [
      "Epoch 401, Training Loss: 0.013524232315830886, Validation Loss: 0.004499290720559657\n"
     ]
    },
    {
     "name": "stderr",
     "output_type": "stream",
     "text": [
      "Epoch 402: 100%|█| 16/16 [00:09<00:00,  1.62it/s, loss=tensor(0.0032, \n"
     ]
    },
    {
     "name": "stdout",
     "output_type": "stream",
     "text": [
      "Epoch 402, Training Loss: 0.03774977556895465, Validation Loss: 0.0034748620819300413\n"
     ]
    },
    {
     "name": "stderr",
     "output_type": "stream",
     "text": [
      "Epoch 403: 100%|█| 16/16 [00:10<00:00,  1.48it/s, loss=tensor(0.0013, \n"
     ]
    },
    {
     "name": "stdout",
     "output_type": "stream",
     "text": [
      "Epoch 403, Training Loss: 0.023219263937789947, Validation Loss: 0.0016711368225514889\n"
     ]
    },
    {
     "name": "stderr",
     "output_type": "stream",
     "text": [
      "Epoch 404: 100%|█| 16/16 [00:10<00:00,  1.48it/s, loss=tensor(0.0011, \n"
     ]
    },
    {
     "name": "stdout",
     "output_type": "stream",
     "text": [
      "Epoch 404, Training Loss: 0.013117115013301373, Validation Loss: 0.0013718926347792149\n"
     ]
    },
    {
     "name": "stderr",
     "output_type": "stream",
     "text": [
      "Epoch 405: 100%|█| 16/16 [00:10<00:00,  1.48it/s, loss=tensor(0.0011, \n"
     ]
    },
    {
     "name": "stdout",
     "output_type": "stream",
     "text": [
      "Epoch 405, Training Loss: 0.00968548416858539, Validation Loss: 0.0010597754153423011\n"
     ]
    },
    {
     "name": "stderr",
     "output_type": "stream",
     "text": [
      "Epoch 406: 100%|█| 16/16 [00:10<00:00,  1.47it/s, loss=tensor(0.0013, \n"
     ]
    },
    {
     "name": "stdout",
     "output_type": "stream",
     "text": [
      "Epoch 406, Training Loss: 0.009999999223509803, Validation Loss: 0.0012508818181231618\n"
     ]
    },
    {
     "name": "stderr",
     "output_type": "stream",
     "text": [
      "Epoch 407: 100%|█| 16/16 [00:10<00:00,  1.47it/s, loss=tensor(0.0014, \n"
     ]
    },
    {
     "name": "stdout",
     "output_type": "stream",
     "text": [
      "Epoch 407, Training Loss: 0.009402228082763031, Validation Loss: 0.0010671387426555157\n"
     ]
    },
    {
     "name": "stderr",
     "output_type": "stream",
     "text": [
      "Epoch 408: 100%|█| 16/16 [00:10<00:00,  1.48it/s, loss=tensor(0.0019, \n"
     ]
    },
    {
     "name": "stdout",
     "output_type": "stream",
     "text": [
      "Epoch 408, Training Loss: 0.012896866508526728, Validation Loss: 0.003008614992722869\n"
     ]
    },
    {
     "name": "stderr",
     "output_type": "stream",
     "text": [
      "Epoch 409: 100%|█| 16/16 [00:10<00:00,  1.50it/s, loss=tensor(0.0015, \n"
     ]
    },
    {
     "name": "stdout",
     "output_type": "stream",
     "text": [
      "Epoch 409, Training Loss: 0.013606618158519268, Validation Loss: 0.0018270749133080244\n"
     ]
    },
    {
     "name": "stderr",
     "output_type": "stream",
     "text": [
      "Epoch 410: 100%|█| 16/16 [00:10<00:00,  1.53it/s, loss=tensor(0.0013, \n"
     ]
    },
    {
     "name": "stdout",
     "output_type": "stream",
     "text": [
      "Epoch 410, Training Loss: 0.011226348753552884, Validation Loss: 0.0011810779105871916\n"
     ]
    },
    {
     "name": "stderr",
     "output_type": "stream",
     "text": [
      "Epoch 411: 100%|█| 16/16 [00:10<00:00,  1.47it/s, loss=tensor(0.0010, \n"
     ]
    },
    {
     "name": "stdout",
     "output_type": "stream",
     "text": [
      "Epoch 411, Training Loss: 0.008953235519584268, Validation Loss: 0.0014699686435051262\n"
     ]
    },
    {
     "name": "stderr",
     "output_type": "stream",
     "text": [
      "Epoch 412: 100%|█| 16/16 [00:10<00:00,  1.48it/s, loss=tensor(0.0009, \n"
     ]
    },
    {
     "name": "stdout",
     "output_type": "stream",
     "text": [
      "Epoch 412, Training Loss: 0.007568861357867718, Validation Loss: 0.0009430178324691951\n"
     ]
    },
    {
     "name": "stderr",
     "output_type": "stream",
     "text": [
      "100%|███████████████████████████████████████████████████████████████████████████████| 1000/1000 [00:28<00:00, 34.92it/s]\n"
     ]
    },
    {
     "data": {
      "image/png": "[encoded data removed]",
      "text/plain": [
       "<Figure size 200x200 with 1 Axes>"
      ]
     },
     "metadata": {},
     "output_type": "display_data"
    },
    {
     "name": "stderr",
     "output_type": "stream",
     "text": [
      "Epoch 413: 100%|█| 16/16 [00:10<00:00,  1.50it/s, loss=tensor(0.0009, \n"
     ]
    },
    {
     "name": "stdout",
     "output_type": "stream",
     "text": [
      "Epoch 413, Training Loss: 0.007847640110412613, Validation Loss: 0.0009653178858570755\n"
     ]
    },
    {
     "name": "stderr",
     "output_type": "stream",
     "text": [
      "Epoch 414: 100%|█| 16/16 [00:09<00:00,  1.65it/s, loss=tensor(0.0009, \n"
     ]
    },
    {
     "name": "stdout",
     "output_type": "stream",
     "text": [
      "Epoch 414, Training Loss: 0.00889981648651883, Validation Loss: 0.0010906382813118398\n"
     ]
    },
    {
     "name": "stderr",
     "output_type": "stream",
     "text": [
      "Epoch 415: 100%|█| 16/16 [00:10<00:00,  1.48it/s, loss=tensor(0.0009, \n"
     ]
    },
    {
     "name": "stdout",
     "output_type": "stream",
     "text": [
      "Epoch 415, Training Loss: 0.008964248845586553, Validation Loss: 0.0009137479937635362\n"
     ]
    },
    {
     "name": "stderr",
     "output_type": "stream",
     "text": [
      "100%|███████████████████████████████████████████████████████████████████████████████| 1000/1000 [00:28<00:00, 35.35it/s]\n"
     ]
    },
    {
     "data": {
      "image/png": "[encoded data removed]",
      "text/plain": [
       "<Figure size 200x200 with 1 Axes>"
      ]
     },
     "metadata": {},
     "output_type": "display_data"
    },
    {
     "name": "stderr",
     "output_type": "stream",
     "text": [
      "Epoch 416: 100%|█| 16/16 [00:10<00:00,  1.48it/s, loss=tensor(0.0012, \n"
     ]
    },
    {
     "name": "stdout",
     "output_type": "stream",
     "text": [
      "Epoch 416, Training Loss: 0.013020614045672119, Validation Loss: 0.002298849984072149\n"
     ]
    },
    {
     "name": "stderr",
     "output_type": "stream",
     "text": [
      "Epoch 417: 100%|█| 16/16 [00:10<00:00,  1.49it/s, loss=tensor(0.0026, \n"
     ]
    },
    {
     "name": "stdout",
     "output_type": "stream",
     "text": [
      "Epoch 417, Training Loss: 0.019285125308670104, Validation Loss: 0.002961132558993995\n"
     ]
    },
    {
     "name": "stderr",
     "output_type": "stream",
     "text": [
      "Epoch 418: 100%|█| 16/16 [00:09<00:00,  1.63it/s, loss=tensor(0.0011, \n"
     ]
    },
    {
     "name": "stdout",
     "output_type": "stream",
     "text": [
      "Epoch 418, Training Loss: 0.015195382351521403, Validation Loss: 0.0015679336502216756\n"
     ]
    },
    {
     "name": "stderr",
     "output_type": "stream",
     "text": [
      "Epoch 419: 100%|█| 16/16 [00:10<00:00,  1.48it/s, loss=tensor(0.0014, \n"
     ]
    },
    {
     "name": "stdout",
     "output_type": "stream",
     "text": [
      "Epoch 419, Training Loss: 0.014882924791891128, Validation Loss: 0.003028040169738233\n"
     ]
    },
    {
     "name": "stderr",
     "output_type": "stream",
     "text": [
      "Epoch 420: 100%|█| 16/16 [00:10<00:00,  1.47it/s, loss=tensor(0.0033, \n"
     ]
    },
    {
     "name": "stdout",
     "output_type": "stream",
     "text": [
      "Epoch 420, Training Loss: 0.014956292463466525, Validation Loss: 0.001601794094312936\n"
     ]
    },
    {
     "name": "stderr",
     "output_type": "stream",
     "text": [
      "Epoch 421: 100%|█| 16/16 [00:10<00:00,  1.48it/s, loss=tensor(0.0045, \n"
     ]
    },
    {
     "name": "stdout",
     "output_type": "stream",
     "text": [
      "Epoch 421, Training Loss: 0.0263363603153266, Validation Loss: 0.0016110735014081001\n"
     ]
    },
    {
     "name": "stderr",
     "output_type": "stream",
     "text": [
      "Epoch 422: 100%|█| 16/16 [00:10<00:00,  1.48it/s, loss=tensor(0.0085, \n"
     ]
    },
    {
     "name": "stdout",
     "output_type": "stream",
     "text": [
      "Epoch 422, Training Loss: 0.042679678939748555, Validation Loss: 0.0019367416971363127\n"
     ]
    },
    {
     "name": "stderr",
     "output_type": "stream",
     "text": [
      "Epoch 423: 100%|█| 16/16 [00:10<00:00,  1.48it/s, loss=tensor(0.0032, \n"
     ]
    },
    {
     "name": "stdout",
     "output_type": "stream",
     "text": [
      "Epoch 423, Training Loss: 0.02711346506839618, Validation Loss: 0.0021334700868465006\n"
     ]
    },
    {
     "name": "stderr",
     "output_type": "stream",
     "text": [
      "Epoch 424: 100%|█| 16/16 [00:10<00:00,  1.48it/s, loss=tensor(0.0036, \n"
     ]
    },
    {
     "name": "stdout",
     "output_type": "stream",
     "text": [
      "Epoch 424, Training Loss: 0.01476513798115775, Validation Loss: 0.0013590004527941346\n"
     ]
    },
    {
     "name": "stderr",
     "output_type": "stream",
     "text": [
      "Epoch 425: 100%|█| 16/16 [00:10<00:00,  1.50it/s, loss=tensor(0.0014, \n"
     ]
    },
    {
     "name": "stdout",
     "output_type": "stream",
     "text": [
      "Epoch 425, Training Loss: 0.012696503952611238, Validation Loss: 0.0010469832341186702\n"
     ]
    },
    {
     "name": "stderr",
     "output_type": "stream",
     "text": [
      "Epoch 426: 100%|█| 16/16 [00:09<00:00,  1.62it/s, loss=tensor(0.0022, \n"
     ]
    },
    {
     "name": "stdout",
     "output_type": "stream",
     "text": [
      "Epoch 426, Training Loss: 0.011755495594115928, Validation Loss: 0.001517134835012257\n"
     ]
    },
    {
     "name": "stderr",
     "output_type": "stream",
     "text": [
      "Epoch 427: 100%|█| 16/16 [00:10<00:00,  1.48it/s, loss=tensor(0.0011, \n"
     ]
    },
    {
     "name": "stdout",
     "output_type": "stream",
     "text": [
      "Epoch 427, Training Loss: 0.011334710870869458, Validation Loss: 0.0010775696719065309\n"
     ]
    },
    {
     "name": "stderr",
     "output_type": "stream",
     "text": [
      "Epoch 428: 100%|█| 16/16 [00:10<00:00,  1.48it/s, loss=tensor(0.0011, \n"
     ]
    },
    {
     "name": "stdout",
     "output_type": "stream",
     "text": [
      "Epoch 428, Training Loss: 0.009869156288914382, Validation Loss: 0.001304310280829668\n"
     ]
    },
    {
     "name": "stderr",
     "output_type": "stream",
     "text": [
      "Epoch 429: 100%|█| 16/16 [00:10<00:00,  1.47it/s, loss=tensor(0.0017, \n"
     ]
    },
    {
     "name": "stdout",
     "output_type": "stream",
     "text": [
      "Epoch 429, Training Loss: 0.008956676203524694, Validation Loss: 0.0013255635858513415\n"
     ]
    },
    {
     "name": "stderr",
     "output_type": "stream",
     "text": [
      "Epoch 430: 100%|█| 16/16 [00:10<00:00,  1.47it/s, loss=tensor(0.0012, \n"
     ]
    },
    {
     "name": "stdout",
     "output_type": "stream",
     "text": [
      "Epoch 430, Training Loss: 0.008606258343206719, Validation Loss: 0.00114089110866189\n"
     ]
    },
    {
     "name": "stderr",
     "output_type": "stream",
     "text": [
      "Epoch 431: 100%|█| 16/16 [00:10<00:00,  1.48it/s, loss=tensor(0.0013, \n"
     ]
    },
    {
     "name": "stdout",
     "output_type": "stream",
     "text": [
      "Epoch 431, Training Loss: 0.00991776050068438, Validation Loss: 0.0013910825364291668\n"
     ]
    },
    {
     "name": "stderr",
     "output_type": "stream",
     "text": [
      "Epoch 432: 100%|█| 16/16 [00:10<00:00,  1.48it/s, loss=tensor(0.0011, \n"
     ]
    },
    {
     "name": "stdout",
     "output_type": "stream",
     "text": [
      "Epoch 432, Training Loss: 0.008628753945231438, Validation Loss: 0.0008897763327695429\n"
     ]
    },
    {
     "name": "stderr",
     "output_type": "stream",
     "text": [
      "100%|███████████████████████████████████████████████████████████████████████████████| 1000/1000 [00:29<00:00, 33.63it/s]\n"
     ]
    },
    {
     "data": {
      "image/png": "[encoded data removed]",
      "text/plain": [
       "<Figure size 200x200 with 1 Axes>"
      ]
     },
     "metadata": {},
     "output_type": "display_data"
    },
    {
     "name": "stderr",
     "output_type": "stream",
     "text": [
      "Epoch 433: 100%|█| 16/16 [00:10<00:00,  1.47it/s, loss=tensor(0.0014, \n"
     ]
    },
    {
     "name": "stdout",
     "output_type": "stream",
     "text": [
      "Epoch 433, Training Loss: 0.008441462996415794, Validation Loss: 0.0017465280834585428\n"
     ]
    },
    {
     "name": "stderr",
     "output_type": "stream",
     "text": [
      "Epoch 434:  12%|▏| 2/16 [00:01<00:13,  1.05it/s, loss=tensor(0.0011, d\n"
     ]
    },
    {
     "ename": "KeyboardInterrupt",
     "evalue": "",
     "output_type": "error",
     "traceback": [
      "\u001b[0;31m---------------------------------------------------------------------------\u001b[0m",
      "\u001b[0;31mKeyboardInterrupt\u001b[0m                         Traceback (most recent call last)",
      "Cell \u001b[0;32mIn[26], line 48\u001b[0m\n\u001b[1;32m     44\u001b[0m noise \u001b[38;5;241m=\u001b[39m torch\u001b[38;5;241m.\u001b[39mrandn_like(padded_z_mean)\u001b[38;5;241m.\u001b[39mto(device)\n\u001b[1;32m     45\u001b[0m \u001b[38;5;66;03m# Create timesteps\u001b[39;00m\n\u001b[1;32m     46\u001b[0m timesteps \u001b[38;5;241m=\u001b[39m \u001b[43mtorch\u001b[49m\u001b[38;5;241;43m.\u001b[39;49m\u001b[43mrandint\u001b[49m\u001b[43m(\u001b[49m\n\u001b[1;32m     47\u001b[0m \u001b[43m    \u001b[49m\u001b[38;5;241;43m0\u001b[39;49m\u001b[43m,\u001b[49m\u001b[43m \u001b[49m\u001b[43minferer\u001b[49m\u001b[38;5;241;43m.\u001b[39;49m\u001b[43mscheduler\u001b[49m\u001b[38;5;241;43m.\u001b[39;49m\u001b[43mnum_train_timesteps\u001b[49m\u001b[43m,\u001b[49m\u001b[43m \u001b[49m\u001b[43m(\u001b[49m\u001b[43mimages\u001b[49m\u001b[38;5;241;43m.\u001b[39;49m\u001b[43mshape\u001b[49m\u001b[43m[\u001b[49m\u001b[38;5;241;43m0\u001b[39;49m\u001b[43m]\u001b[49m\u001b[43m,\u001b[49m\u001b[43m)\u001b[49m\u001b[43m,\u001b[49m\u001b[43m \u001b[49m\u001b[43mdevice\u001b[49m\u001b[38;5;241;43m=\u001b[39;49m\u001b[43mimages\u001b[49m\u001b[38;5;241;43m.\u001b[39;49m\u001b[43mdevice\u001b[49m\n\u001b[0;32m---> 48\u001b[0m \u001b[43m\u001b[49m\u001b[43m)\u001b[49m\u001b[38;5;241;43m.\u001b[39;49m\u001b[43mlong\u001b[49m\u001b[43m(\u001b[49m\u001b[43m)\u001b[49m\u001b[38;5;241;43m.\u001b[39;49m\u001b[43mto\u001b[49m\u001b[43m(\u001b[49m\u001b[43mdevice\u001b[49m\u001b[43m)\u001b[49m\n\u001b[1;32m     50\u001b[0m \u001b[38;5;66;03m# Get model prediction\u001b[39;00m\n\u001b[1;32m     51\u001b[0m noise_pred \u001b[38;5;241m=\u001b[39m inferer(inputs\u001b[38;5;241m=\u001b[39mpadded_z_mean, diffusion_model\u001b[38;5;241m=\u001b[39mLDM_model, noise\u001b[38;5;241m=\u001b[39mnoise, timesteps\u001b[38;5;241m=\u001b[39mtimesteps, mode\u001b[38;5;241m=\u001b[39m\u001b[38;5;124m\"\u001b[39m\u001b[38;5;124mcrossattn\u001b[39m\u001b[38;5;124m\"\u001b[39m, condition\u001b[38;5;241m=\u001b[39mdiag)\n",
      "\u001b[0;31mKeyboardInterrupt\u001b[0m: "
     ]
    }
   ],
   "source": [
    "import time\n",
    "import torch\n",
    "import torch.nn.functional as F\n",
    "from torch.cuda.amp import GradScaler, autocast\n",
    "from tqdm import tqdm\n",
    "import matplotlib.pyplot as plt\n",
    "import random\n",
    "val_interval = 1\n",
    "epoch_loss_list = []\n",
    "val_epoch_loss_list = []\n",
    "\n",
    "scaler = GradScaler()\n",
    "total_start = time.time()\n",
    "\n",
    "vAE_model.eval()\n",
    "LDM_model.to(device)\n",
    "vAE_model.to(device)\n",
    "\n",
    "best_val = 1e3\n",
    "\n",
    "for epoch in range(training_epochs):\n",
    "\n",
    "\n",
    "\n",
    "    LDM_model.train()\n",
    "    epoch_loss = 0\n",
    "    progress_bar = tqdm(enumerate(train_loader), total=len(train_loader), ncols=70)\n",
    "    progress_bar.set_description(f\"Epoch {epoch}\")\n",
    "    for step, batch in progress_bar:\n",
    "        images, diag = batch\n",
    "        diag = diag.unsqueeze(dim=1)\n",
    "        diag = diag.unsqueeze(dim=1).float().to(device)\n",
    "        optimiser.zero_grad(set_to_none=True)\n",
    "\n",
    "        with torch.no_grad():\n",
    "          z_mean, z_std = vAE_model.encode(images.float().unsqueeze(dim=1).to(device))\n",
    "\n",
    "        padded_z_mean = F.pad(z_mean, (2, 2, 2, 2))  # pad 4 pixels on right and bottom\n",
    "\n",
    "        padded_z_mean = padded_z_mean.to(device)\n",
    "\n",
    "        with autocast(enabled=True):\n",
    "            # Generate random noise\n",
    "            noise = torch.randn_like(padded_z_mean).to(device)\n",
    "            # Create timesteps\n",
    "            timesteps = torch.randint(\n",
    "                0, inferer.scheduler.num_train_timesteps, (images.shape[0],), device=images.device\n",
    "            ).long().to(device)\n",
    "\n",
    "            # Get model prediction\n",
    "            noise_pred = inferer(inputs=padded_z_mean, diffusion_model=LDM_model, noise=noise, timesteps=timesteps, mode=\"crossattn\", condition=diag)\n",
    "\n",
    "            loss = F.mse_loss(noise_pred.float(), noise.float())\n",
    "\n",
    "        scaler.scale(loss).backward()\n",
    "        scaler.step(optimiser)\n",
    "        scaler.update()\n",
    "\n",
    "        epoch_loss += loss.item()\n",
    "\n",
    "        progress_bar.set_postfix({\"loss\": loss})\n",
    "    epoch_loss_list.append(epoch_loss / (step + 1))\n",
    "\n",
    "    if (epoch + 1) % val_interval == 0:\n",
    "        LDM_model.eval()\n",
    "        val_epoch_loss = 0\n",
    "        for step, batch in enumerate(valid_loader):\n",
    "          images, diag = batch\n",
    "          diag = diag.unsqueeze(dim=1)\n",
    "          diag = diag.unsqueeze(dim=1).float().to(device)\n",
    "          optimiser.zero_grad(set_to_none=True)\n",
    "\n",
    "          with torch.no_grad():\n",
    "            z_mean, z_std = vAE_model.encode(images.float().unsqueeze(dim=1).to(device))\n",
    "\n",
    "            padded_z_mean = F.pad(z_mean, (2, 2, 2, 2))  # pad 4 pixels on right and bottom\n",
    "\n",
    "            padded_z_mean = padded_z_mean.to(device)\n",
    "\n",
    "            with autocast(enabled=True):\n",
    "                # Generate random noise\n",
    "                noise = torch.randn_like(padded_z_mean).to(device)\n",
    "                # Create timesteps\n",
    "                timesteps = torch.randint(\n",
    "                    0, inferer.scheduler.num_train_timesteps, (images.shape[0],), device=images.device\n",
    "                ).long().to(device)\n",
    "\n",
    "                # Get model prediction\n",
    "                noise_pred = inferer(inputs=padded_z_mean, diffusion_model=LDM_model, noise=noise, timesteps=timesteps, mode=\"crossattn\", condition=diag)\n",
    "\n",
    "                val_loss = F.mse_loss(noise_pred.float(), noise.float())\n",
    "\n",
    "            val_epoch_loss += val_loss.item()\n",
    "            progress_bar.set_postfix({\"val_loss\": val_epoch_loss / (step + 1)})\n",
    "\n",
    "        val_epoch_loss_list.append(val_epoch_loss / (step + 1))\n",
    "\n",
    "        print(f\"Epoch {epoch}, Training Loss: {epoch_loss / (step + 1)}, Validation Loss: {val_epoch_loss / (step + 1)}\")\n",
    "\n",
    "        if val_epoch_loss / (step + 1) < best_val:\n",
    "          best_val = val_epoch_loss / (step + 1)\n",
    "          torch.save(LDM_model.state_dict(), os.path.join('Checkpoints_conditioned', f\"trained_LDM_epoch_{epoch}.pt\"))\n",
    "\n",
    "          # Sampling image during training\n",
    "          noise = torch.randn((1, 1, 64, 64))\n",
    "          noise = noise.to(device)\n",
    "          ldm_scheduler.set_timesteps(num_inference_steps=1000)\n",
    "          with autocast(enabled=True):\n",
    "              list_diag = [torch.tensor(0.0), torch.tensor(0.5), torch.tensor(1.0)]\n",
    "              diagnosis = random.choice(list_diag)\n",
    "              diag = diagnosis.unsqueeze(dim=-1)\n",
    "              diag = diag.unsqueeze(dim=-1)\n",
    "              diag = diag.unsqueeze(dim=-1).to(device)\n",
    "              image = inferer.sample(input_noise=noise, diffusion_model=LDM_model, scheduler=ldm_scheduler, mode=\"crossattn\", conditioning=diag)\n",
    "              image = image[:, :, 2:-2, 2:-2]\n",
    "              image = vAE_model.decode(image).cpu().detach().numpy()\n",
    "\n",
    "          plt.figure(figsize=(2, 2))\n",
    "          plt.imshow(image[0, 0], vmin=0, vmax=1, cmap=\"gray\")\n",
    "          plt.tight_layout()\n",
    "          plt.title(f\"Diagnosis {diagnosis}\")\n",
    "          plt.axis(\"off\")\n",
    "          plt.show()\n",
    "\n",
    "total_time = time.time() - total_start\n",
    "print(f\"train completed, total time: {total_time}.\")"
   ]
  },
  {
   "cell_type": "code",
   "execution_count": null,
   "metadata": {},
   "outputs": [],
   "source": []
  }
 ],
 "metadata": {
  "accelerator": "GPU",
  "colab": {
   "gpuType": "T4",
   "provenance": []
  },
  "kernelspec": {
   "display_name": "Python 3 (ipykernel)",
   "language": "python",
   "name": "python3"
  },
  "language_info": {
   "codemirror_mode": {
    "name": "ipython",
    "version": 3
   },
   "file_extension": ".py",
   "mimetype": "text/x-python",
   "name": "python",
   "nbconvert_exporter": "python",
   "pygments_lexer": "ipython3",
   "version": "3.10.12"
  }
 },
 "nbformat": 4,
 "nbformat_minor": 4
}
