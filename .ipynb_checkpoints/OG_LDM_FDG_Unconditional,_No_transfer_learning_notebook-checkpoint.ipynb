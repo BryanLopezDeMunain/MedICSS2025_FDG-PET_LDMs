{
 "cells": [
  {
   "cell_type": "markdown",
   "metadata": {
    "id": "S1wc2jB9zktK"
   },
   "source": [
    "# Import Relevant Libaries"
   ]
  },
  {
   "cell_type": "markdown",
   "metadata": {
    "id": "sqzeDU9DyLtN"
   },
   "source": [
    "## Install relevant versions"
   ]
  },
  {
   "cell_type": "code",
   "execution_count": 4,
   "metadata": {
    "colab": {
     "base_uri": "https://localhost:8080/"
    },
    "id": "kUdX6yk2yLGY",
    "outputId": "9c3d8800-7e6a-4299-db9e-710adfe2a856",
    "scrolled": true
   },
   "outputs": [
    {
     "name": "stdout",
     "output_type": "stream",
     "text": [
      "Defaulting to user installation because normal site-packages is not writeable\n",
      "Collecting monai==1.4.0\n",
      "  Downloading monai-1.4.0-py3-none-any.whl (1.5 MB)\n",
      "\u001b[2K     \u001b[90m━━━━━━━━━━━━━━━━━━━━━━━━━━━━━━━━━━━━━━━━\u001b[0m \u001b[32m1.5/1.5 MB\u001b[0m \u001b[31m15.9 MB/s\u001b[0m eta \u001b[36m0:00:00\u001b[0ma \u001b[36m0:00:01\u001b[0m\n",
      "Requirement already satisfied: torch>=1.9 in /home/bryanlopez/.local/lib/python3.10/site-packages (from monai==1.4.0) (2.7.0)\n",
      "Collecting numpy<2.0,>=1.24\n",
      "  Downloading numpy-1.26.4-cp310-cp310-manylinux_2_17_x86_64.manylinux2014_x86_64.whl (18.2 MB)\n",
      "\u001b[2K     \u001b[90m━━━━━━━━━━━━━━━━━━━━━━━━━━━━━━━━━━━━━━━━\u001b[0m \u001b[32m18.2/18.2 MB\u001b[0m \u001b[31m60.8 MB/s\u001b[0m eta \u001b[36m0:00:00\u001b[0m00:01\u001b[0m00:01\u001b[0m\n",
      "Requirement already satisfied: nvidia-nvjitlink-cu12==12.6.85 in /home/bryanlopez/.local/lib/python3.10/site-packages (from torch>=1.9->monai==1.4.0) (12.6.85)\n",
      "Requirement already satisfied: fsspec in /home/bryanlopez/.local/lib/python3.10/site-packages (from torch>=1.9->monai==1.4.0) (2024.6.1)\n",
      "Requirement already satisfied: nvidia-nccl-cu12==2.26.2 in /home/bryanlopez/.local/lib/python3.10/site-packages (from torch>=1.9->monai==1.4.0) (2.26.2)\n",
      "Requirement already satisfied: typing-extensions>=4.10.0 in /home/bryanlopez/.local/lib/python3.10/site-packages (from torch>=1.9->monai==1.4.0) (4.12.2)\n",
      "Requirement already satisfied: networkx in /home/bryanlopez/.local/lib/python3.10/site-packages (from torch>=1.9->monai==1.4.0) (3.3)\n",
      "Requirement already satisfied: nvidia-nvtx-cu12==12.6.77 in /home/bryanlopez/.local/lib/python3.10/site-packages (from torch>=1.9->monai==1.4.0) (12.6.77)\n",
      "Requirement already satisfied: triton==3.3.0 in /home/bryanlopez/.local/lib/python3.10/site-packages (from torch>=1.9->monai==1.4.0) (3.3.0)\n",
      "Requirement already satisfied: nvidia-cufile-cu12==1.11.1.6 in /home/bryanlopez/.local/lib/python3.10/site-packages (from torch>=1.9->monai==1.4.0) (1.11.1.6)\n",
      "Requirement already satisfied: jinja2 in /home/bryanlopez/.local/lib/python3.10/site-packages (from torch>=1.9->monai==1.4.0) (3.1.5)\n",
      "Requirement already satisfied: sympy>=1.13.3 in /home/bryanlopez/.local/lib/python3.10/site-packages (from torch>=1.9->monai==1.4.0) (1.14.0)\n",
      "Requirement already satisfied: nvidia-cusolver-cu12==11.7.1.2 in /home/bryanlopez/.local/lib/python3.10/site-packages (from torch>=1.9->monai==1.4.0) (11.7.1.2)\n",
      "Requirement already satisfied: nvidia-cublas-cu12==12.6.4.1 in /home/bryanlopez/.local/lib/python3.10/site-packages (from torch>=1.9->monai==1.4.0) (12.6.4.1)\n",
      "Requirement already satisfied: nvidia-cusparse-cu12==12.5.4.2 in /home/bryanlopez/.local/lib/python3.10/site-packages (from torch>=1.9->monai==1.4.0) (12.5.4.2)\n",
      "Requirement already satisfied: nvidia-cudnn-cu12==9.5.1.17 in /home/bryanlopez/.local/lib/python3.10/site-packages (from torch>=1.9->monai==1.4.0) (9.5.1.17)\n",
      "Requirement already satisfied: nvidia-cuda-runtime-cu12==12.6.77 in /home/bryanlopez/.local/lib/python3.10/site-packages (from torch>=1.9->monai==1.4.0) (12.6.77)\n",
      "Requirement already satisfied: nvidia-cuda-nvrtc-cu12==12.6.77 in /home/bryanlopez/.local/lib/python3.10/site-packages (from torch>=1.9->monai==1.4.0) (12.6.77)\n",
      "Requirement already satisfied: filelock in /home/bryanlopez/.local/lib/python3.10/site-packages (from torch>=1.9->monai==1.4.0) (3.13.1)\n",
      "Requirement already satisfied: nvidia-cusparselt-cu12==0.6.3 in /home/bryanlopez/.local/lib/python3.10/site-packages (from torch>=1.9->monai==1.4.0) (0.6.3)\n",
      "Requirement already satisfied: nvidia-curand-cu12==10.3.7.77 in /home/bryanlopez/.local/lib/python3.10/site-packages (from torch>=1.9->monai==1.4.0) (10.3.7.77)\n",
      "Requirement already satisfied: nvidia-cufft-cu12==11.3.0.4 in /home/bryanlopez/.local/lib/python3.10/site-packages (from torch>=1.9->monai==1.4.0) (11.3.0.4)\n",
      "Requirement already satisfied: nvidia-cuda-cupti-cu12==12.6.80 in /home/bryanlopez/.local/lib/python3.10/site-packages (from torch>=1.9->monai==1.4.0) (12.6.80)\n",
      "Requirement already satisfied: setuptools>=40.8.0 in /usr/lib/python3/dist-packages (from triton==3.3.0->torch>=1.9->monai==1.4.0) (59.6.0)\n",
      "Requirement already satisfied: mpmath<1.4,>=1.1.0 in /home/bryanlopez/.local/lib/python3.10/site-packages (from sympy>=1.13.3->torch>=1.9->monai==1.4.0) (1.3.0)\n",
      "Requirement already satisfied: MarkupSafe>=2.0 in /home/bryanlopez/.local/lib/python3.10/site-packages (from jinja2->torch>=1.9->monai==1.4.0) (3.0.2)\n",
      "Installing collected packages: numpy, monai\n",
      "  Attempting uninstall: numpy\n",
      "    Found existing installation: numpy 2.0.2\n",
      "    Uninstalling numpy-2.0.2:\n",
      "      Successfully uninstalled numpy-2.0.2\n",
      "Successfully installed monai-1.4.0 numpy-1.26.4\n",
      "Defaulting to user installation because normal site-packages is not writeable\n",
      "Collecting pandas==2.0.3\n",
      "  Downloading pandas-2.0.3-cp310-cp310-manylinux_2_17_x86_64.manylinux2014_x86_64.whl (12.3 MB)\n",
      "\u001b[2K     \u001b[90m━━━━━━━━━━━━━━━━━━━━━━━━━━━━━━━━━━━━━━━━\u001b[0m \u001b[32m12.3/12.3 MB\u001b[0m \u001b[31m63.3 MB/s\u001b[0m eta \u001b[36m0:00:00\u001b[0m00:01\u001b[0m00:01\u001b[0m\n",
      "Requirement already satisfied: numpy>=1.21.0 in /home/bryanlopez/.local/lib/python3.10/site-packages (from pandas==2.0.3) (1.26.4)\n",
      "Requirement already satisfied: python-dateutil>=2.8.2 in /home/bryanlopez/.local/lib/python3.10/site-packages (from pandas==2.0.3) (2.9.0.post0)\n",
      "Requirement already satisfied: pytz>=2020.1 in /usr/lib/python3/dist-packages (from pandas==2.0.3) (2022.1)\n",
      "Requirement already satisfied: tzdata>=2022.1 in /home/bryanlopez/.local/lib/python3.10/site-packages (from pandas==2.0.3) (2025.1)\n",
      "Requirement already satisfied: six>=1.5 in /usr/lib/python3/dist-packages (from python-dateutil>=2.8.2->pandas==2.0.3) (1.16.0)\n",
      "Installing collected packages: pandas\n",
      "  Attempting uninstall: pandas\n",
      "    Found existing installation: pandas 2.2.3\n",
      "    Uninstalling pandas-2.2.3:\n",
      "      Successfully uninstalled pandas-2.2.3\n",
      "Successfully installed pandas-2.0.3\n"
     ]
    }
   ],
   "source": [
    "!pip install monai==1.4.0\n",
    "!pip install pandas==2.0.3\n",
    "!pip install nibabel"
   ]
  },
  {
   "cell_type": "code",
   "execution_count": 1,
   "metadata": {
    "id": "PEyc_6zgzdti"
   },
   "outputs": [
    {
     "name": "stderr",
     "output_type": "stream",
     "text": [
      "<frozen importlib._bootstrap_external>:1184: FutureWarning: The cuda.cudart module is deprecated and will be removed in a future release, please switch to use the cuda.bindings.runtime module instead.\n"
     ]
    }
   ],
   "source": [
    "import os\n",
    "from torch.utils.data import DataLoader\n",
    "import torch\n",
    "import torch.optim as optim\n",
    "from monai.networks.schedulers import DDPMScheduler\n",
    "from monai.inferers.inferer import DiffusionInferer\n",
    "from torch.optim.lr_scheduler import MultiStepLR\n",
    "import pandas as pd\n",
    "from monai.bundle import ConfigParser\n",
    "import nibabel as nib\n",
    "from torch.utils.data import Dataset\n",
    "\n",
    "#%% Setup device\n",
    "device = torch.device(\"cuda:1\" if torch.cuda.is_available() else \"cpu\")"
   ]
  },
  {
   "cell_type": "markdown",
   "metadata": {
    "id": "zdWgeigBzxQj"
   },
   "source": [
    "# Setup Paths"
   ]
  },
  {
   "cell_type": "code",
   "execution_count": 2,
   "metadata": {
    "id": "cJMifHVQMRBw"
   },
   "outputs": [],
   "source": [
    "# Setup paths to uploaded training data\n",
    "training_dataset = 'TrainingData_Key/slices_40_anon'"
   ]
  },
  {
   "cell_type": "code",
   "execution_count": 3,
   "metadata": {
    "id": "WaMZXip1z3in"
   },
   "outputs": [],
   "source": [
    "# Setup paths to uploaded config files\n",
    "config_path_ = 'Configs/configs'"
   ]
  },
  {
   "cell_type": "code",
   "execution_count": 4,
   "metadata": {
    "id": "llWPoBwITGKB"
   },
   "outputs": [],
   "source": [
    "pretrained_path = 'trained_vAE_epoch_148.pt'"
   ]
  },
  {
   "cell_type": "markdown",
   "metadata": {
    "id": "xnHJYgzfz-e5"
   },
   "source": [
    "# Dataset Function"
   ]
  },
  {
   "cell_type": "markdown",
   "metadata": {
    "id": "SuHFM-3D0ozk"
   },
   "source": [
    "## Function to create datasets"
   ]
  },
  {
   "cell_type": "code",
   "execution_count": 5,
   "metadata": {
    "id": "RaPzYi1l0oP3"
   },
   "outputs": [],
   "source": [
    "def create_datasets(df, data_dir):\n",
    "\n",
    "    df['Linked_Files_Anon'] = df['Linked_Files_Anon'].apply(lambda x: os.path.join(data_dir, x))\n",
    "\n",
    "    train_data = df[df['Set']=='Train']\n",
    "    valid_data = df[df['Set']=='Validation']\n",
    "    test_data = df[df['Set']=='Test']\n",
    "\n",
    "    train_data = train_data.reset_index()\n",
    "    valid_data = valid_data.reset_index()\n",
    "    test_data = test_data.reset_index()\n",
    "\n",
    "    train_dataset = FDG_Dataset(data=train_data)\n",
    "    valid_dataset = FDG_Dataset(data=valid_data)\n",
    "    test_dataset = FDG_Dataset(data=test_data)\n",
    "\n",
    "    return train_dataset, valid_dataset, test_dataset"
   ]
  },
  {
   "cell_type": "markdown",
   "metadata": {
    "id": "6NlYdO7z0wEJ"
   },
   "source": [
    "## Dataset function"
   ]
  },
  {
   "cell_type": "code",
   "execution_count": 6,
   "metadata": {
    "id": "GjYq0SO90x7r"
   },
   "outputs": [],
   "source": [
    "class FDG_Dataset(Dataset):\n",
    "    \"\"\"\n",
    "    A PyTorch Dataset to load NIfTI files from a provided list of file paths.\n",
    "    \"\"\"\n",
    "    def __init__(self, data):\n",
    "        \"\"\"\n",
    "        Args:\n",
    "            file_paths (list of Path objects): List of paths to the NIfTI files.\n",
    "        \"\"\"\n",
    "\n",
    "        self.csv = data\n",
    "\n",
    "    def __len__(self):\n",
    "        return len(self.csv)\n",
    "\n",
    "    def __getitem__(self, idx):\n",
    "        if torch.is_tensor(idx):\n",
    "            idx = idx.tolist()\n",
    "\n",
    "        diag = self.csv.loc[idx, 'DX_encoded']\n",
    "        file_name = self.csv.loc[idx, 'Linked_Files_Anon']\n",
    "\n",
    "        nii_img  = nib.load(file_name)\n",
    "        nii_data = nii_img.get_fdata()\n",
    "\n",
    "        nii_data_scaled = (nii_data - nii_data.min())/(nii_data.max() - nii_data.min())\n",
    "        image_tensor = torch.from_numpy(nii_data_scaled)\n",
    "\n",
    "        return image_tensor, diag\n"
   ]
  },
  {
   "cell_type": "markdown",
   "metadata": {
    "id": "ZwVD1scRz-2W"
   },
   "source": [
    "# Load Pre-trained VAE"
   ]
  },
  {
   "cell_type": "code",
   "execution_count": 7,
   "metadata": {
    "id": "SKMhun_Z1rs5",
    "scrolled": true
   },
   "outputs": [
    {
     "data": {
      "text/plain": [
       "AutoencoderKL(\n",
       "  (encoder): Encoder(\n",
       "    (blocks): ModuleList(\n",
       "      (0): Convolution(\n",
       "        (conv): Conv2d(1, 64, kernel_size=(3, 3), stride=(1, 1), padding=(1, 1))\n",
       "      )\n",
       "      (1-2): 2 x AEKLResBlock(\n",
       "        (norm1): GroupNorm(32, 64, eps=1e-06, affine=True)\n",
       "        (conv1): Convolution(\n",
       "          (conv): Conv2d(64, 64, kernel_size=(3, 3), stride=(1, 1), padding=(1, 1))\n",
       "        )\n",
       "        (norm2): GroupNorm(32, 64, eps=1e-06, affine=True)\n",
       "        (conv2): Convolution(\n",
       "          (conv): Conv2d(64, 64, kernel_size=(3, 3), stride=(1, 1), padding=(1, 1))\n",
       "        )\n",
       "        (nin_shortcut): Identity()\n",
       "      )\n",
       "      (3): AEKLDownsample(\n",
       "        (pad): AsymmetricPad()\n",
       "        (conv): Convolution(\n",
       "          (conv): Conv2d(64, 64, kernel_size=(3, 3), stride=(2, 2))\n",
       "        )\n",
       "      )\n",
       "      (4): AEKLResBlock(\n",
       "        (norm1): GroupNorm(32, 64, eps=1e-06, affine=True)\n",
       "        (conv1): Convolution(\n",
       "          (conv): Conv2d(64, 128, kernel_size=(3, 3), stride=(1, 1), padding=(1, 1))\n",
       "        )\n",
       "        (norm2): GroupNorm(32, 128, eps=1e-06, affine=True)\n",
       "        (conv2): Convolution(\n",
       "          (conv): Conv2d(128, 128, kernel_size=(3, 3), stride=(1, 1), padding=(1, 1))\n",
       "        )\n",
       "        (nin_shortcut): Convolution(\n",
       "          (conv): Conv2d(64, 128, kernel_size=(1, 1), stride=(1, 1))\n",
       "        )\n",
       "      )\n",
       "      (5): AEKLResBlock(\n",
       "        (norm1): GroupNorm(32, 128, eps=1e-06, affine=True)\n",
       "        (conv1): Convolution(\n",
       "          (conv): Conv2d(128, 128, kernel_size=(3, 3), stride=(1, 1), padding=(1, 1))\n",
       "        )\n",
       "        (norm2): GroupNorm(32, 128, eps=1e-06, affine=True)\n",
       "        (conv2): Convolution(\n",
       "          (conv): Conv2d(128, 128, kernel_size=(3, 3), stride=(1, 1), padding=(1, 1))\n",
       "        )\n",
       "        (nin_shortcut): Identity()\n",
       "      )\n",
       "      (6): AEKLDownsample(\n",
       "        (pad): AsymmetricPad()\n",
       "        (conv): Convolution(\n",
       "          (conv): Conv2d(128, 128, kernel_size=(3, 3), stride=(2, 2))\n",
       "        )\n",
       "      )\n",
       "      (7): AEKLResBlock(\n",
       "        (norm1): GroupNorm(32, 128, eps=1e-06, affine=True)\n",
       "        (conv1): Convolution(\n",
       "          (conv): Conv2d(128, 256, kernel_size=(3, 3), stride=(1, 1), padding=(1, 1))\n",
       "        )\n",
       "        (norm2): GroupNorm(32, 256, eps=1e-06, affine=True)\n",
       "        (conv2): Convolution(\n",
       "          (conv): Conv2d(256, 256, kernel_size=(3, 3), stride=(1, 1), padding=(1, 1))\n",
       "        )\n",
       "        (nin_shortcut): Convolution(\n",
       "          (conv): Conv2d(128, 256, kernel_size=(1, 1), stride=(1, 1))\n",
       "        )\n",
       "      )\n",
       "      (8-9): 2 x AEKLResBlock(\n",
       "        (norm1): GroupNorm(32, 256, eps=1e-06, affine=True)\n",
       "        (conv1): Convolution(\n",
       "          (conv): Conv2d(256, 256, kernel_size=(3, 3), stride=(1, 1), padding=(1, 1))\n",
       "        )\n",
       "        (norm2): GroupNorm(32, 256, eps=1e-06, affine=True)\n",
       "        (conv2): Convolution(\n",
       "          (conv): Conv2d(256, 256, kernel_size=(3, 3), stride=(1, 1), padding=(1, 1))\n",
       "        )\n",
       "        (nin_shortcut): Identity()\n",
       "      )\n",
       "      (10): SpatialAttentionBlock(\n",
       "        (norm): GroupNorm(32, 256, eps=1e-06, affine=True)\n",
       "        (attn): SABlock(\n",
       "          (out_proj): Linear(in_features=256, out_features=256, bias=True)\n",
       "          (to_q): Linear(in_features=256, out_features=256, bias=True)\n",
       "          (to_k): Linear(in_features=256, out_features=256, bias=True)\n",
       "          (to_v): Linear(in_features=256, out_features=256, bias=True)\n",
       "          (qkv): Identity()\n",
       "          (input_rearrange): Rearrange('b h (l d) -> b l h d', l=1)\n",
       "          (out_rearrange): Rearrange('b l h d -> b h (l d)')\n",
       "          (drop_output): Dropout(p=0.0, inplace=False)\n",
       "          (drop_weights): Dropout(p=0.0, inplace=False)\n",
       "        )\n",
       "      )\n",
       "      (11): AEKLResBlock(\n",
       "        (norm1): GroupNorm(32, 256, eps=1e-06, affine=True)\n",
       "        (conv1): Convolution(\n",
       "          (conv): Conv2d(256, 256, kernel_size=(3, 3), stride=(1, 1), padding=(1, 1))\n",
       "        )\n",
       "        (norm2): GroupNorm(32, 256, eps=1e-06, affine=True)\n",
       "        (conv2): Convolution(\n",
       "          (conv): Conv2d(256, 256, kernel_size=(3, 3), stride=(1, 1), padding=(1, 1))\n",
       "        )\n",
       "        (nin_shortcut): Identity()\n",
       "      )\n",
       "      (12): GroupNorm(32, 256, eps=1e-06, affine=True)\n",
       "      (13): Convolution(\n",
       "        (conv): Conv2d(256, 1, kernel_size=(3, 3), stride=(1, 1), padding=(1, 1))\n",
       "      )\n",
       "    )\n",
       "  )\n",
       "  (decoder): Decoder(\n",
       "    (blocks): ModuleList(\n",
       "      (0): Convolution(\n",
       "        (conv): Conv2d(1, 256, kernel_size=(3, 3), stride=(1, 1), padding=(1, 1))\n",
       "      )\n",
       "      (1): AEKLResBlock(\n",
       "        (norm1): GroupNorm(32, 256, eps=1e-06, affine=True)\n",
       "        (conv1): Convolution(\n",
       "          (conv): Conv2d(256, 256, kernel_size=(3, 3), stride=(1, 1), padding=(1, 1))\n",
       "        )\n",
       "        (norm2): GroupNorm(32, 256, eps=1e-06, affine=True)\n",
       "        (conv2): Convolution(\n",
       "          (conv): Conv2d(256, 256, kernel_size=(3, 3), stride=(1, 1), padding=(1, 1))\n",
       "        )\n",
       "        (nin_shortcut): Identity()\n",
       "      )\n",
       "      (2): SpatialAttentionBlock(\n",
       "        (norm): GroupNorm(32, 256, eps=1e-06, affine=True)\n",
       "        (attn): SABlock(\n",
       "          (out_proj): Linear(in_features=256, out_features=256, bias=True)\n",
       "          (to_q): Linear(in_features=256, out_features=256, bias=True)\n",
       "          (to_k): Linear(in_features=256, out_features=256, bias=True)\n",
       "          (to_v): Linear(in_features=256, out_features=256, bias=True)\n",
       "          (qkv): Identity()\n",
       "          (input_rearrange): Rearrange('b h (l d) -> b l h d', l=1)\n",
       "          (out_rearrange): Rearrange('b l h d -> b h (l d)')\n",
       "          (drop_output): Dropout(p=0.0, inplace=False)\n",
       "          (drop_weights): Dropout(p=0.0, inplace=False)\n",
       "        )\n",
       "      )\n",
       "      (3-5): 3 x AEKLResBlock(\n",
       "        (norm1): GroupNorm(32, 256, eps=1e-06, affine=True)\n",
       "        (conv1): Convolution(\n",
       "          (conv): Conv2d(256, 256, kernel_size=(3, 3), stride=(1, 1), padding=(1, 1))\n",
       "        )\n",
       "        (norm2): GroupNorm(32, 256, eps=1e-06, affine=True)\n",
       "        (conv2): Convolution(\n",
       "          (conv): Conv2d(256, 256, kernel_size=(3, 3), stride=(1, 1), padding=(1, 1))\n",
       "        )\n",
       "        (nin_shortcut): Identity()\n",
       "      )\n",
       "      (6): UpSample(\n",
       "        (upsample_non_trainable): Upsample(scale_factor=(2.0, 2.0), mode='nearest')\n",
       "        (postconv): Convolution(\n",
       "          (conv): Conv2d(256, 256, kernel_size=(3, 3), stride=(1, 1), padding=(1, 1))\n",
       "        )\n",
       "      )\n",
       "      (7): AEKLResBlock(\n",
       "        (norm1): GroupNorm(32, 256, eps=1e-06, affine=True)\n",
       "        (conv1): Convolution(\n",
       "          (conv): Conv2d(256, 128, kernel_size=(3, 3), stride=(1, 1), padding=(1, 1))\n",
       "        )\n",
       "        (norm2): GroupNorm(32, 128, eps=1e-06, affine=True)\n",
       "        (conv2): Convolution(\n",
       "          (conv): Conv2d(128, 128, kernel_size=(3, 3), stride=(1, 1), padding=(1, 1))\n",
       "        )\n",
       "        (nin_shortcut): Convolution(\n",
       "          (conv): Conv2d(256, 128, kernel_size=(1, 1), stride=(1, 1))\n",
       "        )\n",
       "      )\n",
       "      (8): AEKLResBlock(\n",
       "        (norm1): GroupNorm(32, 128, eps=1e-06, affine=True)\n",
       "        (conv1): Convolution(\n",
       "          (conv): Conv2d(128, 128, kernel_size=(3, 3), stride=(1, 1), padding=(1, 1))\n",
       "        )\n",
       "        (norm2): GroupNorm(32, 128, eps=1e-06, affine=True)\n",
       "        (conv2): Convolution(\n",
       "          (conv): Conv2d(128, 128, kernel_size=(3, 3), stride=(1, 1), padding=(1, 1))\n",
       "        )\n",
       "        (nin_shortcut): Identity()\n",
       "      )\n",
       "      (9): UpSample(\n",
       "        (upsample_non_trainable): Upsample(scale_factor=(2.0, 2.0), mode='nearest')\n",
       "        (postconv): Convolution(\n",
       "          (conv): Conv2d(128, 128, kernel_size=(3, 3), stride=(1, 1), padding=(1, 1))\n",
       "        )\n",
       "      )\n",
       "      (10): AEKLResBlock(\n",
       "        (norm1): GroupNorm(32, 128, eps=1e-06, affine=True)\n",
       "        (conv1): Convolution(\n",
       "          (conv): Conv2d(128, 64, kernel_size=(3, 3), stride=(1, 1), padding=(1, 1))\n",
       "        )\n",
       "        (norm2): GroupNorm(32, 64, eps=1e-06, affine=True)\n",
       "        (conv2): Convolution(\n",
       "          (conv): Conv2d(64, 64, kernel_size=(3, 3), stride=(1, 1), padding=(1, 1))\n",
       "        )\n",
       "        (nin_shortcut): Convolution(\n",
       "          (conv): Conv2d(128, 64, kernel_size=(1, 1), stride=(1, 1))\n",
       "        )\n",
       "      )\n",
       "      (11): AEKLResBlock(\n",
       "        (norm1): GroupNorm(32, 64, eps=1e-06, affine=True)\n",
       "        (conv1): Convolution(\n",
       "          (conv): Conv2d(64, 64, kernel_size=(3, 3), stride=(1, 1), padding=(1, 1))\n",
       "        )\n",
       "        (norm2): GroupNorm(32, 64, eps=1e-06, affine=True)\n",
       "        (conv2): Convolution(\n",
       "          (conv): Conv2d(64, 64, kernel_size=(3, 3), stride=(1, 1), padding=(1, 1))\n",
       "        )\n",
       "        (nin_shortcut): Identity()\n",
       "      )\n",
       "      (12): GroupNorm(32, 64, eps=1e-06, affine=True)\n",
       "      (13): Convolution(\n",
       "        (conv): Conv2d(64, 1, kernel_size=(3, 3), stride=(1, 1), padding=(1, 1))\n",
       "      )\n",
       "    )\n",
       "  )\n",
       "  (quant_conv_mu): Convolution(\n",
       "    (conv): Conv2d(1, 1, kernel_size=(1, 1), stride=(1, 1))\n",
       "  )\n",
       "  (quant_conv_log_sigma): Convolution(\n",
       "    (conv): Conv2d(1, 1, kernel_size=(1, 1), stride=(1, 1))\n",
       "  )\n",
       "  (post_quant_conv): Convolution(\n",
       "    (conv): Conv2d(1, 1, kernel_size=(1, 1), stride=(1, 1))\n",
       "  )\n",
       ")"
      ]
     },
     "execution_count": 7,
     "metadata": {},
     "output_type": "execute_result"
    }
   ],
   "source": [
    "# Config filename\n",
    "config_file=\"train_autoencoder.json\"\n",
    "\n",
    "# Weights Filename\n",
    "weights_file=\"trained_vAE_epoch_148.pt\"\n",
    "\n",
    "# Setup config filepath\n",
    "config_path = os.path.join(config_path_, config_file)\n",
    "\n",
    "# Setup weights filepath\n",
    "weights_path = os.path.join(pretrained_path, weights_file)\n",
    "\n",
    "# Read config\n",
    "config = ConfigParser()\n",
    "config.read_config(config_path)\n",
    "\n",
    "# Parse model\n",
    "vAE_model = config.get_parsed_content(\"gnetwork\")\n",
    "\n",
    "# Load checkpoint\n",
    "checkpoint = torch.load(weights_path, map_location=device)\n",
    "\n",
    "# Key remapping\n",
    "key_mapping = {\n",
    "    \"encoder.blocks.10.to_q.weight\": \"encoder.blocks.10.attn.to_q.weight\",\n",
    "    \"encoder.blocks.10.to_q.bias\": \"encoder.blocks.10.attn.to_q.bias\",\n",
    "    \"encoder.blocks.10.to_k.weight\": \"encoder.blocks.10.attn.to_k.weight\",\n",
    "    \"encoder.blocks.10.to_k.bias\": \"encoder.blocks.10.attn.to_k.bias\",\n",
    "    \"encoder.blocks.10.to_v.weight\": \"encoder.blocks.10.attn.to_v.weight\",\n",
    "    \"encoder.blocks.10.to_v.bias\": \"encoder.blocks.10.attn.to_v.bias\",\n",
    "    \"encoder.blocks.10.proj_attn.weight\": \"encoder.blocks.10.attn.out_proj.weight\",\n",
    "    \"encoder.blocks.10.proj_attn.bias\": \"encoder.blocks.10.attn.out_proj.bias\",\n",
    "    \"decoder.blocks.2.to_q.weight\": \"decoder.blocks.2.attn.to_q.weight\",\n",
    "    \"decoder.blocks.2.to_q.bias\": \"decoder.blocks.2.attn.to_q.bias\",\n",
    "    \"decoder.blocks.2.to_k.weight\": \"decoder.blocks.2.attn.to_k.weight\",\n",
    "    \"decoder.blocks.2.to_k.bias\": \"decoder.blocks.2.attn.to_k.bias\",\n",
    "    \"decoder.blocks.2.to_v.weight\": \"decoder.blocks.2.attn.to_v.weight\",\n",
    "    \"decoder.blocks.2.to_v.bias\": \"decoder.blocks.2.attn.to_v.bias\",\n",
    "    \"decoder.blocks.2.proj_attn.weight\": \"decoder.blocks.2.attn.out_proj.weight\",\n",
    "    \"decoder.blocks.2.proj_attn.bias\": \"decoder.blocks.2.attn.out_proj.bias\",\n",
    "    \"decoder.blocks.6.conv.conv.weight\": \"decoder.blocks.6.postconv.conv.weight\",\n",
    "    \"decoder.blocks.6.conv.conv.bias\": \"decoder.blocks.6.postconv.conv.bias\",\n",
    "    \"decoder.blocks.9.conv.conv.weight\": \"decoder.blocks.9.postconv.conv.weight\",\n",
    "    \"decoder.blocks.9.conv.conv.bias\": \"decoder.blocks.9.postconv.conv.bias\",\n",
    "}\n",
    "\n",
    "# Remap keys\n",
    "new_state_dict = {key_mapping.get(k, k): v for k, v in checkpoint.items()}\n",
    "\n",
    "# Load state\n",
    "vAE_model.load_state_dict(new_state_dict, strict=False)\n",
    "vAE_model.to(device)\n"
   ]
  },
  {
   "cell_type": "markdown",
   "metadata": {
    "id": "oW1aCgAaz_X6"
   },
   "source": [
    "#Create LDM"
   ]
  },
  {
   "cell_type": "code",
   "execution_count": 8,
   "metadata": {
    "id": "jkc4UJ3j1r_a"
   },
   "outputs": [],
   "source": [
    "# Load config file\n",
    "config_file=\"train_diffusion.json\"\n",
    "\n",
    "# Setup config filepath\n",
    "config_path = os.path.join(config_path_, config_file)\n",
    "\n",
    "# Read config\n",
    "config = ConfigParser()\n",
    "config.read_config(config_path)\n",
    "\n",
    "# Parse model\n",
    "LDM_model = config.get_parsed_content(\"diffusion\")"
   ]
  },
  {
   "cell_type": "markdown",
   "metadata": {
    "id": "Fv1ynkCaz_q8"
   },
   "source": [
    "#Setup parameters of LDM"
   ]
  },
  {
   "cell_type": "code",
   "execution_count": 9,
   "metadata": {
    "id": "wmpkX1meddb_"
   },
   "outputs": [],
   "source": [
    "import math\n",
    "\n",
    "class CombinedScheduler(torch.optim.lr_scheduler._LRScheduler):\n",
    "\n",
    "    def __init__(self, optimizer, warmup_epochs, training_epochs, cooldown_epochs, init_lr, fin_lr, last_epoch=-1):\n",
    "\n",
    "        self.warmup_epochs = warmup_epochs\n",
    "\n",
    "        self.training_epochs = training_epochs\n",
    "\n",
    "        self.cooldown_epochs = cooldown_epochs\n",
    "\n",
    "        self.init_lr = init_lr\n",
    "\n",
    "        self.fin_lr = fin_lr\n",
    "\n",
    "        super().__init__(optimizer, last_epoch=last_epoch)\n",
    "\n",
    "    def get_lr(self):\n",
    "\n",
    "        epoch = self.last_epoch\n",
    "\n",
    "        # Warmup phase: linearly increase from 1e-8 to init_lr\n",
    "\n",
    "        if epoch < self.warmup_epochs:\n",
    "\n",
    "            progress = epoch / self.warmup_epochs\n",
    "\n",
    "            return [1e-8 + (self.init_lr - 1e-8) * progress for _ in self.base_lrs]\n",
    "\n",
    "        # Training phase: cosine decay from init_lr to fin_lr\n",
    "\n",
    "        elif epoch < self.warmup_epochs + self.training_epochs:\n",
    "\n",
    "            progress = (epoch - self.warmup_epochs) / self.training_epochs\n",
    "\n",
    "            cosine_decay = 0.5 * (1 + math.cos(progress * math.pi))\n",
    "\n",
    "            return [self.fin_lr + (self.init_lr - self.fin_lr) * cosine_decay for _ in self.base_lrs]\n",
    "\n",
    "        # Cooldown phase: linearly decrease from fin_lr to 1e-8\n",
    "\n",
    "        elif epoch < self.warmup_epochs + self.training_epochs + self.cooldown_epochs:\n",
    "\n",
    "            progress = (epoch - self.warmup_epochs - self.training_epochs) / self.cooldown_epochs\n",
    "\n",
    "            return [self.fin_lr + (1e-8 - self.fin_lr) * progress for _ in self.base_lrs]\n",
    "\n",
    "        # Beyond all phases: hold at the minimum lr (1e-8)\n",
    "\n",
    "        else:\n",
    "\n",
    "            return [1e-8 for _ in self.base_lrs]\n"
   ]
  },
  {
   "cell_type": "code",
   "execution_count": 10,
   "metadata": {
    "colab": {
     "base_uri": "https://localhost:8080/",
     "height": 211
    },
    "id": "kP_b01jt1Hnv",
    "outputId": "fb0dd6b2-664e-4367-87fb-428a5becd13c"
   },
   "outputs": [],
   "source": [
    "# Datasets / Dataloader\n",
    "data = os.path.join('TrainingData_Key/data_key_anon.csv')\n",
    "data = pd.read_csv(data)\n",
    "train_dataset, valid_dataset, test_dataset = create_datasets(data, training_dataset)\n",
    "\n",
    "batch_size = 64\n",
    "\n",
    "train_loader = DataLoader(train_dataset, batch_size=batch_size, shuffle=True, num_workers=4, persistent_workers=True)\n",
    "valid_loader = DataLoader(valid_dataset, batch_size=batch_size, shuffle=False, num_workers=4, persistent_workers=True)\n",
    "\n",
    "# Epochs\n",
    "training_epochs = 500\n",
    "\n",
    "# Learning rate\n",
    "init_lr = 5e-05\n",
    "fin_lr = 1e-08\n",
    "# Optimizer\n",
    "optimiser = optim.Adam(LDM_model.parameters(), lr=init_lr)\n",
    "# Learning rate scheduler\n",
    "#lr_scheduler = CombinedScheduler(optimiser, 1, training_epochs, 20, init_lr, fin_lr)\n",
    "\n",
    "# LDM Scheduler\n",
    "ldm_scheduler = DDPMScheduler(schedule=\"scaled_linear_beta\", num_train_timesteps=1000, beta_start=0.0015, beta_end= 0.0195)\n",
    "\n",
    "# Inferer\n",
    "inferer = DiffusionInferer(ldm_scheduler)\n",
    "\n",
    "# Output folder\n",
    "output_folder = '/content/output'"
   ]
  },
  {
   "cell_type": "markdown",
   "metadata": {
    "id": "-AWQRL1g1km-"
   },
   "source": [
    "# Code to train unconditional LDM"
   ]
  },
  {
   "cell_type": "code",
   "execution_count": 11,
   "metadata": {
    "colab": {
     "base_uri": "https://localhost:8080/",
     "height": 1000
    },
    "id": "nHiQzLZV1mWL",
    "outputId": "9dce80ff-c629-45c2-9e04-99a7ae928483",
    "scrolled": true
   },
   "outputs": [
    {
     "name": "stderr",
     "output_type": "stream",
     "text": [
      "/tmp/ipykernel_239138/773758884.py:43: FutureWarning: `torch.cuda.amp.GradScaler(args...)` is deprecated. Please use `torch.amp.GradScaler('cuda', args...)` instead.\n",
      "  scaler = GradScaler()\n",
      "/tmp/ipykernel_239138/773758884.py:71: FutureWarning: `torch.cuda.amp.autocast(args...)` is deprecated. Please use `torch.amp.autocast('cuda', args...)` instead.\n",
      "  with autocast(enabled=True):\n",
      "Epoch 0: 100%|█| 16/16 [00:10<00:00,  1.52it/s, loss=tensor(0.9511, de\n",
      "/tmp/ipykernel_239138/773758884.py:107: FutureWarning: `torch.cuda.amp.autocast(args...)` is deprecated. Please use `torch.amp.autocast('cuda', args...)` instead.\n",
      "  with autocast(enabled=True):\n",
      "/tmp/ipykernel_239138/773758884.py:135: FutureWarning: `torch.cuda.amp.autocast(args...)` is deprecated. Please use `torch.amp.autocast('cuda', args...)` instead.\n",
      "  with autocast(enabled=True):\n"
     ]
    },
    {
     "name": "stdout",
     "output_type": "stream",
     "text": [
      "Epoch 0, Training Loss: 7.800633072853088, Validation Loss: 0.9412400424480438\n"
     ]
    },
    {
     "name": "stderr",
     "output_type": "stream",
     "text": [
      "100%|███████████████████████████████████████████████████████████████████████████████| 1000/1000 [00:25<00:00, 39.18it/s]\n"
     ]
    },
    {
     "data": {
      "image/png": "[encoded data removed]",
      "text/plain": [
       "<Figure size 200x200 with 1 Axes>"
      ]
     },
     "metadata": {},
     "output_type": "display_data"
    },
    {
     "name": "stderr",
     "output_type": "stream",
     "text": [
      "Epoch 1: 100%|█| 16/16 [00:09<00:00,  1.66it/s, loss=tensor(0.8861, de\n"
     ]
    },
    {
     "name": "stdout",
     "output_type": "stream",
     "text": [
      "Epoch 1, Training Loss: 7.325996071100235, Validation Loss: 0.8771108090877533\n"
     ]
    },
    {
     "name": "stderr",
     "output_type": "stream",
     "text": [
      "100%|███████████████████████████████████████████████████████████████████████████████| 1000/1000 [00:24<00:00, 40.77it/s]\n"
     ]
    },
    {
     "data": {
      "image/png": "[encoded data removed]",
      "text/plain": [
       "<Figure size 200x200 with 1 Axes>"
      ]
     },
     "metadata": {},
     "output_type": "display_data"
    },
    {
     "name": "stderr",
     "output_type": "stream",
     "text": [
      "Epoch 2: 100%|█| 16/16 [00:05<00:00,  3.03it/s, loss=tensor(0.8277, de\n"
     ]
    },
    {
     "name": "stdout",
     "output_type": "stream",
     "text": [
      "Epoch 2, Training Loss: 6.776077032089233, Validation Loss: 0.8052684664726257\n"
     ]
    },
    {
     "name": "stderr",
     "output_type": "stream",
     "text": [
      "100%|███████████████████████████████████████████████████████████████████████████████| 1000/1000 [00:24<00:00, 40.60it/s]\n"
     ]
    },
    {
     "data": {
      "image/png": "[encoded data removed]",
      "text/plain": [
       "<Figure size 200x200 with 1 Axes>"
      ]
     },
     "metadata": {},
     "output_type": "display_data"
    },
    {
     "name": "stderr",
     "output_type": "stream",
     "text": [
      "Epoch 3: 100%|█| 16/16 [00:05<00:00,  3.10it/s, loss=tensor(0.7283, de\n"
     ]
    },
    {
     "name": "stdout",
     "output_type": "stream",
     "text": [
      "Epoch 3, Training Loss: 6.216964513063431, Validation Loss: 0.7288905382156372\n"
     ]
    },
    {
     "name": "stderr",
     "output_type": "stream",
     "text": [
      "100%|███████████████████████████████████████████████████████████████████████████████| 1000/1000 [00:23<00:00, 41.83it/s]\n"
     ]
    },
    {
     "data": {
      "image/png": "[encoded data removed]",
      "text/plain": [
       "<Figure size 200x200 with 1 Axes>"
      ]
     },
     "metadata": {},
     "output_type": "display_data"
    },
    {
     "name": "stderr",
     "output_type": "stream",
     "text": [
      "Epoch 4: 100%|█| 16/16 [00:05<00:00,  3.16it/s, loss=tensor(0.6849, de\n"
     ]
    },
    {
     "name": "stdout",
     "output_type": "stream",
     "text": [
      "Epoch 4, Training Loss: 5.663668096065521, Validation Loss: 0.6752346754074097\n"
     ]
    },
    {
     "name": "stderr",
     "output_type": "stream",
     "text": [
      "100%|███████████████████████████████████████████████████████████████████████████████| 1000/1000 [00:24<00:00, 41.57it/s]\n"
     ]
    },
    {
     "data": {
      "image/png": "[encoded data removed]",
      "text/plain": [
       "<Figure size 200x200 with 1 Axes>"
      ]
     },
     "metadata": {},
     "output_type": "display_data"
    },
    {
     "name": "stderr",
     "output_type": "stream",
     "text": [
      "Epoch 5: 100%|█| 16/16 [00:05<00:00,  3.10it/s, loss=tensor(0.5966, de\n"
     ]
    },
    {
     "name": "stdout",
     "output_type": "stream",
     "text": [
      "Epoch 5, Training Loss: 5.078965067863464, Validation Loss: 0.6036466062068939\n"
     ]
    },
    {
     "name": "stderr",
     "output_type": "stream",
     "text": [
      "100%|███████████████████████████████████████████████████████████████████████████████| 1000/1000 [00:24<00:00, 40.98it/s]\n"
     ]
    },
    {
     "data": {
      "image/png": "[encoded data removed]",
      "text/plain": [
       "<Figure size 200x200 with 1 Axes>"
      ]
     },
     "metadata": {},
     "output_type": "display_data"
    },
    {
     "name": "stderr",
     "output_type": "stream",
     "text": [
      "Epoch 6: 100%|█| 16/16 [00:05<00:00,  3.07it/s, loss=tensor(0.5355, de\n"
     ]
    },
    {
     "name": "stdout",
     "output_type": "stream",
     "text": [
      "Epoch 6, Training Loss: 4.569884032011032, Validation Loss: 0.5293979644775391\n"
     ]
    },
    {
     "name": "stderr",
     "output_type": "stream",
     "text": [
      "100%|███████████████████████████████████████████████████████████████████████████████| 1000/1000 [00:24<00:00, 40.56it/s]\n"
     ]
    },
    {
     "data": {
      "image/png": "[encoded data removed]",
      "text/plain": [
       "<Figure size 200x200 with 1 Axes>"
      ]
     },
     "metadata": {},
     "output_type": "display_data"
    },
    {
     "name": "stderr",
     "output_type": "stream",
     "text": [
      "Epoch 7: 100%|█| 16/16 [00:05<00:00,  3.05it/s, loss=tensor(0.4817, de\n"
     ]
    },
    {
     "name": "stdout",
     "output_type": "stream",
     "text": [
      "Epoch 7, Training Loss: 4.039052188396454, Validation Loss: 0.4711153656244278\n"
     ]
    },
    {
     "name": "stderr",
     "output_type": "stream",
     "text": [
      "100%|███████████████████████████████████████████████████████████████████████████████| 1000/1000 [00:24<00:00, 41.43it/s]\n"
     ]
    },
    {
     "data": {
      "image/png": "[encoded data removed]",
      "text/plain": [
       "<Figure size 200x200 with 1 Axes>"
      ]
     },
     "metadata": {},
     "output_type": "display_data"
    },
    {
     "name": "stderr",
     "output_type": "stream",
     "text": [
      "Epoch 8: 100%|█| 16/16 [00:05<00:00,  3.18it/s, loss=tensor(0.4308, de\n"
     ]
    },
    {
     "name": "stdout",
     "output_type": "stream",
     "text": [
      "Epoch 8, Training Loss: 3.6029237806797028, Validation Loss: 0.41701458394527435\n"
     ]
    },
    {
     "name": "stderr",
     "output_type": "stream",
     "text": [
      "100%|███████████████████████████████████████████████████████████████████████████████| 1000/1000 [00:24<00:00, 41.39it/s]\n"
     ]
    },
    {
     "data": {
      "image/png": "[encoded data removed]",
      "text/plain": [
       "<Figure size 200x200 with 1 Axes>"
      ]
     },
     "metadata": {},
     "output_type": "display_data"
    },
    {
     "name": "stderr",
     "output_type": "stream",
     "text": [
      "Epoch 9: 100%|█| 16/16 [00:05<00:00,  3.18it/s, loss=tensor(0.3680, de\n"
     ]
    },
    {
     "name": "stdout",
     "output_type": "stream",
     "text": [
      "Epoch 9, Training Loss: 3.1724102944135666, Validation Loss: 0.37091705203056335\n"
     ]
    },
    {
     "name": "stderr",
     "output_type": "stream",
     "text": [
      "100%|███████████████████████████████████████████████████████████████████████████████| 1000/1000 [00:22<00:00, 44.08it/s]\n"
     ]
    },
    {
     "data": {
      "image/png": "[encoded data removed]",
      "text/plain": [
       "<Figure size 200x200 with 1 Axes>"
      ]
     },
     "metadata": {},
     "output_type": "display_data"
    },
    {
     "name": "stderr",
     "output_type": "stream",
     "text": [
      "Epoch 10: 100%|█| 16/16 [00:05<00:00,  3.20it/s, loss=tensor(0.3285, d\n"
     ]
    },
    {
     "name": "stdout",
     "output_type": "stream",
     "text": [
      "Epoch 10, Training Loss: 2.781979024410248, Validation Loss: 0.32680073380470276\n"
     ]
    },
    {
     "name": "stderr",
     "output_type": "stream",
     "text": [
      "100%|███████████████████████████████████████████████████████████████████████████████| 1000/1000 [00:21<00:00, 46.29it/s]\n"
     ]
    },
    {
     "data": {
      "image/png": "[encoded data removed]",
      "text/plain": [
       "<Figure size 200x200 with 1 Axes>"
      ]
     },
     "metadata": {},
     "output_type": "display_data"
    },
    {
     "name": "stderr",
     "output_type": "stream",
     "text": [
      "Epoch 11: 100%|█| 16/16 [00:08<00:00,  1.84it/s, loss=tensor(0.2822, d\n"
     ]
    },
    {
     "name": "stdout",
     "output_type": "stream",
     "text": [
      "Epoch 11, Training Loss: 2.4212584048509598, Validation Loss: 0.27563436329364777\n"
     ]
    },
    {
     "name": "stderr",
     "output_type": "stream",
     "text": [
      "100%|███████████████████████████████████████████████████████████████████████████████| 1000/1000 [00:24<00:00, 40.58it/s]\n"
     ]
    },
    {
     "data": {
      "image/png": "[encoded data removed]",
      "text/plain": [
       "<Figure size 200x200 with 1 Axes>"
      ]
     },
     "metadata": {},
     "output_type": "display_data"
    },
    {
     "name": "stderr",
     "output_type": "stream",
     "text": [
      "Epoch 12: 100%|█| 16/16 [00:09<00:00,  1.63it/s, loss=tensor(0.2431, d\n"
     ]
    },
    {
     "name": "stdout",
     "output_type": "stream",
     "text": [
      "Epoch 12, Training Loss: 2.128137059509754, Validation Loss: 0.2453421726822853\n"
     ]
    },
    {
     "name": "stderr",
     "output_type": "stream",
     "text": [
      "100%|███████████████████████████████████████████████████████████████████████████████| 1000/1000 [00:25<00:00, 39.51it/s]\n"
     ]
    },
    {
     "data": {
      "image/png": "[encoded data removed]",
      "text/plain": [
       "<Figure size 200x200 with 1 Axes>"
      ]
     },
     "metadata": {},
     "output_type": "display_data"
    },
    {
     "name": "stderr",
     "output_type": "stream",
     "text": [
      "Epoch 13: 100%|█| 16/16 [00:08<00:00,  1.87it/s, loss=tensor(0.2104, d\n"
     ]
    },
    {
     "name": "stdout",
     "output_type": "stream",
     "text": [
      "Epoch 13, Training Loss: 1.8661535754799843, Validation Loss: 0.20944558084011078\n"
     ]
    },
    {
     "name": "stderr",
     "output_type": "stream",
     "text": [
      "IOPub message rate exceeded.████████████████████████▏                                | 590/1000 [00:49<00:11, 36.44it/s]\n",
      "The Jupyter server will temporarily stop sending output\n",
      "to the client in order to avoid crashing it.\n",
      "To change this limit, set the config variable\n",
      "`--ServerApp.iopub_msg_rate_limit`.\n",
      "\n",
      "Current values:\n",
      "ServerApp.iopub_msg_rate_limit=1000.0 (msgs/sec)\n",
      "ServerApp.rate_limit_window=3.0 (secs)\n",
      "\n",
      "Epoch 243: 100%|█| 16/16 [00:05<00:00,  3.12it/s, loss=tensor(0.0023, \n"
     ]
    },
    {
     "name": "stdout",
     "output_type": "stream",
     "text": [
      "Epoch 243, Training Loss: 0.01946516113821417, Validation Loss: 0.002934687538072467\n"
     ]
    },
    {
     "name": "stderr",
     "output_type": "stream",
     "text": [
      "Epoch 244: 100%|█| 16/16 [00:05<00:00,  3.06it/s, loss=tensor(0.0031, \n"
     ]
    },
    {
     "name": "stdout",
     "output_type": "stream",
     "text": [
      "Epoch 244, Training Loss: 0.023554467828944325, Validation Loss: 0.0025271576596423984\n"
     ]
    },
    {
     "name": "stderr",
     "output_type": "stream",
     "text": [
      "Epoch 245: 100%|█| 16/16 [00:05<00:00,  3.12it/s, loss=tensor(0.0024, \n"
     ]
    },
    {
     "name": "stdout",
     "output_type": "stream",
     "text": [
      "Epoch 245, Training Loss: 0.022960325703024864, Validation Loss: 0.002341157291084528\n"
     ]
    },
    {
     "name": "stderr",
     "output_type": "stream",
     "text": [
      "Epoch 246: 100%|█| 16/16 [00:05<00:00,  3.11it/s, loss=tensor(0.0037, \n"
     ]
    },
    {
     "name": "stdout",
     "output_type": "stream",
     "text": [
      "Epoch 246, Training Loss: 0.024354137072805315, Validation Loss: 0.002354500349611044\n"
     ]
    },
    {
     "name": "stderr",
     "output_type": "stream",
     "text": [
      "Epoch 247: 100%|█| 16/16 [00:05<00:00,  3.16it/s, loss=tensor(0.0019, \n"
     ]
    },
    {
     "name": "stdout",
     "output_type": "stream",
     "text": [
      "Epoch 247, Training Loss: 0.022880452568642795, Validation Loss: 0.0022479709004983306\n"
     ]
    },
    {
     "name": "stderr",
     "output_type": "stream",
     "text": [
      "Epoch 248: 100%|█| 16/16 [00:05<00:00,  3.17it/s, loss=tensor(0.0047, \n"
     ]
    },
    {
     "name": "stdout",
     "output_type": "stream",
     "text": [
      "Epoch 248, Training Loss: 0.021875271457247436, Validation Loss: 0.002132623631041497\n"
     ]
    },
    {
     "name": "stderr",
     "output_type": "stream",
     "text": [
      "Epoch 249: 100%|█| 16/16 [00:04<00:00,  3.22it/s, loss=tensor(0.0055, \n"
     ]
    },
    {
     "name": "stdout",
     "output_type": "stream",
     "text": [
      "Epoch 249, Training Loss: 0.03892678860574961, Validation Loss: 0.0027573100524023175\n"
     ]
    },
    {
     "name": "stderr",
     "output_type": "stream",
     "text": [
      "Epoch 250: 100%|█| 16/16 [00:05<00:00,  3.18it/s, loss=tensor(0.0030, \n"
     ]
    },
    {
     "name": "stdout",
     "output_type": "stream",
     "text": [
      "Epoch 250, Training Loss: 0.03305052744690329, Validation Loss: 0.002858210471458733\n"
     ]
    },
    {
     "name": "stderr",
     "output_type": "stream",
     "text": [
      "Epoch 251: 100%|█| 16/16 [00:05<00:00,  3.20it/s, loss=tensor(0.0033, \n"
     ]
    },
    {
     "name": "stdout",
     "output_type": "stream",
     "text": [
      "Epoch 251, Training Loss: 0.029083028784953058, Validation Loss: 0.004007921786978841\n"
     ]
    },
    {
     "name": "stderr",
     "output_type": "stream",
     "text": [
      "Epoch 252: 100%|█| 16/16 [00:04<00:00,  3.21it/s, loss=tensor(0.0017, \n"
     ]
    },
    {
     "name": "stdout",
     "output_type": "stream",
     "text": [
      "Epoch 252, Training Loss: 0.02284592919750139, Validation Loss: 0.00216494919732213\n"
     ]
    },
    {
     "name": "stderr",
     "output_type": "stream",
     "text": [
      "Epoch 253: 100%|█| 16/16 [00:05<00:00,  3.19it/s, loss=tensor(0.0024, \n"
     ]
    },
    {
     "name": "stdout",
     "output_type": "stream",
     "text": [
      "Epoch 253, Training Loss: 0.016973964753560722, Validation Loss: 0.003001052886247635\n"
     ]
    },
    {
     "name": "stderr",
     "output_type": "stream",
     "text": [
      "Epoch 254: 100%|█| 16/16 [00:04<00:00,  3.22it/s, loss=tensor(0.0019, \n"
     ]
    },
    {
     "name": "stdout",
     "output_type": "stream",
     "text": [
      "Epoch 254, Training Loss: 0.015647226420696825, Validation Loss: 0.002605757676064968\n"
     ]
    },
    {
     "name": "stderr",
     "output_type": "stream",
     "text": [
      "Epoch 255: 100%|█| 16/16 [00:04<00:00,  3.20it/s, loss=tensor(0.0019, \n"
     ]
    },
    {
     "name": "stdout",
     "output_type": "stream",
     "text": [
      "Epoch 255, Training Loss: 0.015118570881895721, Validation Loss: 0.001674044004175812\n"
     ]
    },
    {
     "name": "stderr",
     "output_type": "stream",
     "text": [
      "100%|███████████████████████████████████████████████████████████████████████████████| 1000/1000 [00:22<00:00, 45.00it/s]\n"
     ]
    },
    {
     "data": {
      "image/png": "[encoded data removed]",
      "text/plain": [
       "<Figure size 200x200 with 1 Axes>"
      ]
     },
     "metadata": {},
     "output_type": "display_data"
    },
    {
     "name": "stderr",
     "output_type": "stream",
     "text": [
      "Epoch 256: 100%|█| 16/16 [00:09<00:00,  1.74it/s, loss=tensor(0.0024, \n"
     ]
    },
    {
     "name": "stdout",
     "output_type": "stream",
     "text": [
      "Epoch 256, Training Loss: 0.02342200791463256, Validation Loss: 0.0016998136416077614\n"
     ]
    },
    {
     "name": "stderr",
     "output_type": "stream",
     "text": [
      "Epoch 257: 100%|█| 16/16 [00:09<00:00,  1.64it/s, loss=tensor(0.0023, \n"
     ]
    },
    {
     "name": "stdout",
     "output_type": "stream",
     "text": [
      "Epoch 257, Training Loss: 0.022209892340470105, Validation Loss: 0.002134630223736167\n"
     ]
    },
    {
     "name": "stderr",
     "output_type": "stream",
     "text": [
      "Epoch 258: 100%|█| 16/16 [00:09<00:00,  1.70it/s, loss=tensor(0.0015, \n"
     ]
    },
    {
     "name": "stdout",
     "output_type": "stream",
     "text": [
      "Epoch 258, Training Loss: 0.018945693620480597, Validation Loss: 0.0034049596288241446\n"
     ]
    },
    {
     "name": "stderr",
     "output_type": "stream",
     "text": [
      "Epoch 259: 100%|█| 16/16 [00:09<00:00,  1.75it/s, loss=tensor(0.0019, \n"
     ]
    },
    {
     "name": "stdout",
     "output_type": "stream",
     "text": [
      "Epoch 259, Training Loss: 0.01942764630075544, Validation Loss: 0.0020609612693078816\n"
     ]
    },
    {
     "name": "stderr",
     "output_type": "stream",
     "text": [
      "Epoch 260: 100%|█| 16/16 [00:08<00:00,  1.78it/s, loss=tensor(0.0018, \n"
     ]
    },
    {
     "name": "stdout",
     "output_type": "stream",
     "text": [
      "Epoch 260, Training Loss: 0.017095532035455108, Validation Loss: 0.002421650802716613\n"
     ]
    },
    {
     "name": "stderr",
     "output_type": "stream",
     "text": [
      "Epoch 261: 100%|█| 16/16 [00:19<00:00,  1.19s/it, loss=tensor(0.0017, \n"
     ]
    },
    {
     "name": "stdout",
     "output_type": "stream",
     "text": [
      "Epoch 261, Training Loss: 0.016300696588587016, Validation Loss: 0.0019648525048978627\n"
     ]
    },
    {
     "name": "stderr",
     "output_type": "stream",
     "text": [
      "Epoch 262: 100%|█| 16/16 [00:19<00:00,  1.24s/it, loss=tensor(0.0015, \n"
     ]
    },
    {
     "name": "stdout",
     "output_type": "stream",
     "text": [
      "Epoch 262, Training Loss: 0.01578531536506489, Validation Loss: 0.0017358348704874516\n"
     ]
    },
    {
     "name": "stderr",
     "output_type": "stream",
     "text": [
      "Epoch 263: 100%|█| 16/16 [00:15<00:00,  1.03it/s, loss=tensor(0.0019, \n"
     ]
    },
    {
     "name": "stdout",
     "output_type": "stream",
     "text": [
      "Epoch 263, Training Loss: 0.015061272366438061, Validation Loss: 0.0020808957633562386\n"
     ]
    },
    {
     "name": "stderr",
     "output_type": "stream",
     "text": [
      "Epoch 264: 100%|█| 16/16 [00:09<00:00,  1.67it/s, loss=tensor(0.0015, \n"
     ]
    },
    {
     "name": "stdout",
     "output_type": "stream",
     "text": [
      "Epoch 264, Training Loss: 0.013269965595100075, Validation Loss: 0.0018222681828774512\n"
     ]
    },
    {
     "name": "stderr",
     "output_type": "stream",
     "text": [
      "Epoch 265: 100%|█| 16/16 [00:09<00:00,  1.76it/s, loss=tensor(0.0017, \n"
     ]
    },
    {
     "name": "stdout",
     "output_type": "stream",
     "text": [
      "Epoch 265, Training Loss: 0.013317967299371958, Validation Loss: 0.001886519545223564\n"
     ]
    },
    {
     "name": "stderr",
     "output_type": "stream",
     "text": [
      "Epoch 266: 100%|█| 16/16 [00:09<00:00,  1.63it/s, loss=tensor(0.0018, \n"
     ]
    },
    {
     "name": "stdout",
     "output_type": "stream",
     "text": [
      "Epoch 266, Training Loss: 0.013135459623299539, Validation Loss: 0.0015237309271469712\n"
     ]
    },
    {
     "name": "stderr",
     "output_type": "stream",
     "text": [
      "100%|███████████████████████████████████████████████████████████████████████████████| 1000/1000 [00:25<00:00, 39.48it/s]\n"
     ]
    },
    {
     "data": {
      "image/png": "[encoded data removed]",
      "text/plain": [
       "<Figure size 200x200 with 1 Axes>"
      ]
     },
     "metadata": {},
     "output_type": "display_data"
    },
    {
     "name": "stderr",
     "output_type": "stream",
     "text": [
      "Epoch 267: 100%|█| 16/16 [00:09<00:00,  1.64it/s, loss=tensor(0.0017, \n"
     ]
    },
    {
     "name": "stdout",
     "output_type": "stream",
     "text": [
      "Epoch 267, Training Loss: 0.013743147370405495, Validation Loss: 0.0018672376172617078\n"
     ]
    },
    {
     "name": "stderr",
     "output_type": "stream",
     "text": [
      "Epoch 268: 100%|█| 16/16 [00:08<00:00,  1.89it/s, loss=tensor(0.0016, \n"
     ]
    },
    {
     "name": "stdout",
     "output_type": "stream",
     "text": [
      "Epoch 268, Training Loss: 0.013324636383913457, Validation Loss: 0.0017598546110093594\n"
     ]
    },
    {
     "name": "stderr",
     "output_type": "stream",
     "text": [
      "Epoch 269: 100%|█| 16/16 [00:09<00:00,  1.63it/s, loss=tensor(0.0019, \n"
     ]
    },
    {
     "name": "stdout",
     "output_type": "stream",
     "text": [
      "Epoch 269, Training Loss: 0.016962291963864118, Validation Loss: 0.002851783181540668\n"
     ]
    },
    {
     "name": "stderr",
     "output_type": "stream",
     "text": [
      "Epoch 270: 100%|█| 16/16 [00:09<00:00,  1.67it/s, loss=tensor(0.0017, \n"
     ]
    },
    {
     "name": "stdout",
     "output_type": "stream",
     "text": [
      "Epoch 270, Training Loss: 0.020199836930260062, Validation Loss: 0.004096256801858544\n"
     ]
    },
    {
     "name": "stderr",
     "output_type": "stream",
     "text": [
      "Epoch 271: 100%|█| 16/16 [00:08<00:00,  1.83it/s, loss=tensor(0.0039, \n"
     ]
    },
    {
     "name": "stdout",
     "output_type": "stream",
     "text": [
      "Epoch 271, Training Loss: 0.018321479845326394, Validation Loss: 0.002877468941733241\n"
     ]
    },
    {
     "name": "stderr",
     "output_type": "stream",
     "text": [
      "Epoch 272: 100%|█| 16/16 [00:13<00:00,  1.21it/s, loss=tensor(0.0164, \n"
     ]
    },
    {
     "name": "stdout",
     "output_type": "stream",
     "text": [
      "Epoch 272, Training Loss: 0.03383432701230049, Validation Loss: 0.0031424949411302805\n"
     ]
    },
    {
     "name": "stderr",
     "output_type": "stream",
     "text": [
      "Epoch 273: 100%|█| 16/16 [00:17<00:00,  1.08s/it, loss=tensor(0.0052, \n"
     ]
    },
    {
     "name": "stdout",
     "output_type": "stream",
     "text": [
      "Epoch 273, Training Loss: 0.04532291297800839, Validation Loss: 0.00401613162830472\n"
     ]
    },
    {
     "name": "stderr",
     "output_type": "stream",
     "text": [
      "Epoch 274: 100%|█| 16/16 [00:16<00:00,  1.01s/it, loss=tensor(0.0061, \n"
     ]
    },
    {
     "name": "stdout",
     "output_type": "stream",
     "text": [
      "Epoch 274, Training Loss: 0.03504311584401876, Validation Loss: 0.008058511652052402\n"
     ]
    },
    {
     "name": "stderr",
     "output_type": "stream",
     "text": [
      "Epoch 275: 100%|█| 16/16 [00:12<00:00,  1.29it/s, loss=tensor(0.0023, \n"
     ]
    },
    {
     "name": "stdout",
     "output_type": "stream",
     "text": [
      "Epoch 275, Training Loss: 0.025850468664430082, Validation Loss: 0.0026442842790856957\n"
     ]
    },
    {
     "name": "stderr",
     "output_type": "stream",
     "text": [
      "Epoch 276: 100%|█| 16/16 [00:09<00:00,  1.69it/s, loss=tensor(0.0018, \n"
     ]
    },
    {
     "name": "stdout",
     "output_type": "stream",
     "text": [
      "Epoch 276, Training Loss: 0.020834361959714442, Validation Loss: 0.0022186461137607694\n"
     ]
    },
    {
     "name": "stderr",
     "output_type": "stream",
     "text": [
      "Epoch 277: 100%|█| 16/16 [00:08<00:00,  1.83it/s, loss=tensor(0.0028, \n"
     ]
    },
    {
     "name": "stdout",
     "output_type": "stream",
     "text": [
      "Epoch 277, Training Loss: 0.025189620384480804, Validation Loss: 0.0025795906549319625\n"
     ]
    },
    {
     "name": "stderr",
     "output_type": "stream",
     "text": [
      "Epoch 278: 100%|█| 16/16 [00:09<00:00,  1.64it/s, loss=tensor(0.0033, \n"
     ]
    },
    {
     "name": "stdout",
     "output_type": "stream",
     "text": [
      "Epoch 278, Training Loss: 0.02088453876785934, Validation Loss: 0.0024806283181533217\n"
     ]
    },
    {
     "name": "stderr",
     "output_type": "stream",
     "text": [
      "Epoch 279: 100%|█| 16/16 [00:09<00:00,  1.68it/s, loss=tensor(0.0028, \n"
     ]
    },
    {
     "name": "stdout",
     "output_type": "stream",
     "text": [
      "Epoch 279, Training Loss: 0.01924595976015553, Validation Loss: 0.0024641993222758174\n"
     ]
    },
    {
     "name": "stderr",
     "output_type": "stream",
     "text": [
      "Epoch 280: 100%|█| 16/16 [00:08<00:00,  1.78it/s, loss=tensor(0.0026, \n"
     ]
    },
    {
     "name": "stdout",
     "output_type": "stream",
     "text": [
      "Epoch 280, Training Loss: 0.017124532780144364, Validation Loss: 0.0016962616937234998\n"
     ]
    },
    {
     "name": "stderr",
     "output_type": "stream",
     "text": [
      "Epoch 281: 100%|█| 16/16 [00:09<00:00,  1.66it/s, loss=tensor(0.0018, \n"
     ]
    },
    {
     "name": "stdout",
     "output_type": "stream",
     "text": [
      "Epoch 281, Training Loss: 0.01708050724118948, Validation Loss: 0.002690513036213815\n"
     ]
    },
    {
     "name": "stderr",
     "output_type": "stream",
     "text": [
      "Epoch 282: 100%|█| 16/16 [00:09<00:00,  1.65it/s, loss=tensor(0.0014, \n"
     ]
    },
    {
     "name": "stdout",
     "output_type": "stream",
     "text": [
      "Epoch 282, Training Loss: 0.018473743402864784, Validation Loss: 0.0026365750236436725\n"
     ]
    },
    {
     "name": "stderr",
     "output_type": "stream",
     "text": [
      "Epoch 283: 100%|█| 16/16 [00:09<00:00,  1.75it/s, loss=tensor(0.0020, \n"
     ]
    },
    {
     "name": "stdout",
     "output_type": "stream",
     "text": [
      "Epoch 283, Training Loss: 0.017315989185590297, Validation Loss: 0.0016802599420771003\n"
     ]
    },
    {
     "name": "stderr",
     "output_type": "stream",
     "text": [
      "Epoch 284: 100%|█| 16/16 [00:09<00:00,  1.69it/s, loss=tensor(0.0016, \n"
     ]
    },
    {
     "name": "stdout",
     "output_type": "stream",
     "text": [
      "Epoch 284, Training Loss: 0.014922785281669348, Validation Loss: 0.0017734747380018234\n"
     ]
    },
    {
     "name": "stderr",
     "output_type": "stream",
     "text": [
      "Epoch 285: 100%|█| 16/16 [00:09<00:00,  1.66it/s, loss=tensor(0.0014, \n"
     ]
    },
    {
     "name": "stdout",
     "output_type": "stream",
     "text": [
      "Epoch 285, Training Loss: 0.013871395029127598, Validation Loss: 0.001675831968896091\n"
     ]
    },
    {
     "name": "stderr",
     "output_type": "stream",
     "text": [
      "Epoch 286: 100%|█| 16/16 [00:12<00:00,  1.25it/s, loss=tensor(0.0080, \n"
     ]
    },
    {
     "name": "stdout",
     "output_type": "stream",
     "text": [
      "Epoch 286, Training Loss: 0.020524426246993244, Validation Loss: 0.004216598463244736\n"
     ]
    },
    {
     "name": "stderr",
     "output_type": "stream",
     "text": [
      "Epoch 287: 100%|█| 16/16 [00:16<00:00,  1.02s/it, loss=tensor(0.0035, \n"
     ]
    },
    {
     "name": "stdout",
     "output_type": "stream",
     "text": [
      "Epoch 287, Training Loss: 0.025555865839123726, Validation Loss: 0.0047629979671910405\n"
     ]
    },
    {
     "name": "stderr",
     "output_type": "stream",
     "text": [
      "Epoch 288: 100%|█| 16/16 [00:15<00:00,  1.07it/s, loss=tensor(0.0017, \n"
     ]
    },
    {
     "name": "stdout",
     "output_type": "stream",
     "text": [
      "Epoch 288, Training Loss: 0.025339556683320552, Validation Loss: 0.0038840463384985924\n"
     ]
    },
    {
     "name": "stderr",
     "output_type": "stream",
     "text": [
      "Epoch 289: 100%|█| 16/16 [00:14<00:00,  1.09it/s, loss=tensor(0.0017, \n"
     ]
    },
    {
     "name": "stdout",
     "output_type": "stream",
     "text": [
      "Epoch 289, Training Loss: 0.019799249770585448, Validation Loss: 0.002119618409778923\n"
     ]
    },
    {
     "name": "stderr",
     "output_type": "stream",
     "text": [
      "Epoch 290: 100%|█| 16/16 [00:09<00:00,  1.74it/s, loss=tensor(0.0017, \n"
     ]
    },
    {
     "name": "stdout",
     "output_type": "stream",
     "text": [
      "Epoch 290, Training Loss: 0.014449605019763112, Validation Loss: 0.0018153100972995162\n"
     ]
    },
    {
     "name": "stderr",
     "output_type": "stream",
     "text": [
      "Epoch 291: 100%|█| 16/16 [00:07<00:00,  2.12it/s, loss=tensor(0.0030, \n"
     ]
    },
    {
     "name": "stdout",
     "output_type": "stream",
     "text": [
      "Epoch 291, Training Loss: 0.041328812832944095, Validation Loss: 0.0037632371531799436\n"
     ]
    },
    {
     "name": "stderr",
     "output_type": "stream",
     "text": [
      "Epoch 292: 100%|█| 16/16 [00:05<00:00,  3.08it/s, loss=tensor(0.0047, \n"
     ]
    },
    {
     "name": "stdout",
     "output_type": "stream",
     "text": [
      "Epoch 292, Training Loss: 0.03243675176054239, Validation Loss: 0.0029745056526735425\n"
     ]
    },
    {
     "name": "stderr",
     "output_type": "stream",
     "text": [
      "Epoch 293: 100%|█| 16/16 [00:05<00:00,  3.14it/s, loss=tensor(0.0028, \n"
     ]
    },
    {
     "name": "stdout",
     "output_type": "stream",
     "text": [
      "Epoch 293, Training Loss: 0.031856828019954264, Validation Loss: 0.0029341517947614193\n"
     ]
    },
    {
     "name": "stderr",
     "output_type": "stream",
     "text": [
      "Epoch 294: 100%|█| 16/16 [00:05<00:00,  3.02it/s, loss=tensor(0.0019, \n"
     ]
    },
    {
     "name": "stdout",
     "output_type": "stream",
     "text": [
      "Epoch 294, Training Loss: 0.022561501420568675, Validation Loss: 0.002967843087390065\n"
     ]
    },
    {
     "name": "stderr",
     "output_type": "stream",
     "text": [
      "Epoch 295: 100%|█| 16/16 [00:05<00:00,  3.09it/s, loss=tensor(0.0020, \n"
     ]
    },
    {
     "name": "stdout",
     "output_type": "stream",
     "text": [
      "Epoch 295, Training Loss: 0.025262467039283365, Validation Loss: 0.003772872034460306\n"
     ]
    },
    {
     "name": "stderr",
     "output_type": "stream",
     "text": [
      "Epoch 296: 100%|█| 16/16 [00:05<00:00,  3.08it/s, loss=tensor(0.0019, \n"
     ]
    },
    {
     "name": "stdout",
     "output_type": "stream",
     "text": [
      "Epoch 296, Training Loss: 0.020130837336182594, Validation Loss: 0.003255230956710875\n"
     ]
    },
    {
     "name": "stderr",
     "output_type": "stream",
     "text": [
      "Epoch 297: 100%|█| 16/16 [00:05<00:00,  3.11it/s, loss=tensor(0.0038, \n"
     ]
    },
    {
     "name": "stdout",
     "output_type": "stream",
     "text": [
      "Epoch 297, Training Loss: 0.03124035318614915, Validation Loss: 0.0061603335198014975\n"
     ]
    },
    {
     "name": "stderr",
     "output_type": "stream",
     "text": [
      "Epoch 298: 100%|█| 16/16 [00:05<00:00,  3.08it/s, loss=tensor(0.0017, \n"
     ]
    },
    {
     "name": "stdout",
     "output_type": "stream",
     "text": [
      "Epoch 298, Training Loss: 0.019638595753349364, Validation Loss: 0.0018204297521151602\n"
     ]
    },
    {
     "name": "stderr",
     "output_type": "stream",
     "text": [
      "Epoch 299: 100%|█| 16/16 [00:05<00:00,  3.05it/s, loss=tensor(0.0024, \n"
     ]
    },
    {
     "name": "stdout",
     "output_type": "stream",
     "text": [
      "Epoch 299, Training Loss: 0.01825428649317473, Validation Loss: 0.0016623295960016549\n"
     ]
    },
    {
     "name": "stderr",
     "output_type": "stream",
     "text": [
      "Epoch 300: 100%|█| 16/16 [00:05<00:00,  3.10it/s, loss=tensor(0.0013, \n"
     ]
    },
    {
     "name": "stdout",
     "output_type": "stream",
     "text": [
      "Epoch 300, Training Loss: 0.012710680603049695, Validation Loss: 0.001650136080570519\n"
     ]
    },
    {
     "name": "stderr",
     "output_type": "stream",
     "text": [
      "Epoch 301: 100%|█| 16/16 [00:05<00:00,  3.15it/s, loss=tensor(0.0017, \n"
     ]
    },
    {
     "name": "stdout",
     "output_type": "stream",
     "text": [
      "Epoch 301, Training Loss: 0.012906283955089748, Validation Loss: 0.0016489076660946012\n"
     ]
    },
    {
     "name": "stderr",
     "output_type": "stream",
     "text": [
      "Epoch 302: 100%|█| 16/16 [00:05<00:00,  3.10it/s, loss=tensor(0.0026, \n"
     ]
    },
    {
     "name": "stdout",
     "output_type": "stream",
     "text": [
      "Epoch 302, Training Loss: 0.01500877586659044, Validation Loss: 0.0020911595784127712\n"
     ]
    },
    {
     "name": "stderr",
     "output_type": "stream",
     "text": [
      "Epoch 303: 100%|█| 16/16 [00:05<00:00,  3.10it/s, loss=tensor(0.0039, \n"
     ]
    },
    {
     "name": "stdout",
     "output_type": "stream",
     "text": [
      "Epoch 303, Training Loss: 0.017734884517267346, Validation Loss: 0.001446243142709136\n"
     ]
    },
    {
     "name": "stderr",
     "output_type": "stream",
     "text": [
      "100%|███████████████████████████████████████████████████████████████████████████████| 1000/1000 [00:34<00:00, 28.59it/s]\n"
     ]
    },
    {
     "data": {
      "image/png": "[encoded data removed]",
      "text/plain": [
       "<Figure size 200x200 with 1 Axes>"
      ]
     },
     "metadata": {},
     "output_type": "display_data"
    },
    {
     "name": "stderr",
     "output_type": "stream",
     "text": [
      "Epoch 304: 100%|█| 16/16 [00:17<00:00,  1.07s/it, loss=tensor(0.0019, \n"
     ]
    },
    {
     "name": "stdout",
     "output_type": "stream",
     "text": [
      "Epoch 304, Training Loss: 0.01736622751923278, Validation Loss: 0.002979943878017366\n"
     ]
    },
    {
     "name": "stderr",
     "output_type": "stream",
     "text": [
      "Epoch 305: 100%|█| 16/16 [00:18<00:00,  1.14s/it, loss=tensor(0.0015, \n"
     ]
    },
    {
     "name": "stdout",
     "output_type": "stream",
     "text": [
      "Epoch 305, Training Loss: 0.014915823412593454, Validation Loss: 0.0022834365954622626\n"
     ]
    },
    {
     "name": "stderr",
     "output_type": "stream",
     "text": [
      "Epoch 306: 100%|█| 16/16 [00:05<00:00,  2.71it/s, loss=tensor(0.0066, \n"
     ]
    },
    {
     "name": "stdout",
     "output_type": "stream",
     "text": [
      "Epoch 306, Training Loss: 0.02129487827187404, Validation Loss: 0.0018036796827800572\n"
     ]
    },
    {
     "name": "stderr",
     "output_type": "stream",
     "text": [
      "Epoch 307: 100%|█| 16/16 [00:05<00:00,  3.16it/s, loss=tensor(0.0013, \n"
     ]
    },
    {
     "name": "stdout",
     "output_type": "stream",
     "text": [
      "Epoch 307, Training Loss: 0.024824905791319907, Validation Loss: 0.0028602476231753826\n"
     ]
    },
    {
     "name": "stderr",
     "output_type": "stream",
     "text": [
      "Epoch 308: 100%|█| 16/16 [00:05<00:00,  3.09it/s, loss=tensor(0.0078, \n"
     ]
    },
    {
     "name": "stdout",
     "output_type": "stream",
     "text": [
      "Epoch 308, Training Loss: 0.03217343462165445, Validation Loss: 0.004713293397799134\n"
     ]
    },
    {
     "name": "stderr",
     "output_type": "stream",
     "text": [
      "Epoch 309: 100%|█| 16/16 [00:05<00:00,  3.08it/s, loss=tensor(0.0041, \n"
     ]
    },
    {
     "name": "stdout",
     "output_type": "stream",
     "text": [
      "Epoch 309, Training Loss: 0.052562848664820194, Validation Loss: 0.004089451860636473\n"
     ]
    },
    {
     "name": "stderr",
     "output_type": "stream",
     "text": [
      "Epoch 310: 100%|█| 16/16 [00:05<00:00,  3.10it/s, loss=tensor(0.0029, \n"
     ]
    },
    {
     "name": "stdout",
     "output_type": "stream",
     "text": [
      "Epoch 310, Training Loss: 0.031259238603524864, Validation Loss: 0.0023534042993560433\n"
     ]
    },
    {
     "name": "stderr",
     "output_type": "stream",
     "text": [
      "Epoch 311: 100%|█| 16/16 [00:05<00:00,  3.09it/s, loss=tensor(0.0044, \n"
     ]
    },
    {
     "name": "stdout",
     "output_type": "stream",
     "text": [
      "Epoch 311, Training Loss: 0.021267252624966204, Validation Loss: 0.0015556823345832527\n"
     ]
    },
    {
     "name": "stderr",
     "output_type": "stream",
     "text": [
      "Epoch 312: 100%|█| 16/16 [00:05<00:00,  3.12it/s, loss=tensor(0.0024, \n"
     ]
    },
    {
     "name": "stdout",
     "output_type": "stream",
     "text": [
      "Epoch 312, Training Loss: 0.020001273485831916, Validation Loss: 0.002269396558403969\n"
     ]
    },
    {
     "name": "stderr",
     "output_type": "stream",
     "text": [
      "IOPub message rate exceeded.:04<00:00,  3.20it/s, loss=tensor(0.0014, \n",
      "The Jupyter server will temporarily stop sending output\n",
      "to the client in order to avoid crashing it.\n",
      "To change this limit, set the config variable\n",
      "`--ServerApp.iopub_msg_rate_limit`.\n",
      "\n",
      "Current values:\n",
      "ServerApp.iopub_msg_rate_limit=1000.0 (msgs/sec)\n",
      "ServerApp.rate_limit_window=3.0 (secs)\n",
      "\n"
     ]
    }
   ],
   "source": [
    "import time\n",
    "# Latent space: Batch size, latent channels, X, Y\n",
    "\n",
    "# Loss\n",
    "\n",
    "# Padding used for the latent space\n",
    "\n",
    "# Epoch loop\n",
    "\n",
    "# Dataloader loop\n",
    "\n",
    "# Encode data via latent space\n",
    "\n",
    "# Create noise like the mean\n",
    "\n",
    "# Timesteps\n",
    "\n",
    "# Set optimizer to zero\n",
    "\n",
    "# Initial prediction via inferer\n",
    "\n",
    "# Calculate loss\n",
    "\n",
    "# Send loss backwards\n",
    "\n",
    "# Optimizer step\n",
    "\n",
    "# Validation data_loader\n",
    "\n",
    "# Code for validation loss\n",
    "\n",
    "import time\n",
    "import torch\n",
    "import torch.nn.functional as F\n",
    "from torch.cuda.amp import GradScaler, autocast\n",
    "from tqdm import tqdm\n",
    "import matplotlib.pyplot as plt\n",
    "\n",
    "val_interval = 1\n",
    "epoch_loss_list = []\n",
    "val_epoch_loss_list = []\n",
    "\n",
    "scaler = GradScaler()\n",
    "total_start = time.time()\n",
    "\n",
    "vAE_model.eval()\n",
    "LDM_model.to(device)\n",
    "vAE_model.to(device)\n",
    "\n",
    "best_val = 1e3\n",
    "\n",
    "for epoch in range(training_epochs):\n",
    "\n",
    "\n",
    "\n",
    "    LDM_model.train()\n",
    "    epoch_loss = 0\n",
    "    progress_bar = tqdm(enumerate(train_loader), total=len(train_loader), ncols=70)\n",
    "    progress_bar.set_description(f\"Epoch {epoch}\")\n",
    "    for step, batch in progress_bar:\n",
    "        images, _ = batch\n",
    "        optimiser.zero_grad(set_to_none=True)\n",
    "\n",
    "        with torch.no_grad():\n",
    "          z_mean, z_std = vAE_model.encode(images.float().unsqueeze(dim=1).to(device))\n",
    "\n",
    "        padded_z_mean = F.pad(z_mean, (2, 2, 2, 2))  # pad 4 pixels on right and bottom\n",
    "\n",
    "        padded_z_mean = padded_z_mean.to(device)\n",
    "\n",
    "        with autocast(enabled=True):\n",
    "            # Generate random noise\n",
    "            noise = torch.randn_like(padded_z_mean).to(device)\n",
    "            # Create timesteps\n",
    "            timesteps = torch.randint(\n",
    "                0, inferer.scheduler.num_train_timesteps, (images.shape[0],), device=images.device\n",
    "            ).long().to(device)\n",
    "\n",
    "            # Get model prediction\n",
    "            noise_pred = inferer(inputs=padded_z_mean, diffusion_model=LDM_model, noise=noise, timesteps=timesteps)\n",
    "\n",
    "            loss = F.mse_loss(noise_pred.float(), noise.float())\n",
    "\n",
    "        scaler.scale(loss).backward()\n",
    "        scaler.step(optimiser)\n",
    "        scaler.update()\n",
    "\n",
    "        epoch_loss += loss.item()\n",
    "\n",
    "        progress_bar.set_postfix({\"loss\": loss})\n",
    "    epoch_loss_list.append(epoch_loss / (step + 1))\n",
    "\n",
    "    if (epoch + 1) % val_interval == 0:\n",
    "        LDM_model.eval()\n",
    "        val_epoch_loss = 0\n",
    "        for step, batch in enumerate(valid_loader):\n",
    "          images, _ = batch\n",
    "          optimiser.zero_grad(set_to_none=True)\n",
    "\n",
    "          with torch.no_grad():\n",
    "            z_mean, z_std = vAE_model.encode(images.float().unsqueeze(dim=1).to(device))\n",
    "\n",
    "            padded_z_mean = F.pad(z_mean, (2, 2, 2, 2))  # pad 4 pixels on right and bottom\n",
    "\n",
    "            padded_z_mean = padded_z_mean.to(device)\n",
    "\n",
    "            with autocast(enabled=True):\n",
    "                # Generate random noise\n",
    "                noise = torch.randn_like(padded_z_mean).to(device)\n",
    "                # Create timesteps\n",
    "                timesteps = torch.randint(\n",
    "                    0, inferer.scheduler.num_train_timesteps, (images.shape[0],), device=images.device\n",
    "                ).long().to(device)\n",
    "\n",
    "                # Get model prediction\n",
    "                noise_pred = inferer(inputs=padded_z_mean, diffusion_model=LDM_model, noise=noise, timesteps=timesteps)\n",
    "\n",
    "                val_loss = F.mse_loss(noise_pred.float(), noise.float())\n",
    "\n",
    "            val_epoch_loss += val_loss.item()\n",
    "            progress_bar.set_postfix({\"val_loss\": val_epoch_loss / (step + 1)})\n",
    "\n",
    "        val_epoch_loss_list.append(val_epoch_loss / (step + 1))\n",
    "\n",
    "        print(f\"Epoch {epoch}, Training Loss: {epoch_loss / (step + 1)}, Validation Loss: {val_epoch_loss / (step + 1)}\")\n",
    "\n",
    "        if val_epoch_loss / (step + 1) < best_val:\n",
    "          best_val = val_epoch_loss / (step + 1)\n",
    "          torch.save(LDM_model.state_dict(), os.path.join('Checkpoints', f\"trained_LDM_epoch_{epoch}.pt\"))\n",
    "\n",
    "          # Sampling image during training\n",
    "          noise = torch.randn((1, 1, 64, 64))\n",
    "          noise = noise.to(device)\n",
    "          ldm_scheduler.set_timesteps(num_inference_steps=1000)\n",
    "          with autocast(enabled=True):\n",
    "              image = inferer.sample(input_noise=noise, diffusion_model=LDM_model, scheduler=ldm_scheduler)\n",
    "              image = image[:, :, 2:-2, 2:-2]\n",
    "              image = vAE_model.decode(image).cpu().detach().numpy()\n",
    "\n",
    "          plt.figure(figsize=(2, 2))\n",
    "          plt.imshow(image[0, 0], vmin=0, vmax=1, cmap=\"gray\")\n",
    "          plt.tight_layout()\n",
    "          plt.axis(\"off\")\n",
    "          plt.show()\n",
    "\n",
    "total_time = time.time() - total_start\n",
    "print(f\"train completed, total time: {total_time}.\")"
   ]
  }
 ],
 "metadata": {
  "accelerator": "GPU",
  "colab": {
   "gpuType": "T4",
   "provenance": []
  },
  "kernelspec": {
   "display_name": "Python 3 (ipykernel)",
   "language": "python",
   "name": "python3"
  },
  "language_info": {
   "codemirror_mode": {
    "name": "ipython",
    "version": 3
   },
   "file_extension": ".py",
   "mimetype": "text/x-python",
   "name": "python",
   "nbconvert_exporter": "python",
   "pygments_lexer": "ipython3",
   "version": "3.10.12"
  }
 },
 "nbformat": 4,
 "nbformat_minor": 4
}
